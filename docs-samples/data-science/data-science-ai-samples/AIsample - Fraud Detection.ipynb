{
 "cells": [
  {
   "cell_type": "markdown",
   "id": "61a232a2-64a2-4f18-8bf6-75741a345a81",
   "metadata": {
    "nteract": {
     "transient": {
      "deleting": false
     }
    }
   },
   "source": [
    "# Creating, Evaluating, and Deploying a Fraud Detection System"
   ]
  },
  {
   "cell_type": "markdown",
   "id": "f3248560-b758-4daa-8f66-f86024368ce7",
   "metadata": {},
   "source": [
    "## Introduction\n",
    "\n",
    "In this notebook, we'll demonstrate the Microsoft Fabric data science workflow with an end-to-end example. The scenario is to build a fraud detection system that relies on ML algorithms trained on historical data consisting of previous examples of fraud in order to understand the characteristic patterns of the fraudulent events to recognize them once they recur.\n",
    "\n",
    "The summary of main steps we take in this notebook are as following:\n",
    "\n",
    "1. Install custom libraries\n",
    "2. Load and process the data\n",
    "3. Understand the data using exploratory data analysis\n",
    "4. Train a machine learning model using Scikit-Learn and MLflow\n",
    "5. Save and register the best performing machine learning model\n",
    "6. Load the machine learning model for scoring and make predictions\n",
    "\n",
    "#### Prerequisites\n",
    "- Have a lakehouse added to this notebook. We will be downloading data from a public blob, and storing that in the lakehouse. "
   ]
  },
  {
   "cell_type": "markdown",
   "id": "09f17a8a-dc0c-4363-bb0c-3fc26ebc9031",
   "metadata": {
    "nteract": {
     "transient": {
      "deleting": false
     }
    }
   },
   "source": [
    "## Step 1: Install Custom Libraries\n",
    "When developing a machine learning model or doing ad-hoc data analysis, we may need to quickly install a custom library for your Apache Spark session. To do this, we have two choices. \n",
    "\n",
    "1. We can use the in-line installation capabilities (e.g., pip, conda, etc.) to quickly get started with new libraries. In this notebook, we'll use `imblearn` which first needs to be installed.\n",
    "\n",
    "```python\n",
    "# Use pip to install libraries\n",
    "%pip install <library name>\n",
    "\n",
    "# Use conda to install libraries\n",
    "%conda install <library name>\n",
    " \n",
    "```\n",
    "2. Alternatively, we can install the required libraries in the workspace. Navigate to the workspace setting as shown below and then click on Library management.\n",
    "\n",
    "<img style=\"float: left;\" src=\"https://synapseaisolutionsa.blob.core.windows.net/public/Credit_Card_Fraud_Detection/librarymanagement2.png\"  width=\"45%\" height=\"10%\">\n",
    "<img style=\"float: left;\" src=\"https://synapseaisolutionsa.blob.core.windows.net/public/Credit_Card_Fraud_Detection/librarymanagement1.png\"  width=\"45%\" height=\"10%\"> \n"
   ]
  },
  {
   "cell_type": "markdown",
   "id": "72a2db10-43e3-43a4-b34f-81c33b3ba210",
   "metadata": {
    "nteract": {
     "transient": {
      "deleting": false
     }
    }
   },
   "source": [
    "We can then select how to install the required libraries, e.g., add from PyPi, add from .yml file, etc. Since we are using PyPi, we click on + Add from PyPi and then select the desired libraries and their corresponding versions from the drop down and then click on the Apply. This will automatically install all selected libraries in the workspace.\n",
    "\n",
    "<img src=\"https://synapseaisolutionsa.blob.core.windows.net/public/Credit_Card_Fraud_Detection/librarymanagement3.png\"  width=\"40%\" height=\"10%\">"
   ]
  },
  {
   "cell_type": "markdown",
   "id": "e10f97cd-c4eb-43f2-8ed0-c3833c30221b",
   "metadata": {
    "nteract": {
     "transient": {
      "deleting": false
     }
    }
   },
   "source": [
    "#### Introduction to SMOTE\n",
    "\n",
    "The problem with imbalanced classification is that there are too few examples of the minority class for a model to effectively learn the decision boundary. Synthetic Minority Oversampling Technique (SMOTE) is the most widely used approach to synthesize new samples for the minority class. You can read more about SMOTE [here](https://imbalanced-learn.org/stable/references/generated/imblearn.over_sampling.SMOTE.html#) and [here](https://imbalanced-learn.org/stable/over_sampling.html#smote-adasyn).\n",
    "\n",
    "In order to install Imbalanced-learn (imported as imblearn) which is a library for SMOTE, we will proceed with the first approach in Step 1.\n"
   ]
  },
  {
   "cell_type": "code",
   "execution_count": null,
   "id": "ee593ea9-5a27-451d-8959-293fc38986f7",
   "metadata": {
    "jupyter": {
     "outputs_hidden": false,
     "source_hidden": false
    },
    "nteract": {
     "transient": {
      "deleting": false
     }
    }
   },
   "outputs": [
    {
     "data": {
      "application/vnd.livy.statement-meta+json": {
       "execution_finish_time": "2023-07-17T05:29:21.3306047Z",
       "execution_start_time": "2023-07-17T05:29:18.94588Z",
       "livy_statement_state": "available",
       "parent_msg_id": "d3730391-1c13-41d5-baeb-fd1d72632af7",
       "queued_time": "2023-07-17T05:28:57.0681812Z",
       "session_id": "563940d7-ec44-4e7f-9d02-3f4cc0d218d1",
       "session_start_time": null,
       "spark_jobs": {
        "jobs": [],
        "limit": 20,
        "numbers": {
         "FAILED": 0,
         "RUNNING": 0,
         "SUCCEEDED": 0,
         "UNKNOWN": 0
        },
        "rule": "ALL_DESC"
       },
       "spark_pool": null,
       "state": "finished",
       "statement_id": 8
      },
      "text/plain": [
       "StatementMeta(, 563940d7-ec44-4e7f-9d02-3f4cc0d218d1, 8, Finished, Available)"
      ]
     },
     "metadata": {},
     "output_type": "display_data"
    },
    {
     "data": {},
     "execution_count": null,
     "metadata": {},
     "output_type": "execute_result"
    },
    {
     "name": "stdout",
     "output_type": "stream",
     "text": [
      "Collecting imblearn\n",
      "  Downloading imblearn-0.0-py2.py3-none-any.whl (1.9 kB)\n",
      "Collecting imbalanced-learn\n",
      "  Downloading imbalanced_learn-0.11.0-py3-none-any.whl (235 kB)\n",
      "\u001b[2K     \u001b[90m━━━━━━━━━━━━━━━━━━━━━━━━━━━━━━━━━━━━━━━\u001b[0m \u001b[32m235.6/235.6 kB\u001b[0m \u001b[31m3.2 MB/s\u001b[0m eta \u001b[36m0:00:00\u001b[0ma \u001b[36m0:00:01\u001b[0m\n",
      "\u001b[?25hRequirement already satisfied: joblib>=1.1.1 in /home/trusted-service-user/cluster-env/trident_env/lib/python3.10/site-packages (from imbalanced-learn->imblearn) (1.2.0)\n",
      "Requirement already satisfied: scikit-learn>=1.0.2 in /home/trusted-service-user/cluster-env/trident_env/lib/python3.10/site-packages (from imbalanced-learn->imblearn) (1.2.0)\n",
      "Requirement already satisfied: threadpoolctl>=2.0.0 in /home/trusted-service-user/cluster-env/trident_env/lib/python3.10/site-packages (from imbalanced-learn->imblearn) (3.1.0)\n",
      "Requirement already satisfied: numpy>=1.17.3 in /home/trusted-service-user/cluster-env/trident_env/lib/python3.10/site-packages (from imbalanced-learn->imblearn) (1.23.5)\n",
      "Requirement already satisfied: scipy>=1.5.0 in /home/trusted-service-user/cluster-env/trident_env/lib/python3.10/site-packages (from imbalanced-learn->imblearn) (1.10.1)\n",
      "Installing collected packages: imbalanced-learn, imblearn\n",
      "Successfully installed imbalanced-learn-0.11.0 imblearn-0.0\n",
      "\n",
      "\u001b[1m[\u001b[0m\u001b[34;49mnotice\u001b[0m\u001b[1;39;49m]\u001b[0m\u001b[39;49m A new release of pip is available: \u001b[0m\u001b[31;49m23.0\u001b[0m\u001b[39;49m -> \u001b[0m\u001b[32;49m23.2\u001b[0m\n",
      "\u001b[1m[\u001b[0m\u001b[34;49mnotice\u001b[0m\u001b[1;39;49m]\u001b[0m\u001b[39;49m To update, run: \u001b[0m\u001b[32;49m/nfs4/pyenv-9b9b582b-c6fa-4634-a3b8-6e6f7a56aa25/bin/python -m pip install --upgrade pip\u001b[0m\n",
      "Note: you may need to restart the kernel to use updated packages.\n"
     ]
    },
    {
     "data": {},
     "execution_count": null,
     "metadata": {},
     "output_type": "execute_result"
    },
    {
     "name": "stdout",
     "output_type": "stream",
     "text": [
      "Warning: PySpark kernel has been restarted to use updated packages.\n",
      "\n"
     ]
    }
   ],
   "source": [
    "# Install imblearn for SMOTE using pip\n",
    "%pip install imblearn"
   ]
  },
  {
   "cell_type": "markdown",
   "id": "39e326f0-e4f8-463c-a0d4-d6d96a2544b7",
   "metadata": {},
   "source": [
    "## Step 2: Load the Data\n",
    "The fraud detection dataset contains credit card transactions made by European cardholders in September 2013 over the course of two days. The dataset only contains numerical features, which is the result of a Principal Component Analysis (PCA) transformation that was done on the original features. The only features that haven't been transformed with PCA are \"Time\" and \"Amount\". In order to protect confidentiality, we can't provide the original features or more background information about the dataset.\n",
    "\n",
    "- The features \"V1, V2, V3, …, V28\" are the principal components obtained with PCA.\n",
    "- The feature \"Time\" contains the seconds elapsed between each transaction and the first transaction in the dataset.\n",
    "- The feature \"Amount\" is the transaction amount. This feature can be used for example-dependent cost-sensitive learning.\n",
    "- The column \"Class\" is the response (target) variable and take the value 1 for fraud and 0 otherwise.\n",
    "\n",
    "Note that out of the 284,807 transactions, only 492 are fraudulent. Therefore, the minority class (fraud) only accounts for around 0.172% of the data which makes the dataset highly imbalanced.\n",
    "\n",
    "- creditcard.csv\n",
    "\n",
    "|\"Time\"|\"V1\"|\"V2\"|\"V3\"|\"V4\"|\"V5\"|\"V6\"|\"V7\"|\"V8\"|\"V9\"|\"V10\"|\"V11\"|\"V12\"|\"V13\"|\"V14\"|\"V15\"|\"V16\"|\"V17\"|\"V18\"|\"V19\"|\"V20\"|\"V21\"|\"V22\"|\"V23\"|\"V24\"|\"V25\"|\"V26\"|\"V27\"|\"V28\"|\"Amount\"|\"Class\"|\n",
    "|---|---|---|---|---|---|---|---|---|---|---|---|---|---|---|---|---|---|---|---|---|---|---|---|---|---|---|---|---|---|---|\n",
    "|0|-1.3598071336738|-0.0727811733098497|2.53634673796914|1.37815522427443|-0.338320769942518|0.462387777762292|0.239598554061257|0.0986979012610507|0.363786969611213|0.0907941719789316|-0.551599533260813|-0.617800855762348|-0.991389847235408|-0.311169353699879|1.46817697209427|-0.470400525259478|0.207971241929242|0.0257905801985591|0.403992960255733|0.251412098239705|-0.018306777944153|0.277837575558899|-0.110473910188767|0.0669280749146731|0.128539358273528|-0.189114843888824|0.133558376740387|-0.0210530534538215|149.62|\"0\"|\n",
    "|0|1.19185711131486|0.26615071205963|0.16648011335321|0.448154078460911|0.0600176492822243|-0.0823608088155687|-0.0788029833323113|0.0851016549148104|-0.255425128109186|-0.166974414004614|1.61272666105479|1.06523531137287|0.48909501589608|-0.143772296441519|0.635558093258208|0.463917041022171|-0.114804663102346|-0.183361270123994|-0.145783041325259|-0.0690831352230203|-0.225775248033138|-0.638671952771851|0.101288021253234|-0.339846475529127|0.167170404418143|0.125894532368176|-0.00898309914322813|0.0147241691924927|2.69|\"0\"|\n"
   ]
  },
  {
   "cell_type": "markdown",
   "id": "1c5fecbb-55f1-4575-ae06-224e26b60375",
   "metadata": {},
   "source": [
    "**By defining below parameters, we can apply this notebook on different datasets easily.**"
   ]
  },
  {
   "cell_type": "code",
   "execution_count": null,
   "id": "398877d9-fc16-48cc-b8b4-2f7fa264cda7",
   "metadata": {
    "jupyter": {
     "outputs_hidden": false,
     "source_hidden": false
    },
    "nteract": {
     "transient": {
      "deleting": false
     }
    }
   },
   "outputs": [
    {
     "data": {
      "application/vnd.livy.statement-meta+json": {
       "execution_finish_time": "2023-07-17T05:29:27.0336002Z",
       "execution_start_time": "2023-07-17T05:29:26.7327781Z",
       "livy_statement_state": "available",
       "parent_msg_id": "8cdbac03-9fe1-423f-b1f3-a065ce3e86fb",
       "queued_time": "2023-07-17T05:28:57.0774097Z",
       "session_id": "563940d7-ec44-4e7f-9d02-3f4cc0d218d1",
       "session_start_time": null,
       "spark_jobs": {
        "jobs": [],
        "limit": 20,
        "numbers": {
         "FAILED": 0,
         "RUNNING": 0,
         "SUCCEEDED": 0,
         "UNKNOWN": 0
        },
        "rule": "ALL_DESC"
       },
       "spark_pool": null,
       "state": "finished",
       "statement_id": 10
      },
      "text/plain": [
       "StatementMeta(, 563940d7-ec44-4e7f-9d02-3f4cc0d218d1, 10, Finished, Available)"
      ]
     },
     "metadata": {},
     "output_type": "display_data"
    }
   ],
   "source": [
    "IS_CUSTOM_DATA = False  # if True, dataset has to be uploaded manually\n",
    "\n",
    "TARGET_COL = \"Class\"  # target column name\n",
    "IS_SAMPLE = False  # if True, use only <SAMPLE_ROWS> rows of data for training, otherwise use all data\n",
    "SAMPLE_ROWS = 5000  # if IS_SAMPLE is True, use only this number of rows for training\n",
    "\n",
    "DATA_FOLDER = \"Files/fraud-detection/\"  # folder with data files\n",
    "DATA_FILE = \"creditcard.csv\"  # data file name\n",
    "\n",
    "EXPERIMENT_NAME = \"aisample-fraud\"  # mlflow experiment name"
   ]
  },
  {
   "cell_type": "markdown",
   "id": "cfd8b439-8c0c-4de4-97a3-3c3f397de6c8",
   "metadata": {
    "nteract": {
     "transient": {
      "deleting": false
     }
    }
   },
   "source": [
    "### Download dataset and Upload to lakehouse\n",
    "\n",
    "The following code will download a publicly available version of the the dataset and then store it in a Fabric Lakehouse.\n",
    "\n",
    "**Please add a lakehouse to the notebook before running it. Failure to do so will result in an error.**\n",
    "\n",
    "Instructions to add a lakehouse to the notebook can be found [here](https://aka.ms/fabric/addlakehouse)."
   ]
  },
  {
   "cell_type": "code",
   "execution_count": null,
   "id": "e2b23a6e-2dc7-4501-b429-d51fb7982456",
   "metadata": {
    "jupyter": {
     "outputs_hidden": false,
     "source_hidden": false
    },
    "nteract": {
     "transient": {
      "deleting": false
     }
    }
   },
   "outputs": [
    {
     "data": {
      "application/vnd.livy.statement-meta+json": {
       "execution_finish_time": "2023-07-17T05:29:28.2068746Z",
       "execution_start_time": "2023-07-17T05:29:27.3965439Z",
       "livy_statement_state": "available",
       "parent_msg_id": "31c8c5f8-acbc-4858-9f53-1ae73b8605c7",
       "queued_time": "2023-07-17T05:28:57.0895501Z",
       "session_id": "563940d7-ec44-4e7f-9d02-3f4cc0d218d1",
       "session_start_time": null,
       "spark_jobs": {
        "jobs": [],
        "limit": 20,
        "numbers": {
         "FAILED": 0,
         "RUNNING": 0,
         "SUCCEEDED": 0,
         "UNKNOWN": 0
        },
        "rule": "ALL_DESC"
       },
       "spark_pool": null,
       "state": "finished",
       "statement_id": 11
      },
      "text/plain": [
       "StatementMeta(, 563940d7-ec44-4e7f-9d02-3f4cc0d218d1, 11, Finished, Available)"
      ]
     },
     "metadata": {},
     "output_type": "display_data"
    },
    {
     "name": "stdout",
     "output_type": "stream",
     "text": [
      "Downloaded demo data files into lakehouse.\n"
     ]
    }
   ],
   "source": [
    "if not IS_CUSTOM_DATA:\n",
    "    # Download data files into lakehouse if not exist\n",
    "    import os, requests\n",
    "\n",
    "    remote_url = \"https://synapseaisolutionsa.blob.core.windows.net/public/Credit_Card_Fraud_Detection\"\n",
    "    fname = \"creditcard.csv\"\n",
    "    download_path = f\"/lakehouse/default/{DATA_FOLDER}/raw\"\n",
    "\n",
    "    if not os.path.exists(\"/lakehouse/default\"):\n",
    "        raise FileNotFoundError(\"Default lakehouse not found, please add a lakehouse and restart the session.\")\n",
    "    os.makedirs(download_path, exist_ok=True)\n",
    "    if not os.path.exists(f\"{download_path}/{fname}\"):\n",
    "        r = requests.get(f\"{remote_url}/{fname}\", timeout=30)\n",
    "        with open(f\"{download_path}/{fname}\", \"wb\") as f:\n",
    "            f.write(r.content)\n",
    "    print(\"Downloaded demo data files into lakehouse.\")\n"
   ]
  },
  {
   "cell_type": "markdown",
   "id": "6a57aee7-4b7e-4f6e-a55d-a8a88818b96a",
   "metadata": {
    "nteract": {
     "transient": {
      "deleting": false
     }
    }
   },
   "source": [
    "We start recording the time it takes to run this notebook."
   ]
  },
  {
   "cell_type": "code",
   "execution_count": null,
   "id": "6f1b1389-e53c-4c0a-8459-4b2086f62176",
   "metadata": {
    "jupyter": {
     "outputs_hidden": false,
     "source_hidden": false
    },
    "nteract": {
     "transient": {
      "deleting": false
     }
    }
   },
   "outputs": [
    {
     "data": {
      "application/vnd.livy.statement-meta+json": {
       "execution_finish_time": "2023-07-17T05:29:28.8807758Z",
       "execution_start_time": "2023-07-17T05:29:28.5922403Z",
       "livy_statement_state": "available",
       "parent_msg_id": "2071c28c-5614-4eb3-b43a-2eb81a770b68",
       "queued_time": "2023-07-17T05:28:57.0963706Z",
       "session_id": "563940d7-ec44-4e7f-9d02-3f4cc0d218d1",
       "session_start_time": null,
       "spark_jobs": {
        "jobs": [],
        "limit": 20,
        "numbers": {
         "FAILED": 0,
         "RUNNING": 0,
         "SUCCEEDED": 0,
         "UNKNOWN": 0
        },
        "rule": "ALL_DESC"
       },
       "spark_pool": null,
       "state": "finished",
       "statement_id": 12
      },
      "text/plain": [
       "StatementMeta(, 563940d7-ec44-4e7f-9d02-3f4cc0d218d1, 12, Finished, Available)"
      ]
     },
     "metadata": {},
     "output_type": "display_data"
    }
   ],
   "source": [
    "# Record the notebook running time\n",
    "import time\n",
    "\n",
    "ts = time.time()\n"
   ]
  },
  {
   "cell_type": "markdown",
   "id": "90c0a880-9f3a-4c32-b4ce-615327232184",
   "metadata": {
    "nteract": {
     "transient": {
      "deleting": false
     }
    }
   },
   "source": [
    "### Setup the MLflow experiment tracking\n",
    "\n",
    "Experiment tracking is the process of saving all experiment related information that we care about for every experiment we run. This is important because for some experiments, we can easily observe that there is no way we will be able to get better results. Therefore, we will be better off simply stopping them and trying a new experiment. \n",
    "\n",
    "Synapse Data Science in Microsoft Fabric includes autologging, which significantly reduces the amount of code required to automatically log the parameters, metrics, and items of a machine learning model during training. This feature extends MLflow autologging capabilities and is deeply integrated into the Synapse Data Science in Microsoft Fabric experience. Using autologging, we can easily track and compare the performance of different models and experiments without the need for manual tracking. Further information about how to perform autologging can be found [here](https://aka.ms/fabric-autologging)."
   ]
  },
  {
   "cell_type": "code",
   "execution_count": null,
   "id": "f8c7e126-3c2d-440c-8621-a9d55878af59",
   "metadata": {},
   "outputs": [
    {
     "data": {
      "application/vnd.livy.statement-meta+json": {
       "execution_finish_time": "2023-07-17T05:29:31.6649009Z",
       "execution_start_time": "2023-07-17T05:29:29.2283595Z",
       "livy_statement_state": "available",
       "parent_msg_id": "ee9ae5c6-7549-4955-bab8-35433cfd059e",
       "queued_time": "2023-07-17T05:28:57.1056461Z",
       "session_id": "563940d7-ec44-4e7f-9d02-3f4cc0d218d1",
       "session_start_time": null,
       "spark_jobs": {
        "jobs": [],
        "limit": 20,
        "numbers": {
         "FAILED": 0,
         "RUNNING": 0,
         "SUCCEEDED": 0,
         "UNKNOWN": 0
        },
        "rule": "ALL_DESC"
       },
       "spark_pool": null,
       "state": "finished",
       "statement_id": 13
      },
      "text/plain": [
       "StatementMeta(, 563940d7-ec44-4e7f-9d02-3f4cc0d218d1, 13, Finished, Available)"
      ]
     },
     "metadata": {},
     "output_type": "display_data"
    },
    {
     "name": "stderr",
     "output_type": "stream",
     "text": [
      "2023/07/17 05:29:29 INFO mlflow.tracking.fluent: Experiment with name 'aisample-fraud' does not exist. Creating a new experiment.\n"
     ]
    }
   ],
   "source": [
    "# Setup mlflow for experiment tracking\n",
    "import mlflow\n",
    "\n",
    "mlflow.set_experiment(EXPERIMENT_NAME)\n",
    "mlflow.autolog(disable=True)  # disable mlflow autologging"
   ]
  },
  {
   "cell_type": "markdown",
   "id": "f521e57f-0a4b-4833-adb1-55491d1b15bc",
   "metadata": {
    "nteract": {
     "transient": {
      "deleting": false
     }
    }
   },
   "source": [
    "### Read raw date data from the lakehouse"
   ]
  },
  {
   "cell_type": "code",
   "execution_count": null,
   "id": "361b199d-f45c-4351-9c38-83f73659afbf",
   "metadata": {
    "jupyter": {
     "outputs_hidden": false,
     "source_hidden": false
    },
    "nteract": {
     "transient": {
      "deleting": false
     }
    }
   },
   "outputs": [
    {
     "data": {
      "application/vnd.livy.statement-meta+json": {
       "execution_finish_time": "2023-07-17T05:29:35.5706411Z",
       "execution_start_time": "2023-07-17T05:29:32.0284666Z",
       "livy_statement_state": "available",
       "parent_msg_id": "ac934199-de42-47da-9a0e-8fbc5b8a613c",
       "queued_time": "2023-07-17T05:28:57.1162924Z",
       "session_id": "563940d7-ec44-4e7f-9d02-3f4cc0d218d1",
       "session_start_time": null,
       "spark_jobs": {
        "jobs": [
         {
          "completionTime": "2023-07-17T05:29:35.243GMT",
          "dataRead": 151287504,
          "dataWritten": 0,
          "description": "Job group for statement 14:\ndf = (\n    spark.read.format(\"csv\")\n    .option(\"header\", \"true\")\n    .option(\"inferSchema\", True)\n    .load(f\"{DATA_FOLDER}/raw/{DATA_FILE}\")\n    .cache()\n)",
          "displayName": "load at NativeMethodAccessorImpl.java:0",
          "jobGroup": "14",
          "jobId": 9,
          "killedTasksSummary": {},
          "name": "load at NativeMethodAccessorImpl.java:0",
          "numActiveStages": 0,
          "numActiveTasks": 0,
          "numCompletedIndices": 8,
          "numCompletedStages": 1,
          "numCompletedTasks": 8,
          "numFailedStages": 0,
          "numFailedTasks": 0,
          "numKilledTasks": 0,
          "numSkippedStages": 0,
          "numSkippedTasks": 0,
          "numTasks": 8,
          "rowCount": 284808,
          "stageIds": [
           13
          ],
          "status": "SUCCEEDED",
          "submissionTime": "2023-07-17T05:29:33.474GMT",
          "usageDescription": ""
         },
         {
          "completionTime": "2023-07-17T05:29:33.343GMT",
          "dataRead": 65536,
          "dataWritten": 0,
          "description": "Job group for statement 14:\ndf = (\n    spark.read.format(\"csv\")\n    .option(\"header\", \"true\")\n    .option(\"inferSchema\", True)\n    .load(f\"{DATA_FOLDER}/raw/{DATA_FILE}\")\n    .cache()\n)",
          "displayName": "load at NativeMethodAccessorImpl.java:0",
          "jobGroup": "14",
          "jobId": 8,
          "killedTasksSummary": {},
          "name": "load at NativeMethodAccessorImpl.java:0",
          "numActiveStages": 0,
          "numActiveTasks": 0,
          "numCompletedIndices": 1,
          "numCompletedStages": 1,
          "numCompletedTasks": 1,
          "numFailedStages": 0,
          "numFailedTasks": 0,
          "numKilledTasks": 0,
          "numSkippedStages": 0,
          "numSkippedTasks": 0,
          "numTasks": 1,
          "rowCount": 1,
          "stageIds": [
           12
          ],
          "status": "SUCCEEDED",
          "submissionTime": "2023-07-17T05:29:32.681GMT",
          "usageDescription": ""
         }
        ],
        "limit": 20,
        "numbers": {
         "FAILED": 0,
         "RUNNING": 0,
         "SUCCEEDED": 2,
         "UNKNOWN": 0
        },
        "rule": "ALL_DESC"
       },
       "spark_pool": null,
       "state": "finished",
       "statement_id": 14
      },
      "text/plain": [
       "StatementMeta(, 563940d7-ec44-4e7f-9d02-3f4cc0d218d1, 14, Finished, Available)"
      ]
     },
     "metadata": {},
     "output_type": "display_data"
    }
   ],
   "source": [
    "df = (\n",
    "    spark.read.format(\"csv\")\n",
    "    .option(\"header\", \"true\")\n",
    "    .option(\"inferSchema\", True)\n",
    "    .load(f\"{DATA_FOLDER}/raw/{DATA_FILE}\")\n",
    "    .cache()\n",
    ")"
   ]
  },
  {
   "cell_type": "markdown",
   "id": "a1201a0d-c19a-434b-acec-1cf68dd2508f",
   "metadata": {
    "nteract": {
     "transient": {
      "deleting": false
     }
    }
   },
   "source": [
    "## Step 3: Exploratory Data Analysis\n",
    "\n",
    "We can explore using the `display` command to view high-level statistics of the dataset. You can learn more about visualization in Microsoft Fabric [here](https://aka.ms/fabric/visualization)."
   ]
  },
  {
   "cell_type": "code",
   "execution_count": null,
   "id": "1f2da613-5c7a-4878-a388-823032afe017",
   "metadata": {},
   "outputs": [
    {
     "data": {
      "application/vnd.livy.statement-meta+json": {
       "execution_finish_time": "2023-07-17T05:29:38.4025806Z",
       "execution_start_time": "2023-07-17T05:29:35.9207555Z",
       "livy_statement_state": "available",
       "parent_msg_id": "6e90b453-b013-4439-b692-966ab4862815",
       "queued_time": "2023-07-17T05:28:57.1213336Z",
       "session_id": "563940d7-ec44-4e7f-9d02-3f4cc0d218d1",
       "session_start_time": null,
       "spark_jobs": {
        "jobs": [
         {
          "completionTime": "2023-07-17T05:29:36.801GMT",
          "dataRead": 19443418,
          "dataWritten": 0,
          "description": "Job group for statement 15:\ndisplay(df)",
          "displayName": "getRowsInJsonString at Display.scala:403",
          "jobGroup": "15",
          "jobId": 10,
          "killedTasksSummary": {},
          "name": "getRowsInJsonString at Display.scala:403",
          "numActiveStages": 0,
          "numActiveTasks": 0,
          "numCompletedIndices": 1,
          "numCompletedStages": 1,
          "numCompletedTasks": 1,
          "numFailedStages": 0,
          "numFailedTasks": 0,
          "numKilledTasks": 0,
          "numSkippedStages": 0,
          "numSkippedTasks": 0,
          "numTasks": 1,
          "rowCount": 36693,
          "stageIds": [
           14
          ],
          "status": "SUCCEEDED",
          "submissionTime": "2023-07-17T05:29:35.964GMT",
          "usageDescription": ""
         }
        ],
        "limit": 20,
        "numbers": {
         "FAILED": 0,
         "RUNNING": 0,
         "SUCCEEDED": 1,
         "UNKNOWN": 0
        },
        "rule": "ALL_DESC"
       },
       "spark_pool": null,
       "state": "finished",
       "statement_id": 15
      },
      "text/plain": [
       "StatementMeta(, 563940d7-ec44-4e7f-9d02-3f4cc0d218d1, 15, Finished, Available)"
      ]
     },
     "metadata": {},
     "output_type": "display_data"
    },
    {
     "data": {
      "application/vnd.synapse.widget-view+json": {
       "widget_id": "3138d659-5ac5-4402-b84d-cb02bc7e0952",
       "widget_type": "Synapse.DataFrame"
      },
      "text/plain": [
       "SynapseWidget(Synapse.DataFrame, 3138d659-5ac5-4402-b84d-cb02bc7e0952)"
      ]
     },
     "metadata": {},
     "output_type": "display_data"
    }
   ],
   "source": [
    "display(df)"
   ]
  },
  {
   "cell_type": "code",
   "execution_count": null,
   "id": "fae839a8-a355-40ac-8eac-48379391d065",
   "metadata": {
    "jupyter": {
     "outputs_hidden": false,
     "source_hidden": false
    },
    "nteract": {
     "transient": {
      "deleting": false
     }
    }
   },
   "outputs": [
    {
     "data": {
      "application/vnd.livy.statement-meta+json": {
       "execution_finish_time": "2023-07-17T05:29:40.297069Z",
       "execution_start_time": "2023-07-17T05:29:38.7739861Z",
       "livy_statement_state": "available",
       "parent_msg_id": "d3d43866-9eaa-4c91-90ef-76391148ab98",
       "queued_time": "2023-07-17T05:28:57.1297079Z",
       "session_id": "563940d7-ec44-4e7f-9d02-3f4cc0d218d1",
       "session_start_time": null,
       "spark_jobs": {
        "jobs": [
         {
          "completionTime": "2023-07-17T05:29:39.892GMT",
          "dataRead": 472,
          "dataWritten": 0,
          "description": "Job group for statement 16:\n# Print dataset basic information\nprint(\"records read: \" + str(df.count()))\nprint(\"Schema: \")\ndf.printSchema()",
          "displayName": "count at NativeMethodAccessorImpl.java:0",
          "jobGroup": "16",
          "jobId": 12,
          "killedTasksSummary": {},
          "name": "count at NativeMethodAccessorImpl.java:0",
          "numActiveStages": 0,
          "numActiveTasks": 0,
          "numCompletedIndices": 1,
          "numCompletedStages": 1,
          "numCompletedTasks": 1,
          "numFailedStages": 0,
          "numFailedTasks": 0,
          "numKilledTasks": 0,
          "numSkippedStages": 1,
          "numSkippedTasks": 8,
          "numTasks": 9,
          "rowCount": 8,
          "stageIds": [
           16,
           17
          ],
          "status": "SUCCEEDED",
          "submissionTime": "2023-07-17T05:29:39.854GMT",
          "usageDescription": ""
         },
         {
          "completionTime": "2023-07-17T05:29:39.808GMT",
          "dataRead": 140674254,
          "dataWritten": 472,
          "description": "Job group for statement 16:\n# Print dataset basic information\nprint(\"records read: \" + str(df.count()))\nprint(\"Schema: \")\ndf.printSchema()",
          "displayName": "count at NativeMethodAccessorImpl.java:0",
          "jobGroup": "16",
          "jobId": 11,
          "killedTasksSummary": {},
          "name": "count at NativeMethodAccessorImpl.java:0",
          "numActiveStages": 0,
          "numActiveTasks": 0,
          "numCompletedIndices": 8,
          "numCompletedStages": 1,
          "numCompletedTasks": 8,
          "numFailedStages": 0,
          "numFailedTasks": 0,
          "numKilledTasks": 0,
          "numSkippedStages": 0,
          "numSkippedTasks": 0,
          "numTasks": 8,
          "rowCount": 248126,
          "stageIds": [
           15
          ],
          "status": "SUCCEEDED",
          "submissionTime": "2023-07-17T05:29:38.809GMT",
          "usageDescription": ""
         }
        ],
        "limit": 20,
        "numbers": {
         "FAILED": 0,
         "RUNNING": 0,
         "SUCCEEDED": 2,
         "UNKNOWN": 0
        },
        "rule": "ALL_DESC"
       },
       "spark_pool": null,
       "state": "finished",
       "statement_id": 16
      },
      "text/plain": [
       "StatementMeta(, 563940d7-ec44-4e7f-9d02-3f4cc0d218d1, 16, Finished, Available)"
      ]
     },
     "metadata": {},
     "output_type": "display_data"
    },
    {
     "name": "stdout",
     "output_type": "stream",
     "text": [
      "records read: 284807\n",
      "Schema: \n",
      "root\n",
      " |-- Time: double (nullable = true)\n",
      " |-- V1: double (nullable = true)\n",
      " |-- V2: double (nullable = true)\n",
      " |-- V3: double (nullable = true)\n",
      " |-- V4: double (nullable = true)\n",
      " |-- V5: double (nullable = true)\n",
      " |-- V6: double (nullable = true)\n",
      " |-- V7: double (nullable = true)\n",
      " |-- V8: double (nullable = true)\n",
      " |-- V9: double (nullable = true)\n",
      " |-- V10: double (nullable = true)\n",
      " |-- V11: double (nullable = true)\n",
      " |-- V12: double (nullable = true)\n",
      " |-- V13: double (nullable = true)\n",
      " |-- V14: double (nullable = true)\n",
      " |-- V15: double (nullable = true)\n",
      " |-- V16: double (nullable = true)\n",
      " |-- V17: double (nullable = true)\n",
      " |-- V18: double (nullable = true)\n",
      " |-- V19: double (nullable = true)\n",
      " |-- V20: double (nullable = true)\n",
      " |-- V21: double (nullable = true)\n",
      " |-- V22: double (nullable = true)\n",
      " |-- V23: double (nullable = true)\n",
      " |-- V24: double (nullable = true)\n",
      " |-- V25: double (nullable = true)\n",
      " |-- V26: double (nullable = true)\n",
      " |-- V27: double (nullable = true)\n",
      " |-- V28: double (nullable = true)\n",
      " |-- Amount: double (nullable = true)\n",
      " |-- Class: integer (nullable = true)\n",
      "\n"
     ]
    }
   ],
   "source": [
    "# Print dataset basic information\n",
    "print(\"records read: \" + str(df.count()))\n",
    "print(\"Schema: \")\n",
    "df.printSchema()"
   ]
  },
  {
   "cell_type": "markdown",
   "id": "a9616519-d17e-45ed-8756-529e2faf6b32",
   "metadata": {
    "nteract": {
     "transient": {
      "deleting": false
     }
    }
   },
   "source": [
    "We need to cast the columns into the correct types."
   ]
  },
  {
   "cell_type": "code",
   "execution_count": null,
   "id": "e09f453b-3b5d-4e21-b360-80e86e3f2045",
   "metadata": {
    "jupyter": {
     "outputs_hidden": false,
     "source_hidden": false
    },
    "nteract": {
     "transient": {
      "deleting": false
     }
    }
   },
   "outputs": [
    {
     "data": {
      "application/vnd.livy.statement-meta+json": {
       "execution_finish_time": "2023-07-17T05:29:40.9518787Z",
       "execution_start_time": "2023-07-17T05:29:40.6668272Z",
       "livy_statement_state": "available",
       "parent_msg_id": "4000afc3-db30-4922-aa10-2697c48cdf3a",
       "queued_time": "2023-07-17T05:28:57.1373892Z",
       "session_id": "563940d7-ec44-4e7f-9d02-3f4cc0d218d1",
       "session_start_time": null,
       "spark_jobs": {
        "jobs": [],
        "limit": 20,
        "numbers": {
         "FAILED": 0,
         "RUNNING": 0,
         "SUCCEEDED": 0,
         "UNKNOWN": 0
        },
        "rule": "ALL_DESC"
       },
       "spark_pool": null,
       "state": "finished",
       "statement_id": 17
      },
      "text/plain": [
       "StatementMeta(, 563940d7-ec44-4e7f-9d02-3f4cc0d218d1, 17, Finished, Available)"
      ]
     },
     "metadata": {},
     "output_type": "display_data"
    }
   ],
   "source": [
    "import pyspark.sql.functions as F\n",
    "\n",
    "df_columns = df.columns\n",
    "df_columns.remove(TARGET_COL)\n",
    "\n",
    "# Ensure the TARGET_COL is the last column\n",
    "df = df.select(df_columns + [TARGET_COL]).withColumn(TARGET_COL, F.col(TARGET_COL).cast(\"int\"))\n",
    "\n",
    "if IS_SAMPLE:\n",
    "    df = df.limit(SAMPLE_ROWS)"
   ]
  },
  {
   "cell_type": "code",
   "execution_count": null,
   "id": "e38b4277-bf9d-45a0-8de7-bdabe5bcde0d",
   "metadata": {
    "jupyter": {
     "outputs_hidden": false,
     "source_hidden": false
    },
    "nteract": {
     "transient": {
      "deleting": false
     }
    }
   },
   "outputs": [
    {
     "data": {
      "application/vnd.livy.statement-meta+json": {
       "execution_finish_time": "2023-07-17T05:29:42.8398467Z",
       "execution_start_time": "2023-07-17T05:29:41.3281092Z",
       "livy_statement_state": "available",
       "parent_msg_id": "11981546-29ed-40b3-b42e-cf369225cd34",
       "queued_time": "2023-07-17T05:28:57.1434884Z",
       "session_id": "563940d7-ec44-4e7f-9d02-3f4cc0d218d1",
       "session_start_time": null,
       "spark_jobs": {
        "jobs": [
         {
          "completionTime": "2023-07-17T05:29:42.390GMT",
          "dataRead": 68533280,
          "dataWritten": 0,
          "description": "Job group for statement 18:\ndf_pd = df.toPandas() # Convert Spark dataframe to Pandas dataframe for easier visualization and processing",
          "displayName": "toPandas at /tmp/ipykernel_1291/33182892.py:1",
          "jobGroup": "18",
          "jobId": 13,
          "killedTasksSummary": {},
          "name": "toPandas at /tmp/ipykernel_1291/33182892.py:1",
          "numActiveStages": 0,
          "numActiveTasks": 0,
          "numCompletedIndices": 8,
          "numCompletedStages": 1,
          "numCompletedTasks": 8,
          "numFailedStages": 0,
          "numFailedTasks": 0,
          "numKilledTasks": 0,
          "numSkippedStages": 0,
          "numSkippedTasks": 0,
          "numTasks": 8,
          "rowCount": 31,
          "stageIds": [
           18
          ],
          "status": "SUCCEEDED",
          "submissionTime": "2023-07-17T05:29:41.410GMT",
          "usageDescription": ""
         }
        ],
        "limit": 20,
        "numbers": {
         "FAILED": 0,
         "RUNNING": 0,
         "SUCCEEDED": 1,
         "UNKNOWN": 0
        },
        "rule": "ALL_DESC"
       },
       "spark_pool": null,
       "state": "finished",
       "statement_id": 18
      },
      "text/plain": [
       "StatementMeta(, 563940d7-ec44-4e7f-9d02-3f4cc0d218d1, 18, Finished, Available)"
      ]
     },
     "metadata": {},
     "output_type": "display_data"
    }
   ],
   "source": [
    "df_pd = df.toPandas() # Convert Spark dataframe to Pandas dataframe for easier visualization and processing"
   ]
  },
  {
   "cell_type": "code",
   "execution_count": null,
   "id": "ad80f2d6-b7d9-4e6b-a422-073f39db0e5b",
   "metadata": {
    "jupyter": {
     "outputs_hidden": false,
     "source_hidden": false
    },
    "nteract": {
     "transient": {
      "deleting": false
     }
    }
   },
   "outputs": [
    {
     "data": {
      "application/vnd.livy.statement-meta+json": {
       "execution_finish_time": "2023-07-17T05:29:43.4679538Z",
       "execution_start_time": "2023-07-17T05:29:43.1737626Z",
       "livy_statement_state": "available",
       "parent_msg_id": "63edb01b-36b2-4680-84e3-b5730c49263a",
       "queued_time": "2023-07-17T05:28:57.1506118Z",
       "session_id": "563940d7-ec44-4e7f-9d02-3f4cc0d218d1",
       "session_start_time": null,
       "spark_jobs": {
        "jobs": [],
        "limit": 20,
        "numbers": {
         "FAILED": 0,
         "RUNNING": 0,
         "SUCCEEDED": 0,
         "UNKNOWN": 0
        },
        "rule": "ALL_DESC"
       },
       "spark_pool": null,
       "state": "finished",
       "statement_id": 19
      },
      "text/plain": [
       "StatementMeta(, 563940d7-ec44-4e7f-9d02-3f4cc0d218d1, 19, Finished, Available)"
      ]
     },
     "metadata": {},
     "output_type": "display_data"
    },
    {
     "name": "stdout",
     "output_type": "stream",
     "text": [
      "No Frauds 99.83 % of the dataset\n",
      "Frauds 0.17 % of the dataset\n"
     ]
    }
   ],
   "source": [
    "# The distribution of classes in the dataset\n",
    "\n",
    "print('No Frauds', round(df_pd['Class'].value_counts()[0]/len(df_pd) * 100,2), '% of the dataset')\n",
    "print('Frauds', round(df_pd['Class'].value_counts()[1]/len(df_pd) * 100,2), '% of the dataset')"
   ]
  },
  {
   "cell_type": "markdown",
   "id": "5d9abbc5-af21-4605-8edb-b945e63f4874",
   "metadata": {
    "nteract": {
     "transient": {
      "deleting": false
     }
    }
   },
   "source": [
    "This shows that most of the transactions are non-fraudulent and therefore pre-processing is required prior to train any model to avoid any overfitting."
   ]
  },
  {
   "cell_type": "markdown",
   "id": "d3310edc-3976-4f49-b953-b80e48f91f73",
   "metadata": {
    "nteract": {
     "transient": {
      "deleting": false
     }
    }
   },
   "source": [
    "**Distribution of fraudulent versus non-fraudulent transactions.**"
   ]
  },
  {
   "cell_type": "code",
   "execution_count": null,
   "id": "46bec12c-ef32-41bc-8267-cf7e4ff2fa33",
   "metadata": {
    "jupyter": {
     "outputs_hidden": false,
     "source_hidden": false
    },
    "nteract": {
     "transient": {
      "deleting": false
     }
    }
   },
   "outputs": [
    {
     "data": {
      "application/vnd.livy.statement-meta+json": {
       "execution_finish_time": "2023-07-17T05:29:47.3627381Z",
       "execution_start_time": "2023-07-17T05:29:43.8136386Z",
       "livy_statement_state": "available",
       "parent_msg_id": "aea6aaf1-b550-42c3-8279-10c4243f837e",
       "queued_time": "2023-07-17T05:28:57.1583954Z",
       "session_id": "563940d7-ec44-4e7f-9d02-3f4cc0d218d1",
       "session_start_time": null,
       "spark_jobs": {
        "jobs": [],
        "limit": 20,
        "numbers": {
         "FAILED": 0,
         "RUNNING": 0,
         "SUCCEEDED": 0,
         "UNKNOWN": 0
        },
        "rule": "ALL_DESC"
       },
       "spark_pool": null,
       "state": "finished",
       "statement_id": 20
      },
      "text/plain": [
       "StatementMeta(, 563940d7-ec44-4e7f-9d02-3f4cc0d218d1, 20, Finished, Available)"
      ]
     },
     "metadata": {},
     "output_type": "display_data"
    },
    {
     "data": {
      "text/plain": [
       "Text(0.5, 1.0, 'Class Distributions \\n (0: No Fraud || 1: Fraud)')"
      ]
     },
     "execution_count": null,
     "metadata": {},
     "output_type": "execute_result"
    },
    {
     "data": {
      "image/png": "[encoded data removed]",
      "text/plain": [
       "<Figure size 640x480 with 1 Axes>"
      ]
     },
     "metadata": {},
     "output_type": "display_data"
    }
   ],
   "source": [
    "import seaborn as sns\n",
    "import matplotlib.pyplot as plt\n",
    "\n",
    "colors = [\"#0101DF\", \"#DF0101\"]\n",
    "sns.countplot(x='Class', data=df_pd, palette=colors) \n",
    "plt.title('Class Distributions \\n (0: No Fraud || 1: Fraud)', fontsize=10)"
   ]
  },
  {
   "cell_type": "markdown",
   "id": "79f44d44-084b-4a4d-bf52-6cae139b1c68",
   "metadata": {
    "nteract": {
     "transient": {
      "deleting": false
     }
    }
   },
   "source": [
    "This clearly shows how imbalanced the dataset is."
   ]
  },
  {
   "cell_type": "markdown",
   "id": "4ccea93b-67f1-437e-b476-18b4d08a5a45",
   "metadata": {
    "nteract": {
     "transient": {
      "deleting": false
     }
    }
   },
   "source": [
    "**Show the five-number summary (the minimum score, first quartile, median, third quartile, the maximum score) for the transaction amount using Box plots.**"
   ]
  },
  {
   "cell_type": "code",
   "execution_count": null,
   "id": "1629f99b-2a8b-494c-8059-e834a6f0cb18",
   "metadata": {
    "jupyter": {
     "outputs_hidden": false,
     "source_hidden": false
    },
    "nteract": {
     "transient": {
      "deleting": false
     }
    }
   },
   "outputs": [
    {
     "data": {
      "application/vnd.livy.statement-meta+json": {
       "execution_finish_time": "2023-07-17T05:29:48.5310491Z",
       "execution_start_time": "2023-07-17T05:29:47.7139637Z",
       "livy_statement_state": "available",
       "parent_msg_id": "631bd403-e3aa-4989-b423-922b36d36f95",
       "queued_time": "2023-07-17T05:28:57.1663148Z",
       "session_id": "563940d7-ec44-4e7f-9d02-3f4cc0d218d1",
       "session_start_time": null,
       "spark_jobs": {
        "jobs": [],
        "limit": 20,
        "numbers": {
         "FAILED": 0,
         "RUNNING": 0,
         "SUCCEEDED": 0,
         "UNKNOWN": 0
        },
        "rule": "ALL_DESC"
       },
       "spark_pool": null,
       "state": "finished",
       "statement_id": 21
      },
      "text/plain": [
       "StatementMeta(, 563940d7-ec44-4e7f-9d02-3f4cc0d218d1, 21, Finished, Available)"
      ]
     },
     "metadata": {},
     "output_type": "display_data"
    },
    {
     "data": {
      "image/png": "[encoded data removed]",
      "text/plain": [
       "<Figure size 1200x500 with 2 Axes>"
      ]
     },
     "metadata": {},
     "output_type": "display_data"
    }
   ],
   "source": [
    "fig, (ax1, ax2) = plt.subplots(ncols=2, figsize=(12,5))\n",
    "s = sns.boxplot(ax = ax1, x=\"Class\", y=\"Amount\", hue=\"Class\",data=df_pd, palette=\"PRGn\", showfliers=True) # Remove outliers from the plot\n",
    "s = sns.boxplot(ax = ax2, x=\"Class\", y=\"Amount\", hue=\"Class\",data=df_pd, palette=\"PRGn\", showfliers=False) # Kepp outliers from the plot\n",
    "plt.show()"
   ]
  },
  {
   "cell_type": "markdown",
   "id": "d28e8617-4095-49d6-b06b-fdceeb4faef5",
   "metadata": {
    "nteract": {
     "transient": {
      "deleting": false
     }
    }
   },
   "source": [
    "Note that when the data is highly imbalanced, these plots may not demonstrate accurate insights because they will be affected by the imbalance between the classes. An alternative solution is to tackle the imbalance issue first and then create the same plots for more accurate insights."
   ]
  },
  {
   "cell_type": "markdown",
   "id": "b701ff5f-eac6-4545-ae94-5526574a134f",
   "metadata": {
    "nteract": {
     "transient": {
      "deleting": false
     }
    }
   },
   "source": [
    "## Step 4: Model Training and Evaluation\n",
    "\n",
    "In this section, we train a LightGBM model to classify the fraud transactions. Note that we'll train the LightGBM model on both the imbalanced dataset as well as the balanced dataset (via SMOTE) and compare their performances.\n",
    "\n",
    "Prior to start the training, we split the data to the training and test datasets. Note that SMOTE should only be applied to the training dataset and we must leave the test dataset in its original imbalanced distribution in order to get a valid approximation of how the model will perform on the original data, which is representing the situation in production."
   ]
  },
  {
   "cell_type": "markdown",
   "id": "ef3a65a9-109c-4163-a558-48348ee649da",
   "metadata": {
    "nteract": {
     "transient": {
      "deleting": false
     }
    }
   },
   "source": [
    "### Prepare training and test datasets"
   ]
  },
  {
   "cell_type": "code",
   "execution_count": null,
   "id": "656929df-8c39-4dda-975c-3f22229e5ba8",
   "metadata": {
    "jupyter": {
     "outputs_hidden": false,
     "source_hidden": false
    },
    "nteract": {
     "transient": {
      "deleting": false
     }
    }
   },
   "outputs": [
    {
     "data": {
      "application/vnd.livy.statement-meta+json": {
       "execution_finish_time": "2023-07-17T05:29:50.3647943Z",
       "execution_start_time": "2023-07-17T05:29:48.8915596Z",
       "livy_statement_state": "available",
       "parent_msg_id": "5d4823f7-12eb-4922-905d-9bdb6ae1a0fc",
       "queued_time": "2023-07-17T05:28:57.1747671Z",
       "session_id": "563940d7-ec44-4e7f-9d02-3f4cc0d218d1",
       "session_start_time": null,
       "spark_jobs": {
        "jobs": [],
        "limit": 20,
        "numbers": {
         "FAILED": 0,
         "RUNNING": 0,
         "SUCCEEDED": 0,
         "UNKNOWN": 0
        },
        "rule": "ALL_DESC"
       },
       "spark_pool": null,
       "state": "finished",
       "statement_id": 22
      },
      "text/plain": [
       "StatementMeta(, 563940d7-ec44-4e7f-9d02-3f4cc0d218d1, 22, Finished, Available)"
      ]
     },
     "metadata": {},
     "output_type": "display_data"
    }
   ],
   "source": [
    "# Split the dataset into training and test sets\n",
    "from sklearn.model_selection import train_test_split\n",
    "\n",
    "train, test = train_test_split(df_pd, test_size=0.15)\n",
    "feature_cols = [c for c in df_pd.columns.tolist() if c not in [TARGET_COL]]\n"
   ]
  },
  {
   "cell_type": "markdown",
   "id": "052c3037-a2ff-40e8-bf97-971d37ff3da4",
   "metadata": {
    "nteract": {
     "transient": {
      "deleting": false
     }
    }
   },
   "source": [
    "### Apply SMOTE to the training data to synthesize new samples for the minority class"
   ]
  },
  {
   "cell_type": "code",
   "execution_count": null,
   "id": "9db1d797-6180-4907-abab-05c7e24c035f",
   "metadata": {
    "jupyter": {
     "outputs_hidden": false,
     "source_hidden": false
    },
    "nteract": {
     "transient": {
      "deleting": false
     }
    }
   },
   "outputs": [
    {
     "data": {
      "application/vnd.livy.statement-meta+json": {
       "execution_finish_time": "2023-07-17T05:29:53.0853926Z",
       "execution_start_time": "2023-07-17T05:29:50.7165625Z",
       "livy_statement_state": "available",
       "parent_msg_id": "4e860c8e-facf-4f35-b6b2-2c68ef483b5c",
       "queued_time": "2023-07-17T05:28:57.6536997Z",
       "session_id": "563940d7-ec44-4e7f-9d02-3f4cc0d218d1",
       "session_start_time": null,
       "spark_jobs": {
        "jobs": [],
        "limit": 20,
        "numbers": {
         "FAILED": 0,
         "RUNNING": 0,
         "SUCCEEDED": 0,
         "UNKNOWN": 0
        },
        "rule": "ALL_DESC"
       },
       "spark_pool": null,
       "state": "finished",
       "statement_id": 23
      },
      "text/plain": [
       "StatementMeta(, 563940d7-ec44-4e7f-9d02-3f4cc0d218d1, 23, Finished, Available)"
      ]
     },
     "metadata": {},
     "output_type": "display_data"
    },
    {
     "name": "stdout",
     "output_type": "stream",
     "text": [
      "Original dataset shape Counter({0: 241667, 1: 418})\n",
      "Resampled dataset shape Counter({0: 241667, 1: 241667})\n"
     ]
    }
   ],
   "source": [
    "# Apply SMOTE to the training data\n",
    "import pandas as pd\n",
    "from collections import Counter\n",
    "from imblearn.over_sampling import SMOTE\n",
    "\n",
    "X = train[feature_cols]\n",
    "y = train[TARGET_COL]\n",
    "print(\"Original dataset shape %s\" % Counter(y))\n",
    "\n",
    "sm = SMOTE(random_state=42)\n",
    "X_res, y_res = sm.fit_resample(X, y)\n",
    "print(\"Resampled dataset shape %s\" % Counter(y_res))\n",
    "\n",
    "new_train = pd.concat([X_res, y_res], axis=1)"
   ]
  },
  {
   "cell_type": "markdown",
   "id": "61631908-e5c0-4219-a747-7c013f3f143f",
   "metadata": {},
   "source": [
    "### Model Training and Machine Learning Experiments\n",
    "\n",
    "Apache Spark in Microsoft Fabric enables machine learning with big data, providing the ability to obtain valuable insight from large amounts of structured, unstructured, and fast-moving data. There are several options when training machine learning models using Apache Spark in Microsoft Fabric: Apache Spark MLlib, SynapseML, and various other open-source libraries. You can learn about how to train machine learning models in Microsoft Fabric [here](https://aka.ms/fabric/MLTrain). \n",
    "\n",
    "A machine learning experiment is the primary unit of organization and control for all related machine learning runs. A run corresponds to a single execution of model code. Machine learning experiment tracking refers to the process of managing all the different experiments and their components, such as parameters, metrics, models and other artifacts and it enables to organize all the the required  components of a specific machine learning experiment as well as reproducing past results (easily) using saved experiments. You can learn more about machine learning experiments in Microsoft Fabric [here](https://aka.ms/synapse-experiment)."
   ]
  },
  {
   "cell_type": "markdown",
   "id": "a42841b9-dd7a-4086-b80e-00d3a5821052",
   "metadata": {
    "nteract": {
     "transient": {
      "deleting": false
     }
    }
   },
   "source": [
    "Update the MLflow autologging configuration to track additional metrics, parameters, files by setting  `exclusive=False`."
   ]
  },
  {
   "cell_type": "code",
   "execution_count": null,
   "id": "13746c04-daec-4aab-a6da-9dcbca177838",
   "metadata": {
    "jupyter": {
     "outputs_hidden": false,
     "source_hidden": false
    },
    "nteract": {
     "transient": {
      "deleting": false
     }
    }
   },
   "outputs": [
    {
     "data": {
      "application/vnd.livy.statement-meta+json": {
       "execution_finish_time": "2023-07-17T05:29:57.1511941Z",
       "execution_start_time": "2023-07-17T05:29:53.59156Z",
       "livy_statement_state": "available",
       "parent_msg_id": "b5372d01-d2cd-4ba7-ac3e-43c2549b9293",
       "queued_time": "2023-07-17T05:28:57.6545259Z",
       "session_id": "563940d7-ec44-4e7f-9d02-3f4cc0d218d1",
       "session_start_time": null,
       "spark_jobs": {
        "jobs": [],
        "limit": 20,
        "numbers": {
         "FAILED": 0,
         "RUNNING": 0,
         "SUCCEEDED": 0,
         "UNKNOWN": 0
        },
        "rule": "ALL_DESC"
       },
       "spark_pool": null,
       "state": "finished",
       "statement_id": 24
      },
      "text/plain": [
       "StatementMeta(, 563940d7-ec44-4e7f-9d02-3f4cc0d218d1, 24, Finished, Available)"
      ]
     },
     "metadata": {},
     "output_type": "display_data"
    },
    {
     "name": "stderr",
     "output_type": "stream",
     "text": [
      "2023/07/17 05:29:54 INFO mlflow.tracking.fluent: Autologging successfully enabled for sklearn.\n",
      "2023/07/17 05:29:56 INFO mlflow.tracking.fluent: Autologging successfully enabled for statsmodels.\n",
      "2023/07/17 05:29:56 INFO mlflow.tracking.fluent: Autologging successfully enabled for pyspark.ml.\n"
     ]
    }
   ],
   "source": [
    "mlflow.autolog(exclusive=False)"
   ]
  },
  {
   "cell_type": "markdown",
   "id": "13541648-10fd-40bf-ab4d-df7e6e3ec44f",
   "metadata": {
    "nteract": {
     "transient": {
      "deleting": false
     }
    }
   },
   "source": [
    "**Train the model using LightGBM.**\n",
    "\n",
    "We train using both the imbalanced dataset as well as the balanced dataset (via SMOTE) and then compare their performances."
   ]
  },
  {
   "cell_type": "code",
   "execution_count": null,
   "id": "8ec73e3e-85d9-471a-b26b-0c07eb741940",
   "metadata": {
    "jupyter": {
     "outputs_hidden": false,
     "source_hidden": false
    },
    "nteract": {
     "transient": {
      "deleting": false
     }
    }
   },
   "outputs": [
    {
     "data": {
      "application/vnd.livy.statement-meta+json": {
       "execution_finish_time": "2023-07-17T05:29:58.2777478Z",
       "execution_start_time": "2023-07-17T05:29:57.4830101Z",
       "livy_statement_state": "available",
       "parent_msg_id": "3917358f-40f0-4101-8a91-db956745e62b",
       "queued_time": "2023-07-17T05:28:57.6664451Z",
       "session_id": "563940d7-ec44-4e7f-9d02-3f4cc0d218d1",
       "session_start_time": null,
       "spark_jobs": {
        "jobs": [],
        "limit": 20,
        "numbers": {
         "FAILED": 0,
         "RUNNING": 0,
         "SUCCEEDED": 0,
         "UNKNOWN": 0
        },
        "rule": "ALL_DESC"
       },
       "spark_pool": null,
       "state": "finished",
       "statement_id": 25
      },
      "text/plain": [
       "StatementMeta(, 563940d7-ec44-4e7f-9d02-3f4cc0d218d1, 25, Finished, Available)"
      ]
     },
     "metadata": {},
     "output_type": "display_data"
    },
    {
     "name": "stderr",
     "output_type": "stream",
     "text": [
      "2023/07/17 05:29:57 INFO mlflow.tracking.fluent: Autologging successfully enabled for lightgbm.\n"
     ]
    }
   ],
   "source": [
    "import lightgbm as lgb\n",
    "\n",
    "model = lgb.LGBMClassifier(objective=\"binary\") # imbalanced dataset\n",
    "smote_model = lgb.LGBMClassifier(objective=\"binary\") # balanced dataset"
   ]
  },
  {
   "cell_type": "code",
   "execution_count": null,
   "id": "66bd4e49-9ab0-4c01-a25c-70ad77becbf8",
   "metadata": {
    "jupyter": {
     "outputs_hidden": false,
     "source_hidden": false
    },
    "nteract": {
     "transient": {
      "deleting": false
     }
    }
   },
   "outputs": [
    {
     "data": {
      "application/vnd.livy.statement-meta+json": {
       "execution_finish_time": "2023-07-17T05:30:19.7611219Z",
       "execution_start_time": "2023-07-17T05:29:58.6868185Z",
       "livy_statement_state": "available",
       "parent_msg_id": "b816ddd1-c6c8-4451-b9cb-0202196eba3c",
       "queued_time": "2023-07-17T05:28:57.6796197Z",
       "session_id": "563940d7-ec44-4e7f-9d02-3f4cc0d218d1",
       "session_start_time": null,
       "spark_jobs": {
        "jobs": [],
        "limit": 20,
        "numbers": {
         "FAILED": 0,
         "RUNNING": 0,
         "SUCCEEDED": 0,
         "UNKNOWN": 0
        },
        "rule": "ALL_DESC"
       },
       "spark_pool": null,
       "state": "finished",
       "statement_id": 26
      },
      "text/plain": [
       "StatementMeta(, 563940d7-ec44-4e7f-9d02-3f4cc0d218d1, 26, Finished, Available)"
      ]
     },
     "metadata": {},
     "output_type": "display_data"
    },
    {
     "name": "stdout",
     "output_type": "stream",
     "text": [
      "Start training with imbalanced data:\n",
      "\n",
      "[10]\tvalid_0's auc: 0.816244\tvalid_0's binary_logloss: 0.0176888\n",
      "[20]\tvalid_0's auc: 0.840098\tvalid_0's binary_logloss: 0.0262594\n",
      "[30]\tvalid_0's auc: 0.844251\tvalid_0's binary_logloss: 0.0381959\n",
      "[40]\tvalid_0's auc: 0.763075\tvalid_0's binary_logloss: 0.0612438\n",
      "[50]\tvalid_0's auc: 0.748436\tvalid_0's binary_logloss: 0.0775722\n",
      "[60]\tvalid_0's auc: 0.697948\tvalid_0's binary_logloss: 0.0656759\n",
      "[70]\tvalid_0's auc: 0.717529\tvalid_0's binary_logloss: 0.195873\n",
      "[80]\tvalid_0's auc: 0.715519\tvalid_0's binary_logloss: 0.102958\n",
      "[90]\tvalid_0's auc: 0.666755\tvalid_0's binary_logloss: 0.136029\n",
      "[100]\tvalid_0's auc: 0.654642\tvalid_0's binary_logloss: 0.100774\n",
      "\n",
      "\n",
      "Start training with balanced data:\n",
      "\n",
      "[10]\tvalid_0's auc: 0.972668\tvalid_0's binary_logloss: 0.224593\n",
      "[20]\tvalid_0's auc: 0.973589\tvalid_0's binary_logloss: 0.0962729\n",
      "[30]\tvalid_0's auc: 0.973279\tvalid_0's binary_logloss: 0.0485668\n",
      "[40]\tvalid_0's auc: 0.973477\tvalid_0's binary_logloss: 0.0277949\n",
      "[50]\tvalid_0's auc: 0.972537\tvalid_0's binary_logloss: 0.0177743\n",
      "[60]\tvalid_0's auc: 0.9729\tvalid_0's binary_logloss: 0.012371\n",
      "[70]\tvalid_0's auc: 0.967701\tvalid_0's binary_logloss: 0.00954162\n",
      "[80]\tvalid_0's auc: 0.965544\tvalid_0's binary_logloss: 0.00789014\n",
      "[90]\tvalid_0's auc: 0.964789\tvalid_0's binary_logloss: 0.00662283\n",
      "[100]\tvalid_0's auc: 0.949676\tvalid_0's binary_logloss: 0.00635726\n"
     ]
    },
    {
     "name": "stderr",
     "output_type": "stream",
     "text": [
      "2023/07/17 05:30:07 WARNING mlflow.utils.autologging_utils: MLflow autologging encountered a warning: \"/home/trusted-service-user/cluster-env/trident_env/lib/python3.10/site-packages/_distutils_hack/__init__.py:33: UserWarning: Setuptools is replacing distutils.\"\n"
     ]
    }
   ],
   "source": [
    "# Train LightGBM for both imbalanced and balanced datasets and define the evaluation metrics\n",
    "\n",
    "print(\"Start training with imbalanced data:\\n\")\n",
    "with mlflow.start_run(run_name=\"raw_data\") as raw_run:\n",
    "    model = model.fit(\n",
    "        train[feature_cols],\n",
    "        train[TARGET_COL],\n",
    "        eval_set=[(test[feature_cols], test[TARGET_COL])],\n",
    "        eval_metric=\"auc\",\n",
    "        callbacks=[\n",
    "            lgb.log_evaluation(10),\n",
    "        ],\n",
    "    )\n",
    "\n",
    "print(f\"\\n\\nStart training with balanced data:\\n\")\n",
    "with mlflow.start_run(run_name=\"smote_data\") as smote_run:\n",
    "    smote_model = smote_model.fit(\n",
    "        new_train[feature_cols],\n",
    "        new_train[TARGET_COL],\n",
    "        eval_set=[(test[feature_cols], test[TARGET_COL])],\n",
    "        eval_metric=\"auc\",\n",
    "        callbacks=[\n",
    "            lgb.log_evaluation(10),\n",
    "        ],\n",
    "    )"
   ]
  },
  {
   "cell_type": "markdown",
   "id": "f74a34e4-8edc-4ca9-9529-e91d785ea15c",
   "metadata": {
    "nteract": {
     "transient": {
      "deleting": false
     }
    }
   },
   "source": [
    "**Determine the feature importance for training with imbalanced dataset.**"
   ]
  },
  {
   "cell_type": "code",
   "execution_count": null,
   "id": "92d4a41d-cd6d-425c-b793-d9a4bc7f64e6",
   "metadata": {
    "jupyter": {
     "outputs_hidden": false,
     "source_hidden": false
    },
    "nteract": {
     "transient": {
      "deleting": false
     }
    }
   },
   "outputs": [
    {
     "data": {
      "application/vnd.livy.statement-meta+json": {
       "execution_finish_time": "2023-07-17T05:30:21.6605983Z",
       "execution_start_time": "2023-07-17T05:30:20.1502698Z",
       "livy_statement_state": "available",
       "parent_msg_id": "c28065a0-ad27-425f-b021-69abaf841545",
       "queued_time": "2023-07-17T05:28:57.6804247Z",
       "session_id": "563940d7-ec44-4e7f-9d02-3f4cc0d218d1",
       "session_start_time": null,
       "spark_jobs": {
        "jobs": [],
        "limit": 20,
        "numbers": {
         "FAILED": 0,
         "RUNNING": 0,
         "SUCCEEDED": 0,
         "UNKNOWN": 0
        },
        "rule": "ALL_DESC"
       },
       "spark_pool": null,
       "state": "finished",
       "statement_id": 27
      },
      "text/plain": [
       "StatementMeta(, 563940d7-ec44-4e7f-9d02-3f4cc0d218d1, 27, Finished, Available)"
      ]
     },
     "metadata": {},
     "output_type": "display_data"
    },
    {
     "data": {
      "image/png": "[encoded data removed]",
      "text/plain": [
       "<Figure size 640x480 with 1 Axes>"
      ]
     },
     "metadata": {},
     "output_type": "display_data"
    }
   ],
   "source": [
    "with mlflow.start_run(run_id=raw_run.info.run_id):\n",
    "    importance = lgb.plot_importance(\n",
    "        model, title=\"Feature importance for imbalanced data\"\n",
    "    )\n",
    "    importance.figure.savefig(\"feauture_importance.png\")\n",
    "    mlflow.log_figure(importance.figure, \"feature_importance.png\")"
   ]
  },
  {
   "cell_type": "markdown",
   "id": "2fb06024-c70a-47bb-adf8-da7d094401d7",
   "metadata": {
    "nteract": {
     "transient": {
      "deleting": false
     }
    }
   },
   "source": [
    "**Determine feature importance for training with balanced (via SMOTE) dataset.**"
   ]
  },
  {
   "cell_type": "code",
   "execution_count": null,
   "id": "359d41c4-2783-43d9-9f46-1003c9fa90cd",
   "metadata": {},
   "outputs": [
    {
     "data": {
      "application/vnd.livy.statement-meta+json": {
       "execution_finish_time": "2023-07-17T05:30:23.6106186Z",
       "execution_start_time": "2023-07-17T05:30:22.0408892Z",
       "livy_statement_state": "available",
       "parent_msg_id": "0c927e28-d8af-4b8d-b289-0dc2bfc70fd6",
       "queued_time": "2023-07-17T05:28:57.6936091Z",
       "session_id": "563940d7-ec44-4e7f-9d02-3f4cc0d218d1",
       "session_start_time": null,
       "spark_jobs": {
        "jobs": [],
        "limit": 20,
        "numbers": {
         "FAILED": 0,
         "RUNNING": 0,
         "SUCCEEDED": 0,
         "UNKNOWN": 0
        },
        "rule": "ALL_DESC"
       },
       "spark_pool": null,
       "state": "finished",
       "statement_id": 28
      },
      "text/plain": [
       "StatementMeta(, 563940d7-ec44-4e7f-9d02-3f4cc0d218d1, 28, Finished, Available)"
      ]
     },
     "metadata": {},
     "output_type": "display_data"
    },
    {
     "data": {
      "image/png": "[encoded data removed]",
      "text/plain": [
       "<Figure size 640x480 with 1 Axes>"
      ]
     },
     "metadata": {},
     "output_type": "display_data"
    }
   ],
   "source": [
    "with mlflow.start_run(run_id=smote_run.info.run_id):\n",
    "    smote_importance = lgb.plot_importance(\n",
    "        smote_model, title=\"Feature importance for balanced (via SMOTE) data\"\n",
    "    )\n",
    "    smote_importance.figure.savefig(\"feauture_importance_smote.png\")\n",
    "    mlflow.log_figure(smote_importance.figure, \"feauture_importance_smote.png\")"
   ]
  },
  {
   "cell_type": "markdown",
   "id": "a63616ea-8d67-4de3-9c63-0687cd7a3062",
   "metadata": {
    "nteract": {
     "transient": {
      "deleting": false
     }
    }
   },
   "source": [
    "Comparison of the above plots clearly demonstrates that the importance of features is drastically different between imbalanced versus balanced datasets."
   ]
  },
  {
   "cell_type": "markdown",
   "id": "bb9e326e-d06b-458a-ae9f-8800f501948b",
   "metadata": {
    "nteract": {
     "transient": {
      "deleting": false
     }
    }
   },
   "source": [
    "#### Model Evaluation"
   ]
  },
  {
   "cell_type": "markdown",
   "id": "763ea9a8-9e57-4336-8028-c9ae35ed368e",
   "metadata": {
    "nteract": {
     "transient": {
      "deleting": false
     }
    }
   },
   "source": [
    "Below, we define a function that performs predictions and converts the prediction results into a Spark DataFrame so that we can later compute model statistics using [SynapseML](https://aka.ms/fabric/SynapseEval)."
   ]
  },
  {
   "cell_type": "code",
   "execution_count": null,
   "id": "872d3c90-39f8-498d-ab05-ad5fd9f88cb2",
   "metadata": {
    "jupyter": {
     "outputs_hidden": false,
     "source_hidden": false
    },
    "nteract": {
     "transient": {
      "deleting": false
     }
    }
   },
   "outputs": [
    {
     "data": {
      "application/vnd.livy.statement-meta+json": {
       "execution_finish_time": "2023-07-17T05:30:24.4202988Z",
       "execution_start_time": "2023-07-17T05:30:24.1199963Z",
       "livy_statement_state": "available",
       "parent_msg_id": "e21d0f01-7ace-42b1-8f90-b6ae28f68bbb",
       "queued_time": "2023-07-17T05:28:57.7023049Z",
       "session_id": "563940d7-ec44-4e7f-9d02-3f4cc0d218d1",
       "session_start_time": null,
       "spark_jobs": {
        "jobs": [],
        "limit": 20,
        "numbers": {
         "FAILED": 0,
         "RUNNING": 0,
         "SUCCEEDED": 0,
         "UNKNOWN": 0
        },
        "rule": "ALL_DESC"
       },
       "spark_pool": null,
       "state": "finished",
       "statement_id": 29
      },
      "text/plain": [
       "StatementMeta(, 563940d7-ec44-4e7f-9d02-3f4cc0d218d1, 29, Finished, Available)"
      ]
     },
     "metadata": {},
     "output_type": "display_data"
    }
   ],
   "source": [
    "from pyspark.sql.functions import col\n",
    "from pyspark.sql.types import IntegerType, DoubleType\n",
    "\n",
    "def prediction_to_spark(model, test):\n",
    "    predictions = model.predict(test[feature_cols], num_iteration=model.best_iteration_)\n",
    "    predictions = tuple(zip(test[TARGET_COL].tolist(), predictions.tolist()))\n",
    "    dataColumns = [TARGET_COL, \"prediction\"]\n",
    "    predictions = (\n",
    "        spark.createDataFrame(data=predictions, schema=dataColumns)\n",
    "        .withColumn(TARGET_COL, col(TARGET_COL).cast(IntegerType()))\n",
    "        .withColumn(\"prediction\", col(\"prediction\").cast(DoubleType()))\n",
    "    )\n",
    "\n",
    "    return predictions"
   ]
  },
  {
   "cell_type": "markdown",
   "id": "3f51e29f-ae30-42f2-91d7-ac686028978b",
   "metadata": {
    "nteract": {
     "transient": {
      "deleting": false
     }
    }
   },
   "source": [
    "Below we perform predictions and compute the metrics for the model trained with raw data (imbalanced) and the model trained with balanced (via SMOTE) data."
   ]
  },
  {
   "cell_type": "code",
   "execution_count": null,
   "id": "b6f828c9-943a-4bbf-a8d2-a61c474594ba",
   "metadata": {
    "jupyter": {
     "outputs_hidden": false,
     "source_hidden": false
    },
    "nteract": {
     "transient": {
      "deleting": false
     }
    }
   },
   "outputs": [
    {
     "data": {
      "application/vnd.livy.statement-meta+json": {
       "execution_finish_time": "2023-07-17T05:30:27.2277177Z",
       "execution_start_time": "2023-07-17T05:30:24.8478339Z",
       "livy_statement_state": "available",
       "parent_msg_id": "499f03a4-e408-49f5-87f4-7c7768d9e299",
       "queued_time": "2023-07-17T05:28:57.7032086Z",
       "session_id": "563940d7-ec44-4e7f-9d02-3f4cc0d218d1",
       "session_start_time": null,
       "spark_jobs": {
        "jobs": [
         {
          "completionTime": "2023-07-17T05:30:26.939GMT",
          "dataRead": 0,
          "dataWritten": 488,
          "description": "Job group for statement 30:\npredictions = prediction_to_spark(model, test)\nsmote_predictions = prediction_to_spark(smote_model, test)\npredictions.limit(10).toPandas()",
          "displayName": "toPandas at /tmp/ipykernel_1291/2267550708.py:3",
          "jobGroup": "30",
          "jobId": 14,
          "killedTasksSummary": {},
          "name": "toPandas at /tmp/ipykernel_1291/2267550708.py:3",
          "numActiveStages": 0,
          "numActiveTasks": 0,
          "numCompletedIndices": 9,
          "numCompletedStages": 2,
          "numCompletedTasks": 9,
          "numFailedStages": 0,
          "numFailedTasks": 0,
          "numKilledTasks": 0,
          "numSkippedStages": 0,
          "numSkippedTasks": 0,
          "numTasks": 9,
          "rowCount": 80,
          "stageIds": [
           19,
           20
          ],
          "status": "SUCCEEDED",
          "submissionTime": "2023-07-17T05:30:26.126GMT",
          "usageDescription": ""
         }
        ],
        "limit": 20,
        "numbers": {
         "FAILED": 0,
         "RUNNING": 0,
         "SUCCEEDED": 1,
         "UNKNOWN": 0
        },
        "rule": "ALL_DESC"
       },
       "spark_pool": null,
       "state": "finished",
       "statement_id": 30
      },
      "text/plain": [
       "StatementMeta(, 563940d7-ec44-4e7f-9d02-3f4cc0d218d1, 30, Finished, Available)"
      ]
     },
     "metadata": {},
     "output_type": "display_data"
    },
    {
     "data": {
      "text/html": [
       "<div>\n",
       "<style scoped>\n",
       "    .dataframe tbody tr th:only-of-type {\n",
       "        vertical-align: middle;\n",
       "    }\n",
       "\n",
       "    .dataframe tbody tr th {\n",
       "        vertical-align: top;\n",
       "    }\n",
       "\n",
       "    .dataframe thead th {\n",
       "        text-align: right;\n",
       "    }\n",
       "</style>\n",
       "<table border=\"1\" class=\"dataframe\">\n",
       "  <thead>\n",
       "    <tr style=\"text-align: right;\">\n",
       "      <th></th>\n",
       "      <th>Class</th>\n",
       "      <th>prediction</th>\n",
       "    </tr>\n",
       "  </thead>\n",
       "  <tbody>\n",
       "    <tr>\n",
       "      <th>0</th>\n",
       "      <td>0</td>\n",
       "      <td>0.0</td>\n",
       "    </tr>\n",
       "    <tr>\n",
       "      <th>1</th>\n",
       "      <td>0</td>\n",
       "      <td>0.0</td>\n",
       "    </tr>\n",
       "    <tr>\n",
       "      <th>2</th>\n",
       "      <td>0</td>\n",
       "      <td>0.0</td>\n",
       "    </tr>\n",
       "    <tr>\n",
       "      <th>3</th>\n",
       "      <td>0</td>\n",
       "      <td>0.0</td>\n",
       "    </tr>\n",
       "    <tr>\n",
       "      <th>4</th>\n",
       "      <td>0</td>\n",
       "      <td>0.0</td>\n",
       "    </tr>\n",
       "    <tr>\n",
       "      <th>5</th>\n",
       "      <td>0</td>\n",
       "      <td>0.0</td>\n",
       "    </tr>\n",
       "    <tr>\n",
       "      <th>6</th>\n",
       "      <td>0</td>\n",
       "      <td>0.0</td>\n",
       "    </tr>\n",
       "    <tr>\n",
       "      <th>7</th>\n",
       "      <td>0</td>\n",
       "      <td>0.0</td>\n",
       "    </tr>\n",
       "    <tr>\n",
       "      <th>8</th>\n",
       "      <td>0</td>\n",
       "      <td>0.0</td>\n",
       "    </tr>\n",
       "    <tr>\n",
       "      <th>9</th>\n",
       "      <td>0</td>\n",
       "      <td>0.0</td>\n",
       "    </tr>\n",
       "  </tbody>\n",
       "</table>\n",
       "</div>"
      ],
      "text/plain": [
       "   Class  prediction\n",
       "0      0         0.0\n",
       "1      0         0.0\n",
       "2      0         0.0\n",
       "3      0         0.0\n",
       "4      0         0.0\n",
       "5      0         0.0\n",
       "6      0         0.0\n",
       "7      0         0.0\n",
       "8      0         0.0\n",
       "9      0         0.0"
      ]
     },
     "execution_count": null,
     "metadata": {},
     "output_type": "execute_result"
    }
   ],
   "source": [
    "predictions = prediction_to_spark(model, test)\n",
    "smote_predictions = prediction_to_spark(smote_model, test)\n",
    "predictions.limit(10).toPandas()"
   ]
  },
  {
   "cell_type": "code",
   "execution_count": null,
   "id": "95091793-1ae6-4bda-8629-2659c681cc66",
   "metadata": {
    "jupyter": {
     "outputs_hidden": false,
     "source_hidden": false
    },
    "nteract": {
     "transient": {
      "deleting": false
     }
    }
   },
   "outputs": [
    {
     "data": {
      "application/vnd.livy.statement-meta+json": {
       "execution_finish_time": "2023-07-17T05:30:31.1175949Z",
       "execution_start_time": "2023-07-17T05:30:27.6080925Z",
       "livy_statement_state": "available",
       "parent_msg_id": "c2311482-bdb0-4706-9d53-83af9cd8d50a",
       "queued_time": "2023-07-17T05:28:57.703941Z",
       "session_id": "563940d7-ec44-4e7f-9d02-3f4cc0d218d1",
       "session_start_time": null,
       "spark_jobs": {
        "jobs": [
         {
          "completionTime": "2023-07-17T05:30:30.218GMT",
          "dataRead": 0,
          "dataWritten": 0,
          "description": "Job group for statement 31:\nfrom synapse.ml.train import ComputeModelStatistics\n\nmetrics = ComputeModelStatistics(\n    evaluationMetric=\"classification\", labelCol=TARGET_COL, scoredLabelsCol=\"prediction\"\n).transform(predictions)\n\nsmote_metrics = ComputeModelStatistics(\n    evaluationMetric=\"classification\", labelCol=TARGET_COL, scoredLabelsCol=\"prediction\"\n).transform(smote_predictions)\ndisplay(metrics)",
          "displayName": "getRowsInJsonString at Display.scala:403",
          "jobGroup": "31",
          "jobId": 29,
          "killedTasksSummary": {},
          "name": "getRowsInJsonString at Display.scala:403",
          "numActiveStages": 0,
          "numActiveTasks": 0,
          "numCompletedIndices": 1,
          "numCompletedStages": 1,
          "numCompletedTasks": 1,
          "numFailedStages": 0,
          "numFailedTasks": 0,
          "numKilledTasks": 0,
          "numSkippedStages": 0,
          "numSkippedTasks": 0,
          "numTasks": 1,
          "rowCount": 0,
          "stageIds": [
           59
          ],
          "status": "SUCCEEDED",
          "submissionTime": "2023-07-17T05:30:30.173GMT",
          "usageDescription": ""
         },
         {
          "completionTime": "2023-07-17T05:30:30.086GMT",
          "dataRead": 240,
          "dataWritten": 0,
          "description": "Job group for statement 31:\nfrom synapse.ml.train import ComputeModelStatistics\n\nmetrics = ComputeModelStatistics(\n    evaluationMetric=\"classification\", labelCol=TARGET_COL, scoredLabelsCol=\"prediction\"\n).transform(predictions)\n\nsmote_metrics = ComputeModelStatistics(\n    evaluationMetric=\"classification\", labelCol=TARGET_COL, scoredLabelsCol=\"prediction\"\n).transform(smote_predictions)\ndisplay(metrics)",
          "displayName": "collect at AreaUnderCurve.scala:44",
          "jobGroup": "31",
          "jobId": 28,
          "killedTasksSummary": {},
          "name": "collect at AreaUnderCurve.scala:44",
          "numActiveStages": 0,
          "numActiveTasks": 0,
          "numCompletedIndices": 2,
          "numCompletedStages": 1,
          "numCompletedTasks": 2,
          "numFailedStages": 0,
          "numFailedTasks": 0,
          "numKilledTasks": 0,
          "numSkippedStages": 2,
          "numSkippedTasks": 16,
          "numTasks": 18,
          "rowCount": 2,
          "stageIds": [
           56,
           57,
           58
          ],
          "status": "SUCCEEDED",
          "submissionTime": "2023-07-17T05:30:30.065GMT",
          "usageDescription": ""
         },
         {
          "completionTime": "2023-07-17T05:30:30.055GMT",
          "dataRead": 240,
          "dataWritten": 0,
          "description": "Job group for statement 31:\nfrom synapse.ml.train import ComputeModelStatistics\n\nmetrics = ComputeModelStatistics(\n    evaluationMetric=\"classification\", labelCol=TARGET_COL, scoredLabelsCol=\"prediction\"\n).transform(predictions)\n\nsmote_metrics = ComputeModelStatistics(\n    evaluationMetric=\"classification\", labelCol=TARGET_COL, scoredLabelsCol=\"prediction\"\n).transform(smote_predictions)\ndisplay(metrics)",
          "displayName": "collect at ComputeModelStatistics.scala:513",
          "jobGroup": "31",
          "jobId": 27,
          "killedTasksSummary": {},
          "name": "collect at ComputeModelStatistics.scala:513",
          "numActiveStages": 0,
          "numActiveTasks": 0,
          "numCompletedIndices": 2,
          "numCompletedStages": 1,
          "numCompletedTasks": 2,
          "numFailedStages": 0,
          "numFailedTasks": 0,
          "numKilledTasks": 0,
          "numSkippedStages": 2,
          "numSkippedTasks": 16,
          "numTasks": 18,
          "rowCount": 2,
          "stageIds": [
           53,
           54,
           55
          ],
          "status": "SUCCEEDED",
          "submissionTime": "2023-07-17T05:30:30.030GMT",
          "usageDescription": ""
         },
         {
          "completionTime": "2023-07-17T05:30:30.004GMT",
          "dataRead": 251,
          "dataWritten": 0,
          "description": "Job group for statement 31:\nfrom synapse.ml.train import ComputeModelStatistics\n\nmetrics = ComputeModelStatistics(\n    evaluationMetric=\"classification\", labelCol=TARGET_COL, scoredLabelsCol=\"prediction\"\n).transform(predictions)\n\nsmote_metrics = ComputeModelStatistics(\n    evaluationMetric=\"classification\", labelCol=TARGET_COL, scoredLabelsCol=\"prediction\"\n).transform(smote_predictions)\ndisplay(metrics)",
          "displayName": "collect at ComputeModelStatistics.scala:508",
          "jobGroup": "31",
          "jobId": 26,
          "killedTasksSummary": {},
          "name": "collect at ComputeModelStatistics.scala:508",
          "numActiveStages": 0,
          "numActiveTasks": 0,
          "numCompletedIndices": 2,
          "numCompletedStages": 1,
          "numCompletedTasks": 2,
          "numFailedStages": 0,
          "numFailedTasks": 0,
          "numKilledTasks": 0,
          "numSkippedStages": 2,
          "numSkippedTasks": 16,
          "numTasks": 18,
          "rowCount": 2,
          "stageIds": [
           51,
           52,
           50
          ],
          "status": "SUCCEEDED",
          "submissionTime": "2023-07-17T05:30:29.972GMT",
          "usageDescription": ""
         },
         {
          "completionTime": "2023-07-17T05:30:29.898GMT",
          "dataRead": 251,
          "dataWritten": 0,
          "description": "Job group for statement 31:\nfrom synapse.ml.train import ComputeModelStatistics\n\nmetrics = ComputeModelStatistics(\n    evaluationMetric=\"classification\", labelCol=TARGET_COL, scoredLabelsCol=\"prediction\"\n).transform(predictions)\n\nsmote_metrics = ComputeModelStatistics(\n    evaluationMetric=\"classification\", labelCol=TARGET_COL, scoredLabelsCol=\"prediction\"\n).transform(smote_predictions)\ndisplay(metrics)",
          "displayName": "collect at BinaryClassificationMetrics.scala:237",
          "jobGroup": "31",
          "jobId": 25,
          "killedTasksSummary": {},
          "name": "collect at BinaryClassificationMetrics.scala:237",
          "numActiveStages": 0,
          "numActiveTasks": 0,
          "numCompletedIndices": 2,
          "numCompletedStages": 1,
          "numCompletedTasks": 2,
          "numFailedStages": 0,
          "numFailedTasks": 0,
          "numKilledTasks": 0,
          "numSkippedStages": 2,
          "numSkippedTasks": 16,
          "numTasks": 18,
          "rowCount": 2,
          "stageIds": [
           48,
           49,
           47
          ],
          "status": "SUCCEEDED",
          "submissionTime": "2023-07-17T05:30:29.869GMT",
          "usageDescription": ""
         },
         {
          "completionTime": "2023-07-17T05:30:29.859GMT",
          "dataRead": 1393,
          "dataWritten": 251,
          "description": "Job group for statement 31:\nfrom synapse.ml.train import ComputeModelStatistics\n\nmetrics = ComputeModelStatistics(\n    evaluationMetric=\"classification\", labelCol=TARGET_COL, scoredLabelsCol=\"prediction\"\n).transform(predictions)\n\nsmote_metrics = ComputeModelStatistics(\n    evaluationMetric=\"classification\", labelCol=TARGET_COL, scoredLabelsCol=\"prediction\"\n).transform(smote_predictions)\ndisplay(metrics)",
          "displayName": "count at BinaryClassificationMetrics.scala:197",
          "jobGroup": "31",
          "jobId": 24,
          "killedTasksSummary": {},
          "name": "count at BinaryClassificationMetrics.scala:197",
          "numActiveStages": 0,
          "numActiveTasks": 0,
          "numCompletedIndices": 10,
          "numCompletedStages": 2,
          "numCompletedTasks": 10,
          "numFailedStages": 0,
          "numFailedTasks": 0,
          "numKilledTasks": 0,
          "numSkippedStages": 1,
          "numSkippedTasks": 8,
          "numTasks": 18,
          "rowCount": 20,
          "stageIds": [
           45,
           46,
           44
          ],
          "status": "SUCCEEDED",
          "submissionTime": "2023-07-17T05:30:29.673GMT",
          "usageDescription": ""
         },
         {
          "completionTime": "2023-07-17T05:30:29.665GMT",
          "dataRead": 688854,
          "dataWritten": 1142,
          "description": "Job group for statement 31:\nfrom synapse.ml.train import ComputeModelStatistics\n\nmetrics = ComputeModelStatistics(\n    evaluationMetric=\"classification\", labelCol=TARGET_COL, scoredLabelsCol=\"prediction\"\n).transform(predictions)\n\nsmote_metrics = ComputeModelStatistics(\n    evaluationMetric=\"classification\", labelCol=TARGET_COL, scoredLabelsCol=\"prediction\"\n).transform(smote_predictions)\ndisplay(metrics)",
          "displayName": "sortByKey at BinaryClassificationMetrics.scala:189",
          "jobGroup": "31",
          "jobId": 23,
          "killedTasksSummary": {},
          "name": "sortByKey at BinaryClassificationMetrics.scala:189",
          "numActiveStages": 0,
          "numActiveTasks": 0,
          "numCompletedIndices": 16,
          "numCompletedStages": 2,
          "numCompletedTasks": 16,
          "numFailedStages": 0,
          "numFailedTasks": 0,
          "numKilledTasks": 0,
          "numSkippedStages": 0,
          "numSkippedTasks": 0,
          "numTasks": 16,
          "rowCount": 40,
          "stageIds": [
           42,
           43
          ],
          "status": "SUCCEEDED",
          "submissionTime": "2023-07-17T05:30:29.587GMT",
          "usageDescription": ""
         },
         {
          "completionTime": "2023-07-17T05:30:29.573GMT",
          "dataRead": 1892,
          "dataWritten": 1892,
          "description": "Job group for statement 31:\nfrom synapse.ml.train import ComputeModelStatistics\n\nmetrics = ComputeModelStatistics(\n    evaluationMetric=\"classification\", labelCol=TARGET_COL, scoredLabelsCol=\"prediction\"\n).transform(predictions)\n\nsmote_metrics = ComputeModelStatistics(\n    evaluationMetric=\"classification\", labelCol=TARGET_COL, scoredLabelsCol=\"prediction\"\n).transform(smote_predictions)\ndisplay(metrics)",
          "displayName": "collectAsMap at MulticlassMetrics.scala:61",
          "jobGroup": "31",
          "jobId": 22,
          "killedTasksSummary": {},
          "name": "collectAsMap at MulticlassMetrics.scala:61",
          "numActiveStages": 0,
          "numActiveTasks": 0,
          "numCompletedIndices": 16,
          "numCompletedStages": 2,
          "numCompletedTasks": 16,
          "numFailedStages": 0,
          "numFailedTasks": 0,
          "numKilledTasks": 0,
          "numSkippedStages": 0,
          "numSkippedTasks": 0,
          "numTasks": 16,
          "rowCount": 62,
          "stageIds": [
           40,
           41
          ],
          "status": "SUCCEEDED",
          "submissionTime": "2023-07-17T05:30:29.232GMT",
          "usageDescription": ""
         },
         {
          "completionTime": "2023-07-17T05:30:29.134GMT",
          "dataRead": 240,
          "dataWritten": 0,
          "description": "Job group for statement 31:\nfrom synapse.ml.train import ComputeModelStatistics\n\nmetrics = ComputeModelStatistics(\n    evaluationMetric=\"classification\", labelCol=TARGET_COL, scoredLabelsCol=\"prediction\"\n).transform(predictions)\n\nsmote_metrics = ComputeModelStatistics(\n    evaluationMetric=\"classification\", labelCol=TARGET_COL, scoredLabelsCol=\"prediction\"\n).transform(smote_predictions)\ndisplay(metrics)",
          "displayName": "collect at AreaUnderCurve.scala:44",
          "jobGroup": "31",
          "jobId": 21,
          "killedTasksSummary": {},
          "name": "collect at AreaUnderCurve.scala:44",
          "numActiveStages": 0,
          "numActiveTasks": 0,
          "numCompletedIndices": 2,
          "numCompletedStages": 1,
          "numCompletedTasks": 2,
          "numFailedStages": 0,
          "numFailedTasks": 0,
          "numKilledTasks": 0,
          "numSkippedStages": 2,
          "numSkippedTasks": 16,
          "numTasks": 18,
          "rowCount": 2,
          "stageIds": [
           37,
           38,
           39
          ],
          "status": "SUCCEEDED",
          "submissionTime": "2023-07-17T05:30:29.112GMT",
          "usageDescription": ""
         },
         {
          "completionTime": "2023-07-17T05:30:29.083GMT",
          "dataRead": 240,
          "dataWritten": 0,
          "description": "Job group for statement 31:\nfrom synapse.ml.train import ComputeModelStatistics\n\nmetrics = ComputeModelStatistics(\n    evaluationMetric=\"classification\", labelCol=TARGET_COL, scoredLabelsCol=\"prediction\"\n).transform(predictions)\n\nsmote_metrics = ComputeModelStatistics(\n    evaluationMetric=\"classification\", labelCol=TARGET_COL, scoredLabelsCol=\"prediction\"\n).transform(smote_predictions)\ndisplay(metrics)",
          "displayName": "collect at ComputeModelStatistics.scala:513",
          "jobGroup": "31",
          "jobId": 20,
          "killedTasksSummary": {},
          "name": "collect at ComputeModelStatistics.scala:513",
          "numActiveStages": 0,
          "numActiveTasks": 0,
          "numCompletedIndices": 2,
          "numCompletedStages": 1,
          "numCompletedTasks": 2,
          "numFailedStages": 0,
          "numFailedTasks": 0,
          "numKilledTasks": 0,
          "numSkippedStages": 2,
          "numSkippedTasks": 16,
          "numTasks": 18,
          "rowCount": 2,
          "stageIds": [
           34,
           35,
           36
          ],
          "status": "SUCCEEDED",
          "submissionTime": "2023-07-17T05:30:29.048GMT",
          "usageDescription": ""
         },
         {
          "completionTime": "2023-07-17T05:30:29.014GMT",
          "dataRead": 250,
          "dataWritten": 0,
          "description": "Job group for statement 31:\nfrom synapse.ml.train import ComputeModelStatistics\n\nmetrics = ComputeModelStatistics(\n    evaluationMetric=\"classification\", labelCol=TARGET_COL, scoredLabelsCol=\"prediction\"\n).transform(predictions)\n\nsmote_metrics = ComputeModelStatistics(\n    evaluationMetric=\"classification\", labelCol=TARGET_COL, scoredLabelsCol=\"prediction\"\n).transform(smote_predictions)\ndisplay(metrics)",
          "displayName": "collect at ComputeModelStatistics.scala:508",
          "jobGroup": "31",
          "jobId": 19,
          "killedTasksSummary": {},
          "name": "collect at ComputeModelStatistics.scala:508",
          "numActiveStages": 0,
          "numActiveTasks": 0,
          "numCompletedIndices": 2,
          "numCompletedStages": 1,
          "numCompletedTasks": 2,
          "numFailedStages": 0,
          "numFailedTasks": 0,
          "numKilledTasks": 0,
          "numSkippedStages": 2,
          "numSkippedTasks": 16,
          "numTasks": 18,
          "rowCount": 2,
          "stageIds": [
           33,
           31,
           32
          ],
          "status": "SUCCEEDED",
          "submissionTime": "2023-07-17T05:30:28.970GMT",
          "usageDescription": ""
         },
         {
          "completionTime": "2023-07-17T05:30:28.890GMT",
          "dataRead": 250,
          "dataWritten": 0,
          "description": "Job group for statement 31:\nfrom synapse.ml.train import ComputeModelStatistics\n\nmetrics = ComputeModelStatistics(\n    evaluationMetric=\"classification\", labelCol=TARGET_COL, scoredLabelsCol=\"prediction\"\n).transform(predictions)\n\nsmote_metrics = ComputeModelStatistics(\n    evaluationMetric=\"classification\", labelCol=TARGET_COL, scoredLabelsCol=\"prediction\"\n).transform(smote_predictions)\ndisplay(metrics)",
          "displayName": "collect at BinaryClassificationMetrics.scala:237",
          "jobGroup": "31",
          "jobId": 18,
          "killedTasksSummary": {},
          "name": "collect at BinaryClassificationMetrics.scala:237",
          "numActiveStages": 0,
          "numActiveTasks": 0,
          "numCompletedIndices": 2,
          "numCompletedStages": 1,
          "numCompletedTasks": 2,
          "numFailedStages": 0,
          "numFailedTasks": 0,
          "numKilledTasks": 0,
          "numSkippedStages": 2,
          "numSkippedTasks": 16,
          "numTasks": 18,
          "rowCount": 2,
          "stageIds": [
           30,
           28,
           29
          ],
          "status": "SUCCEEDED",
          "submissionTime": "2023-07-17T05:30:28.868GMT",
          "usageDescription": ""
         },
         {
          "completionTime": "2023-07-17T05:30:28.856GMT",
          "dataRead": 1404,
          "dataWritten": 250,
          "description": "Job group for statement 31:\nfrom synapse.ml.train import ComputeModelStatistics\n\nmetrics = ComputeModelStatistics(\n    evaluationMetric=\"classification\", labelCol=TARGET_COL, scoredLabelsCol=\"prediction\"\n).transform(predictions)\n\nsmote_metrics = ComputeModelStatistics(\n    evaluationMetric=\"classification\", labelCol=TARGET_COL, scoredLabelsCol=\"prediction\"\n).transform(smote_predictions)\ndisplay(metrics)",
          "displayName": "count at BinaryClassificationMetrics.scala:197",
          "jobGroup": "31",
          "jobId": 17,
          "killedTasksSummary": {},
          "name": "count at BinaryClassificationMetrics.scala:197",
          "numActiveStages": 0,
          "numActiveTasks": 0,
          "numCompletedIndices": 10,
          "numCompletedStages": 2,
          "numCompletedTasks": 10,
          "numFailedStages": 0,
          "numFailedTasks": 0,
          "numKilledTasks": 0,
          "numSkippedStages": 1,
          "numSkippedTasks": 8,
          "numTasks": 18,
          "rowCount": 20,
          "stageIds": [
           27,
           25,
           26
          ],
          "status": "SUCCEEDED",
          "submissionTime": "2023-07-17T05:30:28.752GMT",
          "usageDescription": ""
         },
         {
          "completionTime": "2023-07-17T05:30:28.739GMT",
          "dataRead": 688866,
          "dataWritten": 1154,
          "description": "Job group for statement 31:\nfrom synapse.ml.train import ComputeModelStatistics\n\nmetrics = ComputeModelStatistics(\n    evaluationMetric=\"classification\", labelCol=TARGET_COL, scoredLabelsCol=\"prediction\"\n).transform(predictions)\n\nsmote_metrics = ComputeModelStatistics(\n    evaluationMetric=\"classification\", labelCol=TARGET_COL, scoredLabelsCol=\"prediction\"\n).transform(smote_predictions)\ndisplay(metrics)",
          "displayName": "sortByKey at BinaryClassificationMetrics.scala:189",
          "jobGroup": "31",
          "jobId": 16,
          "killedTasksSummary": {},
          "name": "sortByKey at BinaryClassificationMetrics.scala:189",
          "numActiveStages": 0,
          "numActiveTasks": 0,
          "numCompletedIndices": 16,
          "numCompletedStages": 2,
          "numCompletedTasks": 16,
          "numFailedStages": 0,
          "numFailedTasks": 0,
          "numKilledTasks": 0,
          "numSkippedStages": 0,
          "numSkippedTasks": 0,
          "numTasks": 16,
          "rowCount": 40,
          "stageIds": [
           24,
           23
          ],
          "status": "SUCCEEDED",
          "submissionTime": "2023-07-17T05:30:28.548GMT",
          "usageDescription": ""
         },
         {
          "completionTime": "2023-07-17T05:30:28.489GMT",
          "dataRead": 1952,
          "dataWritten": 1952,
          "description": "Job group for statement 31:\nfrom synapse.ml.train import ComputeModelStatistics\n\nmetrics = ComputeModelStatistics(\n    evaluationMetric=\"classification\", labelCol=TARGET_COL, scoredLabelsCol=\"prediction\"\n).transform(predictions)\n\nsmote_metrics = ComputeModelStatistics(\n    evaluationMetric=\"classification\", labelCol=TARGET_COL, scoredLabelsCol=\"prediction\"\n).transform(smote_predictions)\ndisplay(metrics)",
          "displayName": "collectAsMap at MulticlassMetrics.scala:61",
          "jobGroup": "31",
          "jobId": 15,
          "killedTasksSummary": {},
          "name": "collectAsMap at MulticlassMetrics.scala:61",
          "numActiveStages": 0,
          "numActiveTasks": 0,
          "numCompletedIndices": 16,
          "numCompletedStages": 2,
          "numCompletedTasks": 16,
          "numFailedStages": 0,
          "numFailedTasks": 0,
          "numKilledTasks": 0,
          "numSkippedStages": 0,
          "numSkippedTasks": 0,
          "numTasks": 16,
          "rowCount": 64,
          "stageIds": [
           21,
           22
          ],
          "status": "SUCCEEDED",
          "submissionTime": "2023-07-17T05:30:27.912GMT",
          "usageDescription": ""
         }
        ],
        "limit": 20,
        "numbers": {
         "FAILED": 0,
         "RUNNING": 0,
         "SUCCEEDED": 15,
         "UNKNOWN": 0
        },
        "rule": "ALL_DESC"
       },
       "spark_pool": null,
       "state": "finished",
       "statement_id": 31
      },
      "text/plain": [
       "StatementMeta(, 563940d7-ec44-4e7f-9d02-3f4cc0d218d1, 31, Finished, Available)"
      ]
     },
     "metadata": {},
     "output_type": "display_data"
    },
    {
     "data": {
      "application/vnd.synapse.widget-view+json": {
       "widget_id": "39cb6f96-1589-49db-a03d-b4eb4869c55b",
       "widget_type": "Synapse.DataFrame"
      },
      "text/plain": [
       "SynapseWidget(Synapse.DataFrame, 39cb6f96-1589-49db-a03d-b4eb4869c55b)"
      ]
     },
     "metadata": {},
     "output_type": "display_data"
    }
   ],
   "source": [
    "from synapse.ml.train import ComputeModelStatistics\n",
    "\n",
    "metrics = ComputeModelStatistics(\n",
    "    evaluationMetric=\"classification\", labelCol=TARGET_COL, scoredLabelsCol=\"prediction\"\n",
    ").transform(predictions)\n",
    "\n",
    "smote_metrics = ComputeModelStatistics(\n",
    "    evaluationMetric=\"classification\", labelCol=TARGET_COL, scoredLabelsCol=\"prediction\"\n",
    ").transform(smote_predictions)\n",
    "display(metrics)"
   ]
  },
  {
   "cell_type": "markdown",
   "id": "0600de5b-2432-4b0b-b033-b6c8f11d9e3b",
   "metadata": {
    "nteract": {
     "transient": {
      "deleting": false
     }
    }
   },
   "source": [
    "#### Confusion Matrix\n",
    "We use the confusion matrix in order to summarize the performances of the trained machine learning models on the test data. The matrix displays the number of true positives (TP), true negatives (TN), false positives (FP), and false negatives (FN) produced by the model on the test data. Note that for binary classification, the matrix will be of a 2X2 table, For multi-class classification, the matrix shape will be equal to the number of classes i.e for n classes it will be a nXn table. "
   ]
  },
  {
   "cell_type": "code",
   "execution_count": null,
   "id": "abd4b06a-3d1b-4e86-ae6d-9b81203313cf",
   "metadata": {
    "jupyter": {
     "outputs_hidden": false,
     "source_hidden": false
    },
    "nteract": {
     "transient": {
      "deleting": false
     }
    }
   },
   "outputs": [
    {
     "data": {
      "application/vnd.livy.statement-meta+json": {
       "execution_finish_time": "2023-07-17T05:30:31.7824147Z",
       "execution_start_time": "2023-07-17T05:30:31.4959536Z",
       "livy_statement_state": "available",
       "parent_msg_id": "c4448bb9-8aad-496a-9710-e8f39a4021b1",
       "queued_time": "2023-07-17T05:28:57.7168664Z",
       "session_id": "563940d7-ec44-4e7f-9d02-3f4cc0d218d1",
       "session_start_time": null,
       "spark_jobs": {
        "jobs": [
         {
          "completionTime": "2023-07-17T05:30:31.600GMT",
          "dataRead": 0,
          "dataWritten": 0,
          "description": "Job group for statement 32:\n# Collect confusion matrix value\ncm = metrics.select(\"confusion_matrix\").collect()[0][0].toArray()\nsmote_cm = smote_metrics.select(\"confusion_matrix\").collect()[0][0].toArray()\nprint(cm)",
          "displayName": "collect at /tmp/ipykernel_1291/2119407738.py:3",
          "jobGroup": "32",
          "jobId": 31,
          "killedTasksSummary": {},
          "name": "collect at /tmp/ipykernel_1291/2119407738.py:3",
          "numActiveStages": 0,
          "numActiveTasks": 0,
          "numCompletedIndices": 1,
          "numCompletedStages": 1,
          "numCompletedTasks": 1,
          "numFailedStages": 0,
          "numFailedTasks": 0,
          "numKilledTasks": 0,
          "numSkippedStages": 0,
          "numSkippedTasks": 0,
          "numTasks": 1,
          "rowCount": 0,
          "stageIds": [
           61
          ],
          "status": "SUCCEEDED",
          "submissionTime": "2023-07-17T05:30:31.587GMT",
          "usageDescription": ""
         },
         {
          "completionTime": "2023-07-17T05:30:31.536GMT",
          "dataRead": 0,
          "dataWritten": 0,
          "description": "Job group for statement 32:\n# Collect confusion matrix value\ncm = metrics.select(\"confusion_matrix\").collect()[0][0].toArray()\nsmote_cm = smote_metrics.select(\"confusion_matrix\").collect()[0][0].toArray()\nprint(cm)",
          "displayName": "collect at /tmp/ipykernel_1291/2119407738.py:2",
          "jobGroup": "32",
          "jobId": 30,
          "killedTasksSummary": {},
          "name": "collect at /tmp/ipykernel_1291/2119407738.py:2",
          "numActiveStages": 0,
          "numActiveTasks": 0,
          "numCompletedIndices": 1,
          "numCompletedStages": 1,
          "numCompletedTasks": 1,
          "numFailedStages": 0,
          "numFailedTasks": 0,
          "numKilledTasks": 0,
          "numSkippedStages": 0,
          "numSkippedTasks": 0,
          "numTasks": 1,
          "rowCount": 0,
          "stageIds": [
           60
          ],
          "status": "SUCCEEDED",
          "submissionTime": "2023-07-17T05:30:31.503GMT",
          "usageDescription": ""
         }
        ],
        "limit": 20,
        "numbers": {
         "FAILED": 0,
         "RUNNING": 0,
         "SUCCEEDED": 2,
         "UNKNOWN": 0
        },
        "rule": "ALL_DESC"
       },
       "spark_pool": null,
       "state": "finished",
       "statement_id": 32
      },
      "text/plain": [
       "StatementMeta(, 563940d7-ec44-4e7f-9d02-3f4cc0d218d1, 32, Finished, Available)"
      ]
     },
     "metadata": {},
     "output_type": "display_data"
    },
    {
     "name": "stdout",
     "output_type": "stream",
     "text": [
      "[[4.252e+04 1.280e+02]\n",
      " [3.300e+01 4.100e+01]]\n"
     ]
    }
   ],
   "source": [
    "# Collect confusion matrix value\n",
    "cm = metrics.select(\"confusion_matrix\").collect()[0][0].toArray()\n",
    "smote_cm = smote_metrics.select(\"confusion_matrix\").collect()[0][0].toArray()\n",
    "print(cm)"
   ]
  },
  {
   "cell_type": "code",
   "execution_count": null,
   "id": "c0bc2f8b-74c1-4a2c-b36c-defe52218ab5",
   "metadata": {
    "jupyter": {
     "outputs_hidden": false,
     "source_hidden": false
    },
    "nteract": {
     "transient": {
      "deleting": false
     }
    }
   },
   "outputs": [
    {
     "data": {
      "application/vnd.livy.statement-meta+json": {
       "execution_finish_time": "2023-07-17T05:30:33.672408Z",
       "execution_start_time": "2023-07-17T05:30:32.1606586Z",
       "livy_statement_state": "available",
       "parent_msg_id": "0188501a-1dd1-46a0-a537-9cdf4875dc7b",
       "queued_time": "2023-07-17T05:28:57.7304714Z",
       "session_id": "563940d7-ec44-4e7f-9d02-3f4cc0d218d1",
       "session_start_time": null,
       "spark_jobs": {
        "jobs": [],
        "limit": 20,
        "numbers": {
         "FAILED": 0,
         "RUNNING": 0,
         "SUCCEEDED": 0,
         "UNKNOWN": 0
        },
        "rule": "ALL_DESC"
       },
       "spark_pool": null,
       "state": "finished",
       "statement_id": 33
      },
      "text/plain": [
       "StatementMeta(, 563940d7-ec44-4e7f-9d02-3f4cc0d218d1, 33, Finished, Available)"
      ]
     },
     "metadata": {},
     "output_type": "display_data"
    },
    {
     "data": {
      "image/png": "[encoded data removed]",
      "text/plain": [
       "<Figure size 500x350 with 2 Axes>"
      ]
     },
     "metadata": {},
     "output_type": "display_data"
    }
   ],
   "source": [
    "# Plot confusion matrix\n",
    "import seaborn as sns\n",
    "\n",
    "def plot(cm):\n",
    "    \"\"\"\n",
    "    Plot the confusion matrix.\n",
    "    \"\"\"\n",
    "    sns.set(rc={\"figure.figsize\": (5, 3.5)})\n",
    "    ax = sns.heatmap(cm, annot=True, fmt=\".20g\")\n",
    "    ax.set_title(\"Confusion Matrix\")\n",
    "    ax.set_xlabel(\"Predicted label\")\n",
    "    ax.set_ylabel(\"True label\")\n",
    "    return ax\n",
    "\n",
    "with mlflow.start_run(run_id=smote_run.info.run_id):\n",
    "    ax = plot(smote_cm)\n",
    "    mlflow.log_figure(ax.figure, \"ConfusionMatrix.png\")"
   ]
  },
  {
   "cell_type": "code",
   "execution_count": null,
   "id": "c999e79b-a5de-4320-a06e-8a1cb0deae55",
   "metadata": {
    "jupyter": {
     "outputs_hidden": false,
     "source_hidden": false
    },
    "nteract": {
     "transient": {
      "deleting": false
     }
    }
   },
   "outputs": [
    {
     "data": {
      "application/vnd.livy.statement-meta+json": {
       "execution_finish_time": "2023-07-17T05:30:35.5290965Z",
       "execution_start_time": "2023-07-17T05:30:34.0428631Z",
       "livy_statement_state": "available",
       "parent_msg_id": "51a11ed5-34ad-41a2-847c-06ed1dc56b7c",
       "queued_time": "2023-07-17T05:28:57.7314409Z",
       "session_id": "563940d7-ec44-4e7f-9d02-3f4cc0d218d1",
       "session_start_time": null,
       "spark_jobs": {
        "jobs": [],
        "limit": 20,
        "numbers": {
         "FAILED": 0,
         "RUNNING": 0,
         "SUCCEEDED": 0,
         "UNKNOWN": 0
        },
        "rule": "ALL_DESC"
       },
       "spark_pool": null,
       "state": "finished",
       "statement_id": 34
      },
      "text/plain": [
       "StatementMeta(, 563940d7-ec44-4e7f-9d02-3f4cc0d218d1, 34, Finished, Available)"
      ]
     },
     "metadata": {},
     "output_type": "display_data"
    },
    {
     "data": {
      "image/png": "[encoded data removed]",
      "text/plain": [
       "<Figure size 500x350 with 2 Axes>"
      ]
     },
     "metadata": {},
     "output_type": "display_data"
    }
   ],
   "source": [
    "with mlflow.start_run(run_id=raw_run.info.run_id):\n",
    "    ax = plot(cm)\n",
    "    mlflow.log_figure(ax.figure, \"ConfusionMatrix.png\")"
   ]
  },
  {
   "cell_type": "markdown",
   "id": "6e712950-5cd8-491e-a567-b692d9c65ecc",
   "metadata": {
    "nteract": {
     "transient": {
      "deleting": false
     }
    }
   },
   "source": [
    "#### Receiver Operating Characteristic Area Under the Curve and Area Under the Precision-Recall Curve\n",
    "\n",
    "The Area Under the Curve Receiver Operating Characteristic (AUC-ROC) measure is widely used to assess the performance of binary classifiers. However, sometimes, it is more appropriate to evaluate your classifier based on measuring the Area Under the Precision-Recall Curve (AUPRC). AUC-ROC is a chart that visualizes the trade-off between true positive rate (TPR) and false positive rate (FPR) whereas AUPRC is a curve that combines precision (PPV) and Recall (TPR) in a single visualization."
   ]
  },
  {
   "cell_type": "code",
   "execution_count": null,
   "id": "64263ff5-c40b-4765-b388-7839438564c9",
   "metadata": {
    "jupyter": {
     "outputs_hidden": false,
     "source_hidden": false
    },
    "nteract": {
     "transient": {
      "deleting": false
     }
    }
   },
   "outputs": [
    {
     "data": {
      "application/vnd.livy.statement-meta+json": {
       "execution_finish_time": "2023-07-17T05:30:36.1828505Z",
       "execution_start_time": "2023-07-17T05:30:35.9046755Z",
       "livy_statement_state": "available",
       "parent_msg_id": "0df70ccc-a6fb-4d11-b597-518775b5c386",
       "queued_time": "2023-07-17T05:28:57.7435646Z",
       "session_id": "563940d7-ec44-4e7f-9d02-3f4cc0d218d1",
       "session_start_time": null,
       "spark_jobs": {
        "jobs": [],
        "limit": 20,
        "numbers": {
         "FAILED": 0,
         "RUNNING": 0,
         "SUCCEEDED": 0,
         "UNKNOWN": 0
        },
        "rule": "ALL_DESC"
       },
       "spark_pool": null,
       "state": "finished",
       "statement_id": 35
      },
      "text/plain": [
       "StatementMeta(, 563940d7-ec44-4e7f-9d02-3f4cc0d218d1, 35, Finished, Available)"
      ]
     },
     "metadata": {},
     "output_type": "display_data"
    }
   ],
   "source": [
    "from pyspark.ml.evaluation import BinaryClassificationEvaluator\n",
    "\n",
    "def evaluate(predictions):\n",
    "    \"\"\"\n",
    "    Evaluate the model by computing AUROC and AUPRC with the predictions.\n",
    "    \"\"\"\n",
    "\n",
    "    # Initialize the binary evaluator\n",
    "    evaluator = BinaryClassificationEvaluator(rawPredictionCol=\"prediction\", labelCol=TARGET_COL)\n",
    "\n",
    "    _evaluator = lambda metric: evaluator.setMetricName(metric).evaluate(predictions)\n",
    "\n",
    "    # Calculate AUROC, baseline 0.5\n",
    "    auroc = _evaluator(\"areaUnderROC\")\n",
    "    print(f\"The AUROC is: {auroc:.4f}\")\n",
    "\n",
    "    # Calculate AUPRC, baseline positive rate (0.172% in the data)\n",
    "    auprc = _evaluator(\"areaUnderPR\")\n",
    "    print(f\"The AUPRC is: {auprc:.4f}\")\n",
    "\n",
    "    return auroc, auprc\n"
   ]
  },
  {
   "cell_type": "markdown",
   "id": "f68e661d-8e92-4b14-87d5-cad0300ab7a6",
   "metadata": {
    "nteract": {
     "transient": {
      "deleting": false
     }
    }
   },
   "source": [
    "**Log the AUC-ROC and AUPRC metrics for model that is trained on the imbalanced dataset.**"
   ]
  },
  {
   "cell_type": "code",
   "execution_count": null,
   "id": "b713a56c-9e0c-445f-beba-696fd09de42f",
   "metadata": {},
   "outputs": [
    {
     "data": {
      "application/vnd.livy.statement-meta+json": {
       "execution_finish_time": "2023-07-17T05:30:40.1536123Z",
       "execution_start_time": "2023-07-17T05:30:36.5365334Z",
       "livy_statement_state": "available",
       "parent_msg_id": "da36d96a-b381-41a8-845c-29ceb528a52b",
       "queued_time": "2023-07-17T05:28:57.7445483Z",
       "session_id": "563940d7-ec44-4e7f-9d02-3f4cc0d218d1",
       "session_start_time": null,
       "spark_jobs": {
        "jobs": [
         {
          "completionTime": "2023-07-17T05:30:38.123GMT",
          "dataRead": 244,
          "dataWritten": 0,
          "description": "Job group for statement 36:\nwith mlflow.start_run(run_id=raw_run.info.run_id):\n    auroc, auprc = evaluate(predictions)\n    mlflow.log_metrics({\"AUPRC\": auprc, \"AUROC\": auroc})\n    mlflow.log_params({\"Data_Enhancement\": \"None\", \"DATA_FILE\": DATA_FILE})",
          "displayName": "collect at AreaUnderCurve.scala:44",
          "jobGroup": "36",
          "jobId": 40,
          "killedTasksSummary": {},
          "name": "collect at AreaUnderCurve.scala:44",
          "numActiveStages": 0,
          "numActiveTasks": 0,
          "numCompletedIndices": 2,
          "numCompletedStages": 1,
          "numCompletedTasks": 2,
          "numFailedStages": 0,
          "numFailedTasks": 0,
          "numKilledTasks": 0,
          "numSkippedStages": 2,
          "numSkippedTasks": 16,
          "numTasks": 18,
          "rowCount": 2,
          "stageIds": [
           84,
           85,
           86
          ],
          "status": "SUCCEEDED",
          "submissionTime": "2023-07-17T05:30:38.105GMT",
          "usageDescription": ""
         },
         {
          "completionTime": "2023-07-17T05:30:38.097GMT",
          "dataRead": 126,
          "dataWritten": 0,
          "description": "Job group for statement 36:\nwith mlflow.start_run(run_id=raw_run.info.run_id):\n    auroc, auprc = evaluate(predictions)\n    mlflow.log_metrics({\"AUPRC\": auprc, \"AUROC\": auroc})\n    mlflow.log_params({\"Data_Enhancement\": \"None\", \"DATA_FILE\": DATA_FILE})",
          "displayName": "first at BinaryClassificationMetrics.scala:135",
          "jobGroup": "36",
          "jobId": 39,
          "killedTasksSummary": {},
          "name": "first at BinaryClassificationMetrics.scala:135",
          "numActiveStages": 0,
          "numActiveTasks": 0,
          "numCompletedIndices": 1,
          "numCompletedStages": 1,
          "numCompletedTasks": 1,
          "numFailedStages": 0,
          "numFailedTasks": 0,
          "numKilledTasks": 0,
          "numSkippedStages": 2,
          "numSkippedTasks": 16,
          "numTasks": 17,
          "rowCount": 1,
          "stageIds": [
           81,
           82,
           83
          ],
          "status": "SUCCEEDED",
          "submissionTime": "2023-07-17T05:30:38.080GMT",
          "usageDescription": ""
         },
         {
          "completionTime": "2023-07-17T05:30:38.070GMT",
          "dataRead": 250,
          "dataWritten": 0,
          "description": "Job group for statement 36:\nwith mlflow.start_run(run_id=raw_run.info.run_id):\n    auroc, auprc = evaluate(predictions)\n    mlflow.log_metrics({\"AUPRC\": auprc, \"AUROC\": auroc})\n    mlflow.log_params({\"Data_Enhancement\": \"None\", \"DATA_FILE\": DATA_FILE})",
          "displayName": "collect at BinaryClassificationMetrics.scala:237",
          "jobGroup": "36",
          "jobId": 38,
          "killedTasksSummary": {},
          "name": "collect at BinaryClassificationMetrics.scala:237",
          "numActiveStages": 0,
          "numActiveTasks": 0,
          "numCompletedIndices": 2,
          "numCompletedStages": 1,
          "numCompletedTasks": 2,
          "numFailedStages": 0,
          "numFailedTasks": 0,
          "numKilledTasks": 0,
          "numSkippedStages": 2,
          "numSkippedTasks": 16,
          "numTasks": 18,
          "rowCount": 2,
          "stageIds": [
           78,
           79,
           80
          ],
          "status": "SUCCEEDED",
          "submissionTime": "2023-07-17T05:30:38.049GMT",
          "usageDescription": ""
         },
         {
          "completionTime": "2023-07-17T05:30:38.037GMT",
          "dataRead": 1404,
          "dataWritten": 250,
          "description": "Job group for statement 36:\nwith mlflow.start_run(run_id=raw_run.info.run_id):\n    auroc, auprc = evaluate(predictions)\n    mlflow.log_metrics({\"AUPRC\": auprc, \"AUROC\": auroc})\n    mlflow.log_params({\"Data_Enhancement\": \"None\", \"DATA_FILE\": DATA_FILE})",
          "displayName": "count at BinaryClassificationMetrics.scala:197",
          "jobGroup": "36",
          "jobId": 37,
          "killedTasksSummary": {},
          "name": "count at BinaryClassificationMetrics.scala:197",
          "numActiveStages": 0,
          "numActiveTasks": 0,
          "numCompletedIndices": 10,
          "numCompletedStages": 2,
          "numCompletedTasks": 10,
          "numFailedStages": 0,
          "numFailedTasks": 0,
          "numKilledTasks": 0,
          "numSkippedStages": 1,
          "numSkippedTasks": 8,
          "numTasks": 18,
          "rowCount": 20,
          "stageIds": [
           75,
           76,
           77
          ],
          "status": "SUCCEEDED",
          "submissionTime": "2023-07-17T05:30:37.985GMT",
          "usageDescription": ""
         },
         {
          "completionTime": "2023-07-17T05:30:37.976GMT",
          "dataRead": 1154,
          "dataWritten": 1154,
          "description": "Job group for statement 36:\nwith mlflow.start_run(run_id=raw_run.info.run_id):\n    auroc, auprc = evaluate(predictions)\n    mlflow.log_metrics({\"AUPRC\": auprc, \"AUROC\": auroc})\n    mlflow.log_params({\"Data_Enhancement\": \"None\", \"DATA_FILE\": DATA_FILE})",
          "displayName": "sortByKey at BinaryClassificationMetrics.scala:189",
          "jobGroup": "36",
          "jobId": 36,
          "killedTasksSummary": {},
          "name": "sortByKey at BinaryClassificationMetrics.scala:189",
          "numActiveStages": 0,
          "numActiveTasks": 0,
          "numCompletedIndices": 16,
          "numCompletedStages": 2,
          "numCompletedTasks": 16,
          "numFailedStages": 0,
          "numFailedTasks": 0,
          "numKilledTasks": 0,
          "numSkippedStages": 0,
          "numSkippedTasks": 0,
          "numTasks": 16,
          "rowCount": 32,
          "stageIds": [
           74,
           73
          ],
          "status": "SUCCEEDED",
          "submissionTime": "2023-07-17T05:30:37.648GMT",
          "usageDescription": ""
         },
         {
          "completionTime": "2023-07-17T05:30:37.612GMT",
          "dataRead": 250,
          "dataWritten": 0,
          "description": "Job group for statement 36:\nwith mlflow.start_run(run_id=raw_run.info.run_id):\n    auroc, auprc = evaluate(predictions)\n    mlflow.log_metrics({\"AUPRC\": auprc, \"AUROC\": auroc})\n    mlflow.log_params({\"Data_Enhancement\": \"None\", \"DATA_FILE\": DATA_FILE})",
          "displayName": "collect at AreaUnderCurve.scala:44",
          "jobGroup": "36",
          "jobId": 35,
          "killedTasksSummary": {},
          "name": "collect at AreaUnderCurve.scala:44",
          "numActiveStages": 0,
          "numActiveTasks": 0,
          "numCompletedIndices": 2,
          "numCompletedStages": 1,
          "numCompletedTasks": 2,
          "numFailedStages": 0,
          "numFailedTasks": 0,
          "numKilledTasks": 0,
          "numSkippedStages": 2,
          "numSkippedTasks": 16,
          "numTasks": 18,
          "rowCount": 2,
          "stageIds": [
           70,
           71,
           72
          ],
          "status": "SUCCEEDED",
          "submissionTime": "2023-07-17T05:30:37.591GMT",
          "usageDescription": ""
         },
         {
          "completionTime": "2023-07-17T05:30:37.580GMT",
          "dataRead": 250,
          "dataWritten": 0,
          "description": "Job group for statement 36:\nwith mlflow.start_run(run_id=raw_run.info.run_id):\n    auroc, auprc = evaluate(predictions)\n    mlflow.log_metrics({\"AUPRC\": auprc, \"AUROC\": auroc})\n    mlflow.log_params({\"Data_Enhancement\": \"None\", \"DATA_FILE\": DATA_FILE})",
          "displayName": "collect at BinaryClassificationMetrics.scala:237",
          "jobGroup": "36",
          "jobId": 34,
          "killedTasksSummary": {},
          "name": "collect at BinaryClassificationMetrics.scala:237",
          "numActiveStages": 0,
          "numActiveTasks": 0,
          "numCompletedIndices": 2,
          "numCompletedStages": 1,
          "numCompletedTasks": 2,
          "numFailedStages": 0,
          "numFailedTasks": 0,
          "numKilledTasks": 0,
          "numSkippedStages": 2,
          "numSkippedTasks": 16,
          "numTasks": 18,
          "rowCount": 2,
          "stageIds": [
           67,
           68,
           69
          ],
          "status": "SUCCEEDED",
          "submissionTime": "2023-07-17T05:30:37.562GMT",
          "usageDescription": ""
         },
         {
          "completionTime": "2023-07-17T05:30:37.553GMT",
          "dataRead": 1404,
          "dataWritten": 250,
          "description": "Job group for statement 36:\nwith mlflow.start_run(run_id=raw_run.info.run_id):\n    auroc, auprc = evaluate(predictions)\n    mlflow.log_metrics({\"AUPRC\": auprc, \"AUROC\": auroc})\n    mlflow.log_params({\"Data_Enhancement\": \"None\", \"DATA_FILE\": DATA_FILE})",
          "displayName": "count at BinaryClassificationMetrics.scala:197",
          "jobGroup": "36",
          "jobId": 33,
          "killedTasksSummary": {},
          "name": "count at BinaryClassificationMetrics.scala:197",
          "numActiveStages": 0,
          "numActiveTasks": 0,
          "numCompletedIndices": 10,
          "numCompletedStages": 2,
          "numCompletedTasks": 10,
          "numFailedStages": 0,
          "numFailedTasks": 0,
          "numKilledTasks": 0,
          "numSkippedStages": 1,
          "numSkippedTasks": 8,
          "numTasks": 18,
          "rowCount": 20,
          "stageIds": [
           66,
           64,
           65
          ],
          "status": "SUCCEEDED",
          "submissionTime": "2023-07-17T05:30:37.489GMT",
          "usageDescription": ""
         },
         {
          "completionTime": "2023-07-17T05:30:37.483GMT",
          "dataRead": 1154,
          "dataWritten": 1154,
          "description": "Job group for statement 36:\nwith mlflow.start_run(run_id=raw_run.info.run_id):\n    auroc, auprc = evaluate(predictions)\n    mlflow.log_metrics({\"AUPRC\": auprc, \"AUROC\": auroc})\n    mlflow.log_params({\"Data_Enhancement\": \"None\", \"DATA_FILE\": DATA_FILE})",
          "displayName": "sortByKey at BinaryClassificationMetrics.scala:189",
          "jobGroup": "36",
          "jobId": 32,
          "killedTasksSummary": {},
          "name": "sortByKey at BinaryClassificationMetrics.scala:189",
          "numActiveStages": 0,
          "numActiveTasks": 0,
          "numCompletedIndices": 16,
          "numCompletedStages": 2,
          "numCompletedTasks": 16,
          "numFailedStages": 0,
          "numFailedTasks": 0,
          "numKilledTasks": 0,
          "numSkippedStages": 0,
          "numSkippedTasks": 0,
          "numTasks": 16,
          "rowCount": 32,
          "stageIds": [
           63,
           62
          ],
          "status": "SUCCEEDED",
          "submissionTime": "2023-07-17T05:30:37.157GMT",
          "usageDescription": ""
         }
        ],
        "limit": 20,
        "numbers": {
         "FAILED": 0,
         "RUNNING": 0,
         "SUCCEEDED": 9,
         "UNKNOWN": 0
        },
        "rule": "ALL_DESC"
       },
       "spark_pool": null,
       "state": "finished",
       "statement_id": 36
      },
      "text/plain": [
       "StatementMeta(, 563940d7-ec44-4e7f-9d02-3f4cc0d218d1, 36, Finished, Available)"
      ]
     },
     "metadata": {},
     "output_type": "display_data"
    },
    {
     "name": "stdout",
     "output_type": "stream",
     "text": [
      "The AUROC is: 0.7755\n",
      "The AUPRC is: 0.1889\n"
     ]
    }
   ],
   "source": [
    "with mlflow.start_run(run_id=raw_run.info.run_id):\n",
    "    auroc, auprc = evaluate(predictions)\n",
    "    mlflow.log_metrics({\"AUPRC\": auprc, \"AUROC\": auroc})\n",
    "    mlflow.log_params({\"Data_Enhancement\": \"None\", \"DATA_FILE\": DATA_FILE})"
   ]
  },
  {
   "cell_type": "markdown",
   "id": "152120b5-5570-48f8-b412-ef03999bd626",
   "metadata": {
    "nteract": {
     "transient": {
      "deleting": false
     }
    }
   },
   "source": [
    "**Log the AUC-ROC and AUPRC metrics for the model that is trained on the balanced (via SMOTE) dataset.**"
   ]
  },
  {
   "cell_type": "code",
   "execution_count": null,
   "id": "08a1bb3b-1fb9-47ec-8f67-0df4622a7779",
   "metadata": {
    "jupyter": {
     "outputs_hidden": false,
     "source_hidden": false
    },
    "nteract": {
     "transient": {
      "deleting": false
     }
    }
   },
   "outputs": [
    {
     "data": {
      "application/vnd.livy.statement-meta+json": {
       "execution_finish_time": "2023-07-17T05:30:43.0197341Z",
       "execution_start_time": "2023-07-17T05:30:40.5543773Z",
       "livy_statement_state": "available",
       "parent_msg_id": "d350b5a9-7265-42ba-b4f9-d4b28276a93a",
       "queued_time": "2023-07-17T05:28:57.7575585Z",
       "session_id": "563940d7-ec44-4e7f-9d02-3f4cc0d218d1",
       "session_start_time": null,
       "spark_jobs": {
        "jobs": [
         {
          "completionTime": "2023-07-17T05:30:41.879GMT",
          "dataRead": 245,
          "dataWritten": 0,
          "description": "Job group for statement 37:\nwith mlflow.start_run(run_id=smote_run.info.run_id):\n    auroc, auprc = evaluate(smote_predictions)\n    mlflow.log_metrics({\"AUPRC\": auprc, \"AUROC\": auroc})\n    mlflow.log_params({\"Data_Enhancement\": \"SMOTE\", \"DATA_FILE\": DATA_FILE})",
          "displayName": "collect at AreaUnderCurve.scala:44",
          "jobGroup": "37",
          "jobId": 49,
          "killedTasksSummary": {},
          "name": "collect at AreaUnderCurve.scala:44",
          "numActiveStages": 0,
          "numActiveTasks": 0,
          "numCompletedIndices": 2,
          "numCompletedStages": 1,
          "numCompletedTasks": 2,
          "numFailedStages": 0,
          "numFailedTasks": 0,
          "numKilledTasks": 0,
          "numSkippedStages": 2,
          "numSkippedTasks": 16,
          "numTasks": 18,
          "rowCount": 2,
          "stageIds": [
           111,
           109,
           110
          ],
          "status": "SUCCEEDED",
          "submissionTime": "2023-07-17T05:30:41.863GMT",
          "usageDescription": ""
         },
         {
          "completionTime": "2023-07-17T05:30:41.856GMT",
          "dataRead": 126,
          "dataWritten": 0,
          "description": "Job group for statement 37:\nwith mlflow.start_run(run_id=smote_run.info.run_id):\n    auroc, auprc = evaluate(smote_predictions)\n    mlflow.log_metrics({\"AUPRC\": auprc, \"AUROC\": auroc})\n    mlflow.log_params({\"Data_Enhancement\": \"SMOTE\", \"DATA_FILE\": DATA_FILE})",
          "displayName": "first at BinaryClassificationMetrics.scala:135",
          "jobGroup": "37",
          "jobId": 48,
          "killedTasksSummary": {},
          "name": "first at BinaryClassificationMetrics.scala:135",
          "numActiveStages": 0,
          "numActiveTasks": 0,
          "numCompletedIndices": 1,
          "numCompletedStages": 1,
          "numCompletedTasks": 1,
          "numFailedStages": 0,
          "numFailedTasks": 0,
          "numKilledTasks": 0,
          "numSkippedStages": 2,
          "numSkippedTasks": 16,
          "numTasks": 17,
          "rowCount": 1,
          "stageIds": [
           107,
           108,
           106
          ],
          "status": "SUCCEEDED",
          "submissionTime": "2023-07-17T05:30:41.841GMT",
          "usageDescription": ""
         },
         {
          "completionTime": "2023-07-17T05:30:41.831GMT",
          "dataRead": 251,
          "dataWritten": 0,
          "description": "Job group for statement 37:\nwith mlflow.start_run(run_id=smote_run.info.run_id):\n    auroc, auprc = evaluate(smote_predictions)\n    mlflow.log_metrics({\"AUPRC\": auprc, \"AUROC\": auroc})\n    mlflow.log_params({\"Data_Enhancement\": \"SMOTE\", \"DATA_FILE\": DATA_FILE})",
          "displayName": "collect at BinaryClassificationMetrics.scala:237",
          "jobGroup": "37",
          "jobId": 47,
          "killedTasksSummary": {},
          "name": "collect at BinaryClassificationMetrics.scala:237",
          "numActiveStages": 0,
          "numActiveTasks": 0,
          "numCompletedIndices": 2,
          "numCompletedStages": 1,
          "numCompletedTasks": 2,
          "numFailedStages": 0,
          "numFailedTasks": 0,
          "numKilledTasks": 0,
          "numSkippedStages": 2,
          "numSkippedTasks": 16,
          "numTasks": 18,
          "rowCount": 2,
          "stageIds": [
           103,
           104,
           105
          ],
          "status": "SUCCEEDED",
          "submissionTime": "2023-07-17T05:30:41.818GMT",
          "usageDescription": ""
         },
         {
          "completionTime": "2023-07-17T05:30:41.811GMT",
          "dataRead": 1393,
          "dataWritten": 251,
          "description": "Job group for statement 37:\nwith mlflow.start_run(run_id=smote_run.info.run_id):\n    auroc, auprc = evaluate(smote_predictions)\n    mlflow.log_metrics({\"AUPRC\": auprc, \"AUROC\": auroc})\n    mlflow.log_params({\"Data_Enhancement\": \"SMOTE\", \"DATA_FILE\": DATA_FILE})",
          "displayName": "count at BinaryClassificationMetrics.scala:197",
          "jobGroup": "37",
          "jobId": 46,
          "killedTasksSummary": {},
          "name": "count at BinaryClassificationMetrics.scala:197",
          "numActiveStages": 0,
          "numActiveTasks": 0,
          "numCompletedIndices": 10,
          "numCompletedStages": 2,
          "numCompletedTasks": 10,
          "numFailedStages": 0,
          "numFailedTasks": 0,
          "numKilledTasks": 0,
          "numSkippedStages": 1,
          "numSkippedTasks": 8,
          "numTasks": 18,
          "rowCount": 20,
          "stageIds": [
           102,
           100,
           101
          ],
          "status": "SUCCEEDED",
          "submissionTime": "2023-07-17T05:30:41.777GMT",
          "usageDescription": ""
         },
         {
          "completionTime": "2023-07-17T05:30:41.771GMT",
          "dataRead": 1142,
          "dataWritten": 1142,
          "description": "Job group for statement 37:\nwith mlflow.start_run(run_id=smote_run.info.run_id):\n    auroc, auprc = evaluate(smote_predictions)\n    mlflow.log_metrics({\"AUPRC\": auprc, \"AUROC\": auroc})\n    mlflow.log_params({\"Data_Enhancement\": \"SMOTE\", \"DATA_FILE\": DATA_FILE})",
          "displayName": "sortByKey at BinaryClassificationMetrics.scala:189",
          "jobGroup": "37",
          "jobId": 45,
          "killedTasksSummary": {},
          "name": "sortByKey at BinaryClassificationMetrics.scala:189",
          "numActiveStages": 0,
          "numActiveTasks": 0,
          "numCompletedIndices": 16,
          "numCompletedStages": 2,
          "numCompletedTasks": 16,
          "numFailedStages": 0,
          "numFailedTasks": 0,
          "numKilledTasks": 0,
          "numSkippedStages": 0,
          "numSkippedTasks": 0,
          "numTasks": 16,
          "rowCount": 32,
          "stageIds": [
           99,
           98
          ],
          "status": "SUCCEEDED",
          "submissionTime": "2023-07-17T05:30:41.483GMT",
          "usageDescription": ""
         },
         {
          "completionTime": "2023-07-17T05:30:41.454GMT",
          "dataRead": 251,
          "dataWritten": 0,
          "description": "Job group for statement 37:\nwith mlflow.start_run(run_id=smote_run.info.run_id):\n    auroc, auprc = evaluate(smote_predictions)\n    mlflow.log_metrics({\"AUPRC\": auprc, \"AUROC\": auroc})\n    mlflow.log_params({\"Data_Enhancement\": \"SMOTE\", \"DATA_FILE\": DATA_FILE})",
          "displayName": "collect at AreaUnderCurve.scala:44",
          "jobGroup": "37",
          "jobId": 44,
          "killedTasksSummary": {},
          "name": "collect at AreaUnderCurve.scala:44",
          "numActiveStages": 0,
          "numActiveTasks": 0,
          "numCompletedIndices": 2,
          "numCompletedStages": 1,
          "numCompletedTasks": 2,
          "numFailedStages": 0,
          "numFailedTasks": 0,
          "numKilledTasks": 0,
          "numSkippedStages": 2,
          "numSkippedTasks": 16,
          "numTasks": 18,
          "rowCount": 2,
          "stageIds": [
           96,
           97,
           95
          ],
          "status": "SUCCEEDED",
          "submissionTime": "2023-07-17T05:30:41.437GMT",
          "usageDescription": ""
         },
         {
          "completionTime": "2023-07-17T05:30:41.428GMT",
          "dataRead": 251,
          "dataWritten": 0,
          "description": "Job group for statement 37:\nwith mlflow.start_run(run_id=smote_run.info.run_id):\n    auroc, auprc = evaluate(smote_predictions)\n    mlflow.log_metrics({\"AUPRC\": auprc, \"AUROC\": auroc})\n    mlflow.log_params({\"Data_Enhancement\": \"SMOTE\", \"DATA_FILE\": DATA_FILE})",
          "displayName": "collect at BinaryClassificationMetrics.scala:237",
          "jobGroup": "37",
          "jobId": 43,
          "killedTasksSummary": {},
          "name": "collect at BinaryClassificationMetrics.scala:237",
          "numActiveStages": 0,
          "numActiveTasks": 0,
          "numCompletedIndices": 2,
          "numCompletedStages": 1,
          "numCompletedTasks": 2,
          "numFailedStages": 0,
          "numFailedTasks": 0,
          "numKilledTasks": 0,
          "numSkippedStages": 2,
          "numSkippedTasks": 16,
          "numTasks": 18,
          "rowCount": 2,
          "stageIds": [
           93,
           94,
           92
          ],
          "status": "SUCCEEDED",
          "submissionTime": "2023-07-17T05:30:41.416GMT",
          "usageDescription": ""
         },
         {
          "completionTime": "2023-07-17T05:30:41.409GMT",
          "dataRead": 1393,
          "dataWritten": 251,
          "description": "Job group for statement 37:\nwith mlflow.start_run(run_id=smote_run.info.run_id):\n    auroc, auprc = evaluate(smote_predictions)\n    mlflow.log_metrics({\"AUPRC\": auprc, \"AUROC\": auroc})\n    mlflow.log_params({\"Data_Enhancement\": \"SMOTE\", \"DATA_FILE\": DATA_FILE})",
          "displayName": "count at BinaryClassificationMetrics.scala:197",
          "jobGroup": "37",
          "jobId": 42,
          "killedTasksSummary": {},
          "name": "count at BinaryClassificationMetrics.scala:197",
          "numActiveStages": 0,
          "numActiveTasks": 0,
          "numCompletedIndices": 10,
          "numCompletedStages": 2,
          "numCompletedTasks": 10,
          "numFailedStages": 0,
          "numFailedTasks": 0,
          "numKilledTasks": 0,
          "numSkippedStages": 1,
          "numSkippedTasks": 8,
          "numTasks": 18,
          "rowCount": 20,
          "stageIds": [
           89,
           90,
           91
          ],
          "status": "SUCCEEDED",
          "submissionTime": "2023-07-17T05:30:41.357GMT",
          "usageDescription": ""
         },
         {
          "completionTime": "2023-07-17T05:30:41.348GMT",
          "dataRead": 1142,
          "dataWritten": 1142,
          "description": "Job group for statement 37:\nwith mlflow.start_run(run_id=smote_run.info.run_id):\n    auroc, auprc = evaluate(smote_predictions)\n    mlflow.log_metrics({\"AUPRC\": auprc, \"AUROC\": auroc})\n    mlflow.log_params({\"Data_Enhancement\": \"SMOTE\", \"DATA_FILE\": DATA_FILE})",
          "displayName": "sortByKey at BinaryClassificationMetrics.scala:189",
          "jobGroup": "37",
          "jobId": 41,
          "killedTasksSummary": {},
          "name": "sortByKey at BinaryClassificationMetrics.scala:189",
          "numActiveStages": 0,
          "numActiveTasks": 0,
          "numCompletedIndices": 16,
          "numCompletedStages": 2,
          "numCompletedTasks": 16,
          "numFailedStages": 0,
          "numFailedTasks": 0,
          "numKilledTasks": 0,
          "numSkippedStages": 0,
          "numSkippedTasks": 0,
          "numTasks": 16,
          "rowCount": 32,
          "stageIds": [
           88,
           87
          ],
          "status": "SUCCEEDED",
          "submissionTime": "2023-07-17T05:30:41.069GMT",
          "usageDescription": ""
         }
        ],
        "limit": 20,
        "numbers": {
         "FAILED": 0,
         "RUNNING": 0,
         "SUCCEEDED": 9,
         "UNKNOWN": 0
        },
        "rule": "ALL_DESC"
       },
       "spark_pool": null,
       "state": "finished",
       "statement_id": 37
      },
      "text/plain": [
       "StatementMeta(, 563940d7-ec44-4e7f-9d02-3f4cc0d218d1, 37, Finished, Available)"
      ]
     },
     "metadata": {},
     "output_type": "display_data"
    },
    {
     "name": "stdout",
     "output_type": "stream",
     "text": [
      "The AUROC is: 0.9118\n",
      "The AUPRC is: 0.5921\n"
     ]
    }
   ],
   "source": [
    "with mlflow.start_run(run_id=smote_run.info.run_id):\n",
    "    auroc, auprc = evaluate(smote_predictions)\n",
    "    mlflow.log_metrics({\"AUPRC\": auprc, \"AUROC\": auroc})\n",
    "    mlflow.log_params({\"Data_Enhancement\": \"SMOTE\", \"DATA_FILE\": DATA_FILE})"
   ]
  },
  {
   "cell_type": "markdown",
   "id": "2cb1662d-23bc-44cd-9781-94c5aaf0f77f",
   "metadata": {
    "nteract": {
     "transient": {
      "deleting": false
     }
    }
   },
   "source": [
    "As shown in the image below, any experiment with its respective name is logged and we will be able to track its parameters and performance metrics. We can also see that the models performs much better on the balanced dataset, since a higher AUROC indicates that the model is better at predicting 0 classes as 0 and 1 classes as 1.\n",
    "\n",
    "\n",
    "<img style=\"float: left;\" src=\"https://synapseaisolutionsa.blob.core.windows.net/public/Credit_Card_Fraud_Detection/fraud-mlflow.png\"  width=\"45%\" height=\"10%\">\n",
    "<img style=\"float: left;\" src=\"https://synapseaisolutionsa.blob.core.windows.net/public/Credit_Card_Fraud_Detection/fraud-logging.png\"  width=\"45%\" height=\"10%\"> \n",
    "\n",
    "\n"
   ]
  },
  {
   "cell_type": "markdown",
   "id": "32821d73-df8e-442c-94ea-3ed6b202b4a9",
   "metadata": {
    "nteract": {
     "transient": {
      "deleting": false
     }
    }
   },
   "source": [
    "## Step 5: Register the Model\n",
    "\n",
    "Use MLflow to register the models trained on both the imbalanced and balanced (via SMOTE) datasets."
   ]
  },
  {
   "cell_type": "code",
   "execution_count": null,
   "id": "7ab74f27-d9d4-4a6a-9ea9-ad748f1a73e0",
   "metadata": {
    "jupyter": {
     "outputs_hidden": false,
     "source_hidden": false
    },
    "nteract": {
     "transient": {
      "deleting": false
     }
    }
   },
   "outputs": [
    {
     "data": {
      "application/vnd.livy.statement-meta+json": {
       "execution_finish_time": "2023-07-17T05:30:51.9607625Z",
       "execution_start_time": "2023-07-17T05:30:43.3755553Z",
       "livy_statement_state": "available",
       "parent_msg_id": "ec00ca90-7031-4a1c-ae1a-4e2ce1effe0a",
       "queued_time": "2023-07-17T05:28:57.7586274Z",
       "session_id": "563940d7-ec44-4e7f-9d02-3f4cc0d218d1",
       "session_start_time": null,
       "spark_jobs": {
        "jobs": [],
        "limit": 20,
        "numbers": {
         "FAILED": 0,
         "RUNNING": 0,
         "SUCCEEDED": 0,
         "UNKNOWN": 0
        },
        "rule": "ALL_DESC"
       },
       "spark_pool": null,
       "state": "finished",
       "statement_id": 38
      },
      "text/plain": [
       "StatementMeta(, 563940d7-ec44-4e7f-9d02-3f4cc0d218d1, 38, Finished, Available)"
      ]
     },
     "metadata": {},
     "output_type": "display_data"
    },
    {
     "name": "stderr",
     "output_type": "stream",
     "text": [
      "Successfully registered model 'aisample-fraud-lightgbm'.\n",
      "2023/07/17 05:30:48 INFO mlflow.tracking._model_registry.client: Waiting up to 300 seconds for model version to finish creation.                     Model name: aisample-fraud-lightgbm, version 1\n",
      "Created version '1' of model 'aisample-fraud-lightgbm'.\n",
      "Successfully registered model 'aisample-fraud-lightgbm'.\n",
      "2023/07/17 05:30:50 INFO mlflow.tracking._model_registry.client: Waiting up to 300 seconds for model version to finish creation.                     Model name: aisample-fraud-lightgbm, version 2\n",
      "Created version '2' of model 'aisample-fraud-lightgbm'.\n"
     ]
    },
    {
     "data": {
      "text/plain": [
       "<ModelVersion: creation_timestamp=1689571849691, current_stage='None', description='', last_updated_timestamp=1689571849691, name='aisample-fraud-lightgbm', run_id='c3f7aa87-fa23-4713-a2f1-0640d90e1a0c', run_link='', source='abfss://d2a85142-94be-4d6a-b988-13da340ac6b3@olswestch7x2f49bqoy8a5n7.dfs.core.windows.net/2771826d-e977-4876-a6e6-344430e5dc18/7522f1b1-9436-400f-b0a7-e6cf9b6df5fa/artifacts', status='READY', status_message='', tags={}, user_id='', version='2'>"
      ]
     },
     "execution_count": null,
     "metadata": {},
     "output_type": "execute_result"
    }
   ],
   "source": [
    "# Register the model\n",
    "registered_model_name = f\"{EXPERIMENT_NAME}-lightgbm\"\n",
    "\n",
    "raw_model_uri = \"runs:/{}/model\".format(raw_run.info.run_id)\n",
    "mlflow.register_model(raw_model_uri, registered_model_name)\n",
    "\n",
    "smote_model_uri = \"runs:/{}/model\".format(smote_run.info.run_id)\n",
    "mlflow.register_model(smote_model_uri, registered_model_name)"
   ]
  },
  {
   "cell_type": "markdown",
   "id": "19270bf2-e9f2-4a14-b37b-dffa70eda933",
   "metadata": {
    "nteract": {
     "transient": {
      "deleting": false
     }
    }
   },
   "source": [
    "## Step 6: Save the Prediction Results\n",
    "\n",
    "Microsoft Fabric allows users to operationalize machine learning models with a scalable function called ```PREDICT```, which supports batch scoring in any compute engine.\n",
    "\n",
    "We can generate batch predictions directly from the Microsoft Fabric notebook or from a given model's item page. You can learn more about ```PREDICT``` and how to use it within Microsoft Fabric [here](https://aka.ms/fabric-predict).\n",
    "\n",
    "In this section, we'll deploy the model and save the prediction results."
   ]
  },
  {
   "cell_type": "code",
   "execution_count": null,
   "id": "4bd5337a-56c2-4e3e-86f3-36e2c4ab3e9e",
   "metadata": {
    "jupyter": {
     "outputs_hidden": false,
     "source_hidden": false
    },
    "nteract": {
     "transient": {
      "deleting": false
     }
    }
   },
   "outputs": [
    {
     "data": {
      "application/vnd.livy.statement-meta+json": {
       "execution_finish_time": "2023-07-17T05:30:53.8655889Z",
       "execution_start_time": "2023-07-17T05:30:52.3128342Z",
       "livy_statement_state": "available",
       "parent_msg_id": "2917584d-3377-41de-8a6c-57e0a1b81591",
       "queued_time": "2023-07-17T05:28:57.7703556Z",
       "session_id": "563940d7-ec44-4e7f-9d02-3f4cc0d218d1",
       "session_start_time": null,
       "spark_jobs": {
        "jobs": [],
        "limit": 20,
        "numbers": {
         "FAILED": 0,
         "RUNNING": 0,
         "SUCCEEDED": 0,
         "UNKNOWN": 0
        },
        "rule": "ALL_DESC"
       },
       "spark_pool": null,
       "state": "finished",
       "statement_id": 39
      },
      "text/plain": [
       "StatementMeta(, 563940d7-ec44-4e7f-9d02-3f4cc0d218d1, 39, Finished, Available)"
      ]
     },
     "metadata": {},
     "output_type": "display_data"
    },
    {
     "name": "stderr",
     "output_type": "stream",
     "text": [
      "/opt/spark/python/lib/pyspark.zip/pyspark/sql/pandas/functions.py:394: UserWarning: In Python 3.6+ and Spark 3.0+, it is preferred to specify type hints for pandas UDF instead of specifying pandas UDF type which will be deprecated in the future releases. See SPARK-28264 for more details.\n",
      "/opt/spark/python/lib/pyspark.zip/pyspark/sql/pandas/conversion.py:604: FutureWarning: iteritems is deprecated and will be removed in a future version. Use .items instead.\n",
      "  [(c, t) for (_, c), t in zip(pdf_slice.iteritems(), arrow_types)]\n"
     ]
    }
   ],
   "source": [
    "from synapse.ml.predict import MLFlowTransformer\n",
    "\n",
    "spark.conf.set(\"spark.synapse.ml.predict.enabled\", \"true\")\n",
    "\n",
    "model = MLFlowTransformer(\n",
    "    inputCols=feature_cols,\n",
    "    outputCol=\"prediction\",\n",
    "    modelName=f\"{EXPERIMENT_NAME}-lightgbm\",\n",
    "    modelVersion=2,\n",
    ")\n",
    "\n",
    "test_spark = spark.createDataFrame(data=test, schema=test.columns.to_list())\n",
    "\n",
    "batch_predictions = model.transform(test_spark)"
   ]
  },
  {
   "cell_type": "code",
   "execution_count": null,
   "id": "a7ef7893-a41e-4f09-a718-a4f4e59fc044",
   "metadata": {
    "jupyter": {
     "outputs_hidden": false,
     "source_hidden": false
    },
    "nteract": {
     "transient": {
      "deleting": false
     }
    }
   },
   "outputs": [
    {
     "data": {
      "application/vnd.livy.statement-meta+json": {
       "execution_finish_time": "2023-07-17T05:31:06.3217157Z",
       "execution_start_time": "2023-07-17T05:30:54.2999819Z",
       "livy_statement_state": "available",
       "parent_msg_id": "5b58f25d-8ea3-417d-82ca-50930e9d6442",
       "queued_time": "2023-07-17T05:28:57.7714402Z",
       "session_id": "563940d7-ec44-4e7f-9d02-3f4cc0d218d1",
       "session_start_time": null,
       "spark_jobs": {
        "jobs": [
         {
          "completionTime": "2023-07-17T05:31:04.526GMT",
          "dataRead": 4532,
          "dataWritten": 0,
          "description": "Delta: Job group for statement 40:\n# Save the predictions into the lakehouse\nbatch_predictions.write.format(\"delta\").mode(\"overwrite\").save(f\"{DATA_FOLDER}/predictions/batch_predictions\"): Compute snapshot for version: 9",
          "displayName": "toString at String.java:2994",
          "jobGroup": "40",
          "jobId": 58,
          "killedTasksSummary": {},
          "name": "toString at String.java:2994",
          "numActiveStages": 0,
          "numActiveTasks": 0,
          "numCompletedIndices": 1,
          "numCompletedStages": 1,
          "numCompletedTasks": 1,
          "numFailedStages": 0,
          "numFailedTasks": 0,
          "numKilledTasks": 0,
          "numSkippedStages": 2,
          "numSkippedTasks": 55,
          "numTasks": 56,
          "rowCount": 50,
          "stageIds": [
           126,
           127,
           128
          ],
          "status": "SUCCEEDED",
          "submissionTime": "2023-07-17T05:31:04.487GMT",
          "usageDescription": ""
         },
         {
          "completionTime": "2023-07-17T05:31:04.466GMT",
          "dataRead": 25909,
          "dataWritten": 4532,
          "description": "Delta: Job group for statement 40:\n# Save the predictions into the lakehouse\nbatch_predictions.write.format(\"delta\").mode(\"overwrite\").save(f\"{DATA_FOLDER}/predictions/batch_predictions\"): Compute snapshot for version: 9",
          "displayName": "toString at String.java:2994",
          "jobGroup": "40",
          "jobId": 57,
          "killedTasksSummary": {},
          "name": "toString at String.java:2994",
          "numActiveStages": 0,
          "numActiveTasks": 0,
          "numCompletedIndices": 50,
          "numCompletedStages": 1,
          "numCompletedTasks": 50,
          "numFailedStages": 0,
          "numFailedTasks": 0,
          "numKilledTasks": 0,
          "numSkippedStages": 1,
          "numSkippedTasks": 5,
          "numTasks": 55,
          "rowCount": 81,
          "stageIds": [
           125,
           124
          ],
          "status": "SUCCEEDED",
          "submissionTime": "2023-07-17T05:31:03.886GMT",
          "usageDescription": ""
         },
         {
          "completionTime": "2023-07-17T05:31:03.737GMT",
          "dataRead": 30225,
          "dataWritten": 25909,
          "description": "Delta: Job group for statement 40:\n# Save the predictions into the lakehouse\nbatch_predictions.write.format(\"delta\").mode(\"overwrite\").save(f\"{DATA_FOLDER}/predictions/batch_predictions\"): Compute snapshot for version: 9",
          "displayName": "toString at String.java:2994",
          "jobGroup": "40",
          "jobId": 56,
          "killedTasksSummary": {},
          "name": "toString at String.java:2994",
          "numActiveStages": 0,
          "numActiveTasks": 0,
          "numCompletedIndices": 5,
          "numCompletedStages": 1,
          "numCompletedTasks": 5,
          "numFailedStages": 0,
          "numFailedTasks": 0,
          "numKilledTasks": 0,
          "numSkippedStages": 0,
          "numSkippedTasks": 0,
          "numTasks": 5,
          "rowCount": 62,
          "stageIds": [
           123
          ],
          "status": "SUCCEEDED",
          "submissionTime": "2023-07-17T05:31:03.611GMT",
          "usageDescription": ""
         },
         {
          "completionTime": "2023-07-17T05:31:03.075GMT",
          "dataRead": 4673,
          "dataWritten": 0,
          "description": "Job group for statement 40:\n# Save the predictions into the lakehouse\nbatch_predictions.write.format(\"delta\").mode(\"overwrite\").save(f\"{DATA_FOLDER}/predictions/batch_predictions\")",
          "displayName": "$anonfun$recordDeltaOperationInternal$1 at SynapseLoggingShim.scala:95",
          "jobGroup": "40",
          "jobId": 55,
          "killedTasksSummary": {},
          "name": "$anonfun$recordDeltaOperationInternal$1 at SynapseLoggingShim.scala:95",
          "numActiveStages": 0,
          "numActiveTasks": 0,
          "numCompletedIndices": 50,
          "numCompletedStages": 1,
          "numCompletedTasks": 50,
          "numFailedStages": 0,
          "numFailedTasks": 0,
          "numKilledTasks": 0,
          "numSkippedStages": 1,
          "numSkippedTasks": 5,
          "numTasks": 55,
          "rowCount": 11,
          "stageIds": [
           121,
           122
          ],
          "status": "SUCCEEDED",
          "submissionTime": "2023-07-17T05:31:02.874GMT",
          "usageDescription": ""
         },
         {
          "completionTime": "2023-07-17T05:31:02.766GMT",
          "dataRead": 10318790,
          "dataWritten": 12254210,
          "description": "Job group for statement 40:\n# Save the predictions into the lakehouse\nbatch_predictions.write.format(\"delta\").mode(\"overwrite\").save(f\"{DATA_FOLDER}/predictions/batch_predictions\")",
          "displayName": "save at NativeMethodAccessorImpl.java:0",
          "jobGroup": "40",
          "jobId": 54,
          "killedTasksSummary": {},
          "name": "save at NativeMethodAccessorImpl.java:0",
          "numActiveStages": 0,
          "numActiveTasks": 0,
          "numCompletedIndices": 1,
          "numCompletedStages": 1,
          "numCompletedTasks": 1,
          "numFailedStages": 0,
          "numFailedTasks": 0,
          "numKilledTasks": 0,
          "numSkippedStages": 1,
          "numSkippedTasks": 8,
          "numTasks": 9,
          "rowCount": 85444,
          "stageIds": [
           119,
           120
          ],
          "status": "SUCCEEDED",
          "submissionTime": "2023-07-17T05:31:01.726GMT",
          "usageDescription": ""
         },
         {
          "completionTime": "2023-07-17T05:31:01.620GMT",
          "dataRead": 0,
          "dataWritten": 10318790,
          "description": "Job group for statement 40:\n# Save the predictions into the lakehouse\nbatch_predictions.write.format(\"delta\").mode(\"overwrite\").save(f\"{DATA_FOLDER}/predictions/batch_predictions\")",
          "displayName": "save at NativeMethodAccessorImpl.java:0",
          "jobGroup": "40",
          "jobId": 53,
          "killedTasksSummary": {},
          "name": "save at NativeMethodAccessorImpl.java:0",
          "numActiveStages": 0,
          "numActiveTasks": 0,
          "numCompletedIndices": 8,
          "numCompletedStages": 1,
          "numCompletedTasks": 8,
          "numFailedStages": 0,
          "numFailedTasks": 0,
          "numKilledTasks": 0,
          "numSkippedStages": 0,
          "numSkippedTasks": 0,
          "numTasks": 8,
          "rowCount": 42722,
          "stageIds": [
           118
          ],
          "status": "SUCCEEDED",
          "submissionTime": "2023-07-17T05:30:55.958GMT",
          "usageDescription": ""
         },
         {
          "completionTime": "2023-07-17T05:30:55.784GMT",
          "dataRead": 4527,
          "dataWritten": 0,
          "description": "Delta: Job group for statement 40:\n# Save the predictions into the lakehouse\nbatch_predictions.write.format(\"delta\").mode(\"overwrite\").save(f\"{DATA_FOLDER}/predictions/batch_predictions\"): Compute snapshot for version: 8",
          "displayName": "toString at String.java:2994",
          "jobGroup": "40",
          "jobId": 52,
          "killedTasksSummary": {},
          "name": "toString at String.java:2994",
          "numActiveStages": 0,
          "numActiveTasks": 0,
          "numCompletedIndices": 1,
          "numCompletedStages": 1,
          "numCompletedTasks": 1,
          "numFailedStages": 0,
          "numFailedTasks": 0,
          "numKilledTasks": 0,
          "numSkippedStages": 2,
          "numSkippedTasks": 55,
          "numTasks": 56,
          "rowCount": 50,
          "stageIds": [
           117,
           115,
           116
          ],
          "status": "SUCCEEDED",
          "submissionTime": "2023-07-17T05:30:55.740GMT",
          "usageDescription": ""
         },
         {
          "completionTime": "2023-07-17T05:30:55.718GMT",
          "dataRead": 24339,
          "dataWritten": 4527,
          "description": "Delta: Job group for statement 40:\n# Save the predictions into the lakehouse\nbatch_predictions.write.format(\"delta\").mode(\"overwrite\").save(f\"{DATA_FOLDER}/predictions/batch_predictions\"): Compute snapshot for version: 8",
          "displayName": "toString at String.java:2994",
          "jobGroup": "40",
          "jobId": 51,
          "killedTasksSummary": {},
          "name": "toString at String.java:2994",
          "numActiveStages": 0,
          "numActiveTasks": 0,
          "numCompletedIndices": 50,
          "numCompletedStages": 1,
          "numCompletedTasks": 50,
          "numFailedStages": 0,
          "numFailedTasks": 0,
          "numKilledTasks": 0,
          "numSkippedStages": 1,
          "numSkippedTasks": 5,
          "numTasks": 55,
          "rowCount": 78,
          "stageIds": [
           114,
           113
          ],
          "status": "SUCCEEDED",
          "submissionTime": "2023-07-17T05:30:55.015GMT",
          "usageDescription": ""
         },
         {
          "completionTime": "2023-07-17T05:30:54.815GMT",
          "dataRead": 27443,
          "dataWritten": 24339,
          "description": "Delta: Job group for statement 40:\n# Save the predictions into the lakehouse\nbatch_predictions.write.format(\"delta\").mode(\"overwrite\").save(f\"{DATA_FOLDER}/predictions/batch_predictions\"): Compute snapshot for version: 8",
          "displayName": "toString at String.java:2994",
          "jobGroup": "40",
          "jobId": 50,
          "killedTasksSummary": {},
          "name": "toString at String.java:2994",
          "numActiveStages": 0,
          "numActiveTasks": 0,
          "numCompletedIndices": 5,
          "numCompletedStages": 1,
          "numCompletedTasks": 5,
          "numFailedStages": 0,
          "numFailedTasks": 0,
          "numKilledTasks": 0,
          "numSkippedStages": 0,
          "numSkippedTasks": 0,
          "numTasks": 5,
          "rowCount": 56,
          "stageIds": [
           112
          ],
          "status": "SUCCEEDED",
          "submissionTime": "2023-07-17T05:30:54.658GMT",
          "usageDescription": ""
         }
        ],
        "limit": 20,
        "numbers": {
         "FAILED": 0,
         "RUNNING": 0,
         "SUCCEEDED": 9,
         "UNKNOWN": 0
        },
        "rule": "ALL_DESC"
       },
       "spark_pool": null,
       "state": "finished",
       "statement_id": 40
      },
      "text/plain": [
       "StatementMeta(, 563940d7-ec44-4e7f-9d02-3f4cc0d218d1, 40, Finished, Available)"
      ]
     },
     "metadata": {},
     "output_type": "display_data"
    }
   ],
   "source": [
    "# Save the predictions into the lakehouse\n",
    "batch_predictions.write.format(\"delta\").mode(\"overwrite\").save(f\"{DATA_FOLDER}/predictions/batch_predictions\")"
   ]
  },
  {
   "cell_type": "code",
   "execution_count": null,
   "id": "7b499738-7a5f-4cb0-98db-efe7a0926d3e",
   "metadata": {
    "jupyter": {
     "outputs_hidden": false,
     "source_hidden": false
    },
    "nteract": {
     "transient": {
      "deleting": false
     }
    }
   },
   "outputs": [
    {
     "data": {
      "application/vnd.livy.statement-meta+json": {
       "execution_finish_time": "2023-07-17T05:31:09.1453741Z",
       "execution_start_time": "2023-07-17T05:31:06.7318506Z",
       "livy_statement_state": "available",
       "parent_msg_id": "a4dc0c26-a858-4bd0-b0c3-2db742d61ae7",
       "queued_time": "2023-07-17T05:28:57.7724479Z",
       "session_id": "563940d7-ec44-4e7f-9d02-3f4cc0d218d1",
       "session_start_time": null,
       "spark_jobs": {
        "jobs": [
         {
          "completionTime": "2023-07-17T05:31:08.543GMT",
          "dataRead": 0,
          "dataWritten": 10195,
          "description": "Job group for statement 41:\n# Determine the entire runtime\nbatch_predictions.limit(5).toPandas()\nprint(f\"Full run cost {int(time.time() - ts)} seconds.\")",
          "displayName": "toPandas at /tmp/ipykernel_1291/2174249209.py:2",
          "jobGroup": "41",
          "jobId": 59,
          "killedTasksSummary": {},
          "name": "toPandas at /tmp/ipykernel_1291/2174249209.py:2",
          "numActiveStages": 0,
          "numActiveTasks": 0,
          "numCompletedIndices": 9,
          "numCompletedStages": 2,
          "numCompletedTasks": 9,
          "numFailedStages": 0,
          "numFailedTasks": 0,
          "numKilledTasks": 0,
          "numSkippedStages": 0,
          "numSkippedTasks": 0,
          "numTasks": 9,
          "rowCount": 40,
          "stageIds": [
           129,
           130
          ],
          "status": "SUCCEEDED",
          "submissionTime": "2023-07-17T05:31:06.726GMT",
          "usageDescription": ""
         }
        ],
        "limit": 20,
        "numbers": {
         "FAILED": 0,
         "RUNNING": 0,
         "SUCCEEDED": 1,
         "UNKNOWN": 0
        },
        "rule": "ALL_DESC"
       },
       "spark_pool": null,
       "state": "finished",
       "statement_id": 41
      },
      "text/plain": [
       "StatementMeta(, 563940d7-ec44-4e7f-9d02-3f4cc0d218d1, 41, Finished, Available)"
      ]
     },
     "metadata": {},
     "output_type": "display_data"
    },
    {
     "name": "stdout",
     "output_type": "stream",
     "text": [
      "Full run cost 100 seconds.\n"
     ]
    }
   ],
   "source": [
    "# Determine the entire runtime\n",
    "batch_predictions.limit(5).toPandas()\n",
    "print(f\"Full run cost {int(time.time() - ts)} seconds.\")"
   ]
  }
 ],
 "metadata": {
  "kernel_info": {
   "name": "synapse_pyspark"
  },
  "kernelspec": {
   "display_name": "Synapse PySpark",
   "language": "Python",
   "name": "synapse_pyspark"
  },
  "language_info": {
   "name": "python"
  },
  "notebook_environment": {},
  "nteract": {
   "version": "nteract-front-end@1.0.0"
  },
  "save_output": true,
  "spark_compute": {
   "compute_id": "/trident/default",
   "session_options": {
    "conf": {},
    "enableDebugMode": false
   }
  }
 },
 "nbformat": 4,
 "nbformat_minor": 5
}
