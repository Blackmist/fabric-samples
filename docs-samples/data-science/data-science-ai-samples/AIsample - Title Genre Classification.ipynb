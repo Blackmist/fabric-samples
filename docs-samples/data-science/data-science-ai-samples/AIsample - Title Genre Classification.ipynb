{
 "cells": [
  {
   "cell_type": "markdown",
   "id": "290c610a-d11a-4c59-bc50-ebe07b6be7bc",
   "metadata": {
    "nteract": {
     "transient": {
      "deleting": false
     }
    }
   },
   "source": [
    "# Creating, Evaluating, and Deploying a Text Classification Model"
   ]
  },
  {
   "cell_type": "markdown",
   "id": "fcef74af-ab8a-48b8-8d91-e7938ebda013",
   "metadata": {
    "nteract": {
     "transient": {
      "deleting": false
     }
    }
   },
   "source": [
    "## Introduction\n",
    "\n",
    "In this notebook, we will demonstrate Microsoft Fabric end-to-end data science workflow for a text classification model. The scenario is to use word2vec and logistic regression on Spark to determine a book's genre from the British Library book dataset solely based on the book's title.\n",
    "\n",
    "The summary of the main steps we take in this notebook are as following:\n",
    "\n",
    "1. Install custom libraries\n",
    "2. Load and process the data\n",
    "3. Understand the data using exploratory data analysis\n",
    "4. Train a machine learning model using word2vec and logistic regression\n",
    "5. Load the machine learning model for scoring and make predictions\n",
    "\n",
    "## Prerequisites\n",
    "- Have a lakehouse added to this notebook. We will be downloading data from a public blob, and storing that in the lakehouse. "
   ]
  },
  {
   "cell_type": "markdown",
   "id": "0ecf049b-ad32-49fb-bac5-238ba67aad38",
   "metadata": {
    "nteract": {
     "transient": {
      "deleting": false
     }
    }
   },
   "source": [
    "<mark></mark>\n",
    "## Step 1: Install Custom Libraries\n",
    "When developing a machine learning model or doing ad-hoc data analysis, we may need to quickly install a custom library for the Apache Spark session. To do this, we have two approaches. \n",
    "\n",
    "1. We can use the in-line installation capabilities (e.g., pip, conda, etc.) to quickly get started with new libraries.\n",
    "```python\n",
    "# Use pip to install libraries\n",
    "%pip install <library name>\n",
    "\n",
    "# Use conda to install libraries\n",
    "%conda install <library name>\n",
    " \n",
    "```\n",
    "2. Alternatively, we can install the required libraries in the workspace. Navigate to the workspace setting as shown below and then click on Library management.\n",
    "\n",
    "<img style=\"float: left;\" src=\"https://synapseaisolutionsa.blob.core.windows.net/public/Credit_Card_Fraud_Detection/librarymanagement2.png\"  width=\"45%\" height=\"10%\">\n",
    "<img style=\"float: left;\" src=\"https://synapseaisolutionsa.blob.core.windows.net/public/Credit_Card_Fraud_Detection/librarymanagement1.png\"  width=\"45%\" height=\"10%\"> \n"
   ]
  },
  {
   "cell_type": "markdown",
   "id": "0ca5b372-a39a-4a8a-8885-bae94a89e76d",
   "metadata": {
    "nteract": {
     "transient": {
      "deleting": false
     }
    }
   },
   "source": [
    "We can then select how to install the required libraries, e.g., add from PyPi, add from .yml file, etc. Since we are using PyPi, we click on `+ Add from PyPi` and then select the desired libraries and their corresponding versions from the drop down and then click on the Apply. This will automatically install all selected libraries in the workspace.\n",
    "\n",
    "<img src=\"https://synapseaisolutionsa.blob.core.windows.net/public/Title_Genre_Classification/librarymanagement-wordcloud.png\"  width=\"50%\" height=\"20%\">"
   ]
  },
  {
   "cell_type": "markdown",
   "id": "ed641f2d-b12a-4449-87ea-2dfb844b22b7",
   "metadata": {},
   "source": [
    "To build our classification model, we will be using the `wordcloud` library which is used to represent the frequency of words in a text where the size of the word represents its frequency. In order to install `wordcloud`, we will proceed with the first approach in Step 1.\n",
    "\n",
    "Note that the PySpark kernel will be restarted after `%pip install`, thus we need to install the library before we run any other cells."
   ]
  },
  {
   "cell_type": "code",
   "execution_count": null,
   "id": "0846876f-3a76-4857-b559-fa8fa8492b95",
   "metadata": {},
   "outputs": [],
   "source": [
    "# Install wordcloud for text visualization\n",
    "%pip install wordcloud"
   ]
  },
  {
   "cell_type": "markdown",
   "id": "11e63bb4-0303-4af1-aa2f-43bf99b06f1a",
   "metadata": {
    "nteract": {
     "transient": {
      "deleting": false
     }
    }
   },
   "source": [
    "## Step 2: Load and Process the Data\n",
    "\n",
    "#### Dataset \n",
    "\n",
    "The dataset is from the [British Library book dataset](https://huggingface.co/datasets/blbooksgenre) and comprises of metadata about books that have been digitized through collaboration between the British Library and Microsoft. The dataset consists of classifications which were created by humans to indicate whether a book is \"fiction\" or \"non-fiction.\" Using this dataset, our goal is to train a classification model that determines a book's genre solely based on its title.\n",
    "\n",
    "|BL record ID|Type of resource|Name|Dates associated with name|Type of name|Role|All names|Title|Variant titles|Series title|Number within series|Country of publication|Place of publication|Publisher|Date of publication|Edition|Physical description|Dewey classification|BL shelfmark|Topics|Genre|Languages|Notes|BL record ID for physical resource|classification_id|user_id|created_at|subject_ids|annotator_date_pub|annotator_normalised_date_pub|annotator_edition_statement|annotator_genre|annotator_FAST_genre_terms|annotator_FAST_subject_terms|annotator_comments|annotator_main_language|annotator_other_languages_summaries|annotator_summaries_language|annotator_translation|annotator_original_language|annotator_publisher|annotator_place_pub|annotator_country|annotator_title|Link to digitised book|annotated|\n",
    "|---|---|---|---|---|---|---|---|---|---|---|---|---|---|---|---|---|---|---|---|---|---|---|---|---|---|---|---|---|---|---|---|---|---|---|---|---|---|---|---|---|---|---|---|---|---|\n",
    "|014602826|Monograph|Yearsley, Ann|1753-1806|person||More, Hannah, 1745-1833 [person] ; Yearsley, Ann, 1753-1806 [person]|Poems on several occasions [With a prefatory letter by Hannah More.]||||England|London||1786|Fourth edition MANUSCRIPT note|||Digital Store 11644.d.32|||English||003996603||||||||||||||||||||||False|\n",
    "|014602830|Monograph|A, T.||person||Oldham, John, 1653-1683 [person] ; A, T. [person]|A Satyr against Vertue. (A poem: supposed to be spoken by a Town-Hector [By John Oldham. The preface signed: T. A.])||||England|London||1679||15 pages (4°)||Digital Store 11602.ee.10. (2.)|||English||000001143||||||||||||||||||||||False|\n"
   ]
  },
  {
   "cell_type": "markdown",
   "id": "b5a41c8e-dd5d-4e8b-93f8-ff7230a52973",
   "metadata": {},
   "source": [
    "**By defining below parameters, we can apply this notebook on different datasets easily.**"
   ]
  },
  {
   "cell_type": "code",
   "execution_count": null,
   "id": "5dc92444-8c48-4631-8f18-a3e5c42c6f1f",
   "metadata": {
    "jupyter": {
     "outputs_hidden": false,
     "source_hidden": false
    },
    "nteract": {
     "transient": {
      "deleting": false
     }
    }
   },
   "outputs": [
    {
     "data": {
      "application/vnd.livy.statement-meta+json": {
       "execution_finish_time": "2023-08-03T23:28:36.132037Z",
       "execution_start_time": "2023-08-03T23:28:35.847562Z",
       "livy_statement_state": "available",
       "parent_msg_id": "ca161ef8-0650-4194-b76c-74cf957f6491",
       "queued_time": "2023-08-03T23:28:04.5390464Z",
       "session_id": "b868b727-3e52-4d09-a1fe-24b4a84b4a17",
       "session_start_time": null,
       "spark_jobs": {
        "jobs": [],
        "limit": 20,
        "numbers": {
         "FAILED": 0,
         "RUNNING": 0,
         "SUCCEEDED": 0,
         "UNKNOWN": 0
        },
        "rule": "ALL_DESC"
       },
       "spark_pool": null,
       "state": "finished",
       "statement_id": 10
      },
      "text/plain": [
       "StatementMeta(, b868b727-3e52-4d09-a1fe-24b4a84b4a17, 10, Finished, Available)"
      ]
     },
     "metadata": {},
     "output_type": "display_data"
    }
   ],
   "source": [
    "IS_CUSTOM_DATA = False  # if True, dataset has to be uploaded manually by user\n",
    "DATA_FOLDER = \"Files/title-genre-classification\"\n",
    "DATA_FILE = \"blbooksgenre.csv\"\n",
    "\n",
    "# Data schema\n",
    "TEXT_COL = \"Title\"\n",
    "LABEL_COL = \"annotator_genre\"\n",
    "LABELS = [\"Fiction\", \"Non-fiction\"]\n",
    "\n",
    "EXPERIMENT_NAME = \"aisample-textclassification\"  # MLflow experiment name"
   ]
  },
  {
   "cell_type": "markdown",
   "id": "20ff966f-7adb-49ed-8871-5560ede828c5",
   "metadata": {
    "nteract": {
     "transient": {
      "deleting": false
     }
    }
   },
   "source": [
    "### Download dataset and Upload to lakehouse\n",
    "\n",
    "The following code will download a publicly available version of the the dataset and then store it in a Fabric Lakehouse.\n",
    "\n",
    "**Please add a lakehouse to the notebook before running it. Failure to do so will result in an error.**\n",
    "\n",
    "Instructions to add a lakehouse to the notebook can be found [here](https://aka.ms/fabric/addlakehouse)."
   ]
  },
  {
   "cell_type": "code",
   "execution_count": null,
   "id": "649578f1-29d7-434c-b20f-af240bb14fa7",
   "metadata": {
    "jupyter": {
     "outputs_hidden": false,
     "source_hidden": false
    },
    "nteract": {
     "transient": {
      "deleting": false
     }
    }
   },
   "outputs": [
    {
     "data": {
      "application/vnd.livy.statement-meta+json": {
       "execution_finish_time": "2023-08-03T23:28:38.0267829Z",
       "execution_start_time": "2023-08-03T23:28:36.5003083Z",
       "livy_statement_state": "available",
       "parent_msg_id": "6be25e26-08e8-4f60-a6b4-6e54980c4595",
       "queued_time": "2023-08-03T23:28:04.5402285Z",
       "session_id": "b868b727-3e52-4d09-a1fe-24b4a84b4a17",
       "session_start_time": null,
       "spark_jobs": {
        "jobs": [],
        "limit": 20,
        "numbers": {
         "FAILED": 0,
         "RUNNING": 0,
         "SUCCEEDED": 0,
         "UNKNOWN": 0
        },
        "rule": "ALL_DESC"
       },
       "spark_pool": null,
       "state": "finished",
       "statement_id": 11
      },
      "text/plain": [
       "StatementMeta(, b868b727-3e52-4d09-a1fe-24b4a84b4a17, 11, Finished, Available)"
      ]
     },
     "metadata": {},
     "output_type": "display_data"
    },
    {
     "name": "stdout",
     "output_type": "stream",
     "text": [
      "Downloaded demo data files into lakehouse.\n"
     ]
    }
   ],
   "source": [
    "if not IS_CUSTOM_DATA:\n",
    "    # Download demo data files into lakehouse if it does not exist\n",
    "    import os, requests\n",
    "\n",
    "    remote_url = \"https://synapseaisolutionsa.blob.core.windows.net/public/Title_Genre_Classification\"\n",
    "    fname = \"blbooksgenre.csv\"\n",
    "    download_path = f\"/lakehouse/default/{DATA_FOLDER}/raw\"\n",
    "\n",
    "    if not os.path.exists(\"/lakehouse/default\"):\n",
    "        # Add a lakehouse if no default lakehouse has been added to the notebook\n",
    "        # A new notebook will not link to any lakehouse by default\n",
    "        raise FileNotFoundError(\n",
    "            \"Default lakehouse not found, please add a lakehouse and restart the session.\"\n",
    "        )\n",
    "    os.makedirs(download_path, exist_ok=True)\n",
    "    if not os.path.exists(f\"{download_path}/{fname}\"):\n",
    "        r = requests.get(f\"{remote_url}/{fname}\", timeout=30)\n",
    "        with open(f\"{download_path}/{fname}\", \"wb\") as f:\n",
    "            f.write(r.content)\n",
    "    print(\"Downloaded demo data files into lakehouse.\")"
   ]
  },
  {
   "cell_type": "markdown",
   "id": "d7e8bc2b-a143-4f3d-81ce-599a454cd800",
   "metadata": {
    "nteract": {
     "transient": {
      "deleting": false
     }
    }
   },
   "source": [
    "### Import required libraries"
   ]
  },
  {
   "cell_type": "markdown",
   "id": "f30a5d4a",
   "metadata": {},
   "source": [
    "Prior to any processing, we need to import required libraries for Spark and SynapseML. For more information about Spark and SynapseML, you can refer to the following resources: [here](https://spark.apache.org/) for Spark and [here](https://aka.ms/AboutSynapseML) for SynapseML."
   ]
  },
  {
   "cell_type": "code",
   "execution_count": null,
   "id": "cb9f1fcf-bf37-46c2-884d-412ac210ded0",
   "metadata": {
    "jupyter": {
     "outputs_hidden": false,
     "source_hidden": false
    },
    "nteract": {
     "transient": {
      "deleting": false
     }
    }
   },
   "outputs": [
    {
     "data": {
      "application/vnd.livy.statement-meta+json": {
       "execution_finish_time": "2023-08-03T23:28:44.6774819Z",
       "execution_start_time": "2023-08-03T23:28:38.404055Z",
       "livy_statement_state": "available",
       "parent_msg_id": "3f9726cd-0e0d-4919-95cb-a4aaeba45c39",
       "queued_time": "2023-08-03T23:28:04.5416865Z",
       "session_id": "b868b727-3e52-4d09-a1fe-24b4a84b4a17",
       "session_start_time": null,
       "spark_jobs": {
        "jobs": [],
        "limit": 20,
        "numbers": {
         "FAILED": 0,
         "RUNNING": 0,
         "SUCCEEDED": 0,
         "UNKNOWN": 0
        },
        "rule": "ALL_DESC"
       },
       "spark_pool": null,
       "state": "finished",
       "statement_id": 12
      },
      "text/plain": [
       "StatementMeta(, b868b727-3e52-4d09-a1fe-24b4a84b4a17, 12, Finished, Available)"
      ]
     },
     "metadata": {},
     "output_type": "display_data"
    }
   ],
   "source": [
    "import numpy as np\n",
    "from itertools import chain\n",
    "\n",
    "from wordcloud import WordCloud\n",
    "import matplotlib.pyplot as plt\n",
    "import seaborn as sns\n",
    "\n",
    "import pyspark.sql.functions as F\n",
    "\n",
    "from pyspark.ml import Pipeline\n",
    "from pyspark.ml.feature import *\n",
    "from pyspark.ml.tuning import CrossValidator, ParamGridBuilder\n",
    "from pyspark.ml.classification import LogisticRegression\n",
    "from pyspark.ml.evaluation import (\n",
    "    BinaryClassificationEvaluator,\n",
    "    MulticlassClassificationEvaluator,\n",
    ")\n",
    "\n",
    "from synapse.ml.stages import ClassBalancer\n",
    "from synapse.ml.train import ComputeModelStatistics\n",
    "\n",
    "import mlflow"
   ]
  },
  {
   "cell_type": "markdown",
   "id": "350a9c2e-935e-41ab-b3fb-d34985eccfc9",
   "metadata": {
    "nteract": {
     "transient": {
      "deleting": false
     }
    }
   },
   "source": [
    "### Define Hyper-Parameters\n",
    "We will also define some hyper-parameters for model training. **Please only modify these if you have an understanding of each parameter.**"
   ]
  },
  {
   "cell_type": "code",
   "execution_count": null,
   "id": "afe6c1d2-d209-40b3-beed-346b1fb026c4",
   "metadata": {
    "jupyter": {
     "outputs_hidden": false,
     "source_hidden": false
    },
    "nteract": {
     "transient": {
      "deleting": false
     }
    }
   },
   "outputs": [
    {
     "data": {
      "application/vnd.livy.statement-meta+json": {
       "execution_finish_time": "2023-08-03T23:28:45.3623489Z",
       "execution_start_time": "2023-08-03T23:28:45.0350217Z",
       "livy_statement_state": "available",
       "parent_msg_id": "76606cca-6898-4260-8c44-534b48bc5d43",
       "queued_time": "2023-08-03T23:28:04.5421786Z",
       "session_id": "b868b727-3e52-4d09-a1fe-24b4a84b4a17",
       "session_start_time": null,
       "spark_jobs": {
        "jobs": [],
        "limit": 20,
        "numbers": {
         "FAILED": 0,
         "RUNNING": 0,
         "SUCCEEDED": 0,
         "UNKNOWN": 0
        },
        "rule": "ALL_DESC"
       },
       "spark_pool": null,
       "state": "finished",
       "statement_id": 13
      },
      "text/plain": [
       "StatementMeta(, b868b727-3e52-4d09-a1fe-24b4a84b4a17, 13, Finished, Available)"
      ]
     },
     "metadata": {},
     "output_type": "display_data"
    }
   ],
   "source": [
    "# Hyper-parameters \n",
    "word2vec_size = 128  # the lenght of the vector for each word\n",
    "min_word_count = 3  # the minimum number of times that a word must appear to be considered\n",
    "max_iter = 10  # maximum number of training iterations\n",
    "k_folds = 3  # number of folds for cross-validation"
   ]
  },
  {
   "cell_type": "markdown",
   "id": "e9dd6ad8-2765-490b-b19d-95abcbbb3a56",
   "metadata": {
    "nteract": {
     "transient": {
      "deleting": false
     }
    }
   },
   "source": [
    "We start recording the time it takes to run this notebook."
   ]
  },
  {
   "cell_type": "code",
   "execution_count": null,
   "id": "d40d0383-edec-4e4b-be39-d8d82676032b",
   "metadata": {
    "jupyter": {
     "outputs_hidden": false,
     "source_hidden": false
    },
    "nteract": {
     "transient": {
      "deleting": false
     }
    }
   },
   "outputs": [
    {
     "data": {
      "application/vnd.livy.statement-meta+json": {
       "execution_finish_time": "2023-08-03T23:28:46.0441568Z",
       "execution_start_time": "2023-08-03T23:28:45.7419675Z",
       "livy_statement_state": "available",
       "parent_msg_id": "9fcb8cd1-da37-45d3-ab8f-f0f8deeeac7a",
       "queued_time": "2023-08-03T23:28:04.5426594Z",
       "session_id": "b868b727-3e52-4d09-a1fe-24b4a84b4a17",
       "session_start_time": null,
       "spark_jobs": {
        "jobs": [],
        "limit": 20,
        "numbers": {
         "FAILED": 0,
         "RUNNING": 0,
         "SUCCEEDED": 0,
         "UNKNOWN": 0
        },
        "rule": "ALL_DESC"
       },
       "spark_pool": null,
       "state": "finished",
       "statement_id": 14
      },
      "text/plain": [
       "StatementMeta(, b868b727-3e52-4d09-a1fe-24b4a84b4a17, 14, Finished, Available)"
      ]
     },
     "metadata": {},
     "output_type": "display_data"
    }
   ],
   "source": [
    "# Record the notebook running time\n",
    "import time\n",
    "\n",
    "ts = time.time()"
   ]
  },
  {
   "cell_type": "markdown",
   "id": "920c1b99-fd37-4f40-8e49-1fd9ba7d9be6",
   "metadata": {
    "nteract": {
     "transient": {
      "deleting": false
     }
    }
   },
   "source": [
    "#### Setup the MLflow experiment tracking\n",
    "\n",
    "Extending the MLflow autologging capabilities, autologging works by automatically capturing the values of input parameters and output metrics of a machine learning model as it is being trained. This information is then logged to the workspace, where it can be accessed and visualized using the MLflow APIs or the corresponding experiment in the workspace. Further information about how to perform autologging can be found [here](https://aka.ms/fabric-autologging)."
   ]
  },
  {
   "cell_type": "code",
   "execution_count": null,
   "id": "12e482a7-72f7-48ad-bd55-9bd6e61b60f3",
   "metadata": {},
   "outputs": [
    {
     "data": {
      "application/vnd.livy.statement-meta+json": {
       "execution_finish_time": "2023-08-03T23:28:47.8996397Z",
       "execution_start_time": "2023-08-03T23:28:46.4041625Z",
       "livy_statement_state": "available",
       "parent_msg_id": "30e93ae2-23b9-47b3-b8f5-16713b1023c6",
       "queued_time": "2023-08-03T23:28:04.5434271Z",
       "session_id": "b868b727-3e52-4d09-a1fe-24b4a84b4a17",
       "session_start_time": null,
       "spark_jobs": {
        "jobs": [],
        "limit": 20,
        "numbers": {
         "FAILED": 0,
         "RUNNING": 0,
         "SUCCEEDED": 0,
         "UNKNOWN": 0
        },
        "rule": "ALL_DESC"
       },
       "spark_pool": null,
       "state": "finished",
       "statement_id": 15
      },
      "text/plain": [
       "StatementMeta(, b868b727-3e52-4d09-a1fe-24b4a84b4a17, 15, Finished, Available)"
      ]
     },
     "metadata": {},
     "output_type": "display_data"
    }
   ],
   "source": [
    "# Setup Mlflow for experiment tracking\n",
    "\n",
    "mlflow.set_experiment(EXPERIMENT_NAME)\n",
    "mlflow.autolog(disable=True)  # Disable Mlflow autologging"
   ]
  },
  {
   "cell_type": "markdown",
   "id": "1d2884de-17c8-4458-8883-5212f14c0543",
   "metadata": {
    "nteract": {
     "transient": {
      "deleting": false
     }
    }
   },
   "source": [
    "Note that if we want to disable Microsoft Fabric autologging in a notebook session, we can call `mlflow.autolog()` and set `disable=True`."
   ]
  },
  {
   "cell_type": "markdown",
   "id": "184a16b6-f9fd-4761-908f-c0b3d61e064b",
   "metadata": {
    "nteract": {
     "transient": {
      "deleting": false
     }
    }
   },
   "source": [
    "### Read raw date data from the lakehouse"
   ]
  },
  {
   "cell_type": "code",
   "execution_count": null,
   "id": "5e328d7d-3682-4b6c-b109-6c43016a25b7",
   "metadata": {
    "jupyter": {
     "outputs_hidden": false,
     "source_hidden": false
    },
    "nteract": {
     "transient": {
      "deleting": false
     }
    }
   },
   "outputs": [
    {
     "data": {
      "application/vnd.livy.statement-meta+json": {
       "execution_finish_time": "2023-08-03T23:28:51.788715Z",
       "execution_start_time": "2023-08-03T23:28:48.2779385Z",
       "livy_statement_state": "available",
       "parent_msg_id": "6e9f4864-6ce8-47df-84a1-73aca2d4dea7",
       "queued_time": "2023-08-03T23:28:04.5445622Z",
       "session_id": "b868b727-3e52-4d09-a1fe-24b4a84b4a17",
       "session_start_time": null,
       "spark_jobs": {
        "jobs": [
         {
          "completionTime": "2023-08-03T23:28:50.593GMT",
          "dataRead": 20373564,
          "dataWritten": 0,
          "description": "Job group for statement 16:\nraw_df = spark.read.csv(f\"{DATA_FOLDER}/raw/{DATA_FILE}\", header=True, inferSchema=True)",
          "displayName": "csv at NativeMethodAccessorImpl.java:0",
          "jobGroup": "16",
          "jobId": 9,
          "killedTasksSummary": {},
          "name": "csv at NativeMethodAccessorImpl.java:0",
          "numActiveStages": 0,
          "numActiveTasks": 0,
          "numCompletedIndices": 5,
          "numCompletedStages": 1,
          "numCompletedTasks": 5,
          "numFailedStages": 0,
          "numFailedTasks": 0,
          "numKilledTasks": 0,
          "numSkippedStages": 0,
          "numSkippedTasks": 0,
          "numTasks": 5,
          "rowCount": 62872,
          "stageIds": [
           13
          ],
          "status": "SUCCEEDED",
          "submissionTime": "2023-08-03T23:28:49.637GMT",
          "usageDescription": ""
         },
         {
          "completionTime": "2023-08-03T23:28:49.495GMT",
          "dataRead": 65536,
          "dataWritten": 0,
          "description": "Job group for statement 16:\nraw_df = spark.read.csv(f\"{DATA_FOLDER}/raw/{DATA_FILE}\", header=True, inferSchema=True)",
          "displayName": "csv at NativeMethodAccessorImpl.java:0",
          "jobGroup": "16",
          "jobId": 8,
          "killedTasksSummary": {},
          "name": "csv at NativeMethodAccessorImpl.java:0",
          "numActiveStages": 0,
          "numActiveTasks": 0,
          "numCompletedIndices": 1,
          "numCompletedStages": 1,
          "numCompletedTasks": 1,
          "numFailedStages": 0,
          "numFailedTasks": 0,
          "numKilledTasks": 0,
          "numSkippedStages": 0,
          "numSkippedTasks": 0,
          "numTasks": 1,
          "rowCount": 1,
          "stageIds": [
           12
          ],
          "status": "SUCCEEDED",
          "submissionTime": "2023-08-03T23:28:48.937GMT",
          "usageDescription": ""
         }
        ],
        "limit": 20,
        "numbers": {
         "FAILED": 0,
         "RUNNING": 0,
         "SUCCEEDED": 2,
         "UNKNOWN": 0
        },
        "rule": "ALL_DESC"
       },
       "spark_pool": null,
       "state": "finished",
       "statement_id": 16
      },
      "text/plain": [
       "StatementMeta(, b868b727-3e52-4d09-a1fe-24b4a84b4a17, 16, Finished, Available)"
      ]
     },
     "metadata": {},
     "output_type": "display_data"
    }
   ],
   "source": [
    "raw_df = spark.read.csv(f\"{DATA_FOLDER}/raw/{DATA_FILE}\", header=True, inferSchema=True)"
   ]
  },
  {
   "cell_type": "markdown",
   "id": "cc17450e-081e-4180-ae00-08608ba80899",
   "metadata": {
    "nteract": {
     "transient": {
      "deleting": false
     }
    }
   },
   "source": [
    "## Step 3: Exploratory Data Analysis"
   ]
  },
  {
   "cell_type": "markdown",
   "id": "7769766c-8261-43e6-9f73-7047aa3e29ab",
   "metadata": {
    "nteract": {
     "transient": {
      "deleting": false
     }
    }
   },
   "source": [
    "We can explore the dataset using the `display` command to view high-level statistics of the dataset."
   ]
  },
  {
   "cell_type": "code",
   "execution_count": null,
   "id": "b58f7e0e",
   "metadata": {
    "advisor": {
     "adviceMetadata": "{\"artifactId\":\"3bde79cc-72a1-4d3e-9f60-48209b69751c\",\"activityId\":\"b868b727-3e52-4d09-a1fe-24b4a84b4a17\",\"applicationId\":\"application_1691104804277_0001\",\"jobGroupId\":\"17\",\"advices\":{\"info\":1}}"
    }
   },
   "outputs": [
    {
     "data": {
      "application/vnd.livy.statement-meta+json": {
       "execution_finish_time": "2023-08-03T23:28:53.7505203Z",
       "execution_start_time": "2023-08-03T23:28:52.1598523Z",
       "livy_statement_state": "available",
       "parent_msg_id": "2be96aac-7e76-4f0f-bafe-db470a4d8435",
       "queued_time": "2023-08-03T23:28:04.5451381Z",
       "session_id": "b868b727-3e52-4d09-a1fe-24b4a84b4a17",
       "session_start_time": null,
       "spark_jobs": {
        "jobs": [
         {
          "completionTime": "2023-08-03T23:28:52.684GMT",
          "dataRead": 0,
          "dataWritten": 0,
          "description": "Job group for statement 17:\ndisplay(raw_df.limit(20))",
          "displayName": "getRowsInJsonString at Display.scala:452",
          "jobGroup": "17",
          "jobId": 11,
          "killedTasksSummary": {},
          "name": "getRowsInJsonString at Display.scala:452",
          "numActiveStages": 0,
          "numActiveTasks": 0,
          "numCompletedIndices": 1,
          "numCompletedStages": 1,
          "numCompletedTasks": 1,
          "numFailedStages": 0,
          "numFailedTasks": 0,
          "numKilledTasks": 0,
          "numSkippedStages": 1,
          "numSkippedTasks": 5,
          "numTasks": 6,
          "rowCount": 0,
          "stageIds": [
           15,
           16
          ],
          "status": "SUCCEEDED",
          "submissionTime": "2023-08-03T23:28:52.605GMT",
          "usageDescription": ""
         },
         {
          "completionTime": "2023-08-03T23:28:52.532GMT",
          "dataRead": 327680,
          "dataWritten": 25478,
          "description": "Job group for statement 17:\ndisplay(raw_df.limit(20))",
          "displayName": "getRowsInJsonString at Display.scala:452",
          "jobGroup": "17",
          "jobId": 10,
          "killedTasksSummary": {},
          "name": "getRowsInJsonString at Display.scala:452",
          "numActiveStages": 0,
          "numActiveTasks": 0,
          "numCompletedIndices": 5,
          "numCompletedStages": 1,
          "numCompletedTasks": 5,
          "numFailedStages": 0,
          "numFailedTasks": 0,
          "numKilledTasks": 0,
          "numSkippedStages": 0,
          "numSkippedTasks": 0,
          "numTasks": 5,
          "rowCount": 200,
          "stageIds": [
           14
          ],
          "status": "SUCCEEDED",
          "submissionTime": "2023-08-03T23:28:52.222GMT",
          "usageDescription": ""
         }
        ],
        "limit": 20,
        "numbers": {
         "FAILED": 0,
         "RUNNING": 0,
         "SUCCEEDED": 2,
         "UNKNOWN": 0
        },
        "rule": "ALL_DESC"
       },
       "spark_pool": null,
       "state": "finished",
       "statement_id": 17
      },
      "text/plain": [
       "StatementMeta(, b868b727-3e52-4d09-a1fe-24b4a84b4a17, 17, Finished, Available)"
      ]
     },
     "metadata": {},
     "output_type": "display_data"
    },
    {
     "data": {
      "application/vnd.synapse.widget-view+json": {
       "widget_id": "f270ba09-a380-4101-ae5e-213bcfb6806a",
       "widget_type": "Synapse.DataFrame"
      },
      "text/plain": [
       "SynapseWidget(Synapse.DataFrame, f270ba09-a380-4101-ae5e-213bcfb6806a)"
      ]
     },
     "metadata": {},
     "output_type": "display_data"
    }
   ],
   "source": [
    "display(raw_df.limit(20))"
   ]
  },
  {
   "cell_type": "markdown",
   "id": "f44f6626-5223-4b65-81bd-d216b492df3f",
   "metadata": {
    "nteract": {
     "transient": {
      "deleting": false
     }
    }
   },
   "source": [
    "###  Data Preparation\n",
    "\n",
    "Data Preparation includes the following steps:\n",
    "\n",
    "- Cleaning the dataset\n",
    "- Dealing with dataset imbalance\n",
    "- Tokekenizing the dataset\n",
    "- Displaying the wordcloud\n",
    "- Vectorizing the dataset\n",
    "\n",
    "\n",
    "We start cleaning the data by removing the duplicates."
   ]
  },
  {
   "cell_type": "code",
   "execution_count": null,
   "id": "32b21007-90d1-48d0-b686-7d77533c1f09",
   "metadata": {
    "jupyter": {
     "outputs_hidden": false,
     "source_hidden": false
    },
    "nteract": {
     "transient": {
      "deleting": false
     }
    }
   },
   "outputs": [
    {
     "data": {
      "application/vnd.livy.statement-meta+json": {
       "execution_finish_time": "2023-08-03T23:28:58.9098366Z",
       "execution_start_time": "2023-08-03T23:28:54.0953212Z",
       "livy_statement_state": "available",
       "parent_msg_id": "bcbffdc1-0cba-41bc-ae99-91012ccee03a",
       "queued_time": "2023-08-03T23:28:04.5462973Z",
       "session_id": "b868b727-3e52-4d09-a1fe-24b4a84b4a17",
       "session_start_time": null,
       "spark_jobs": {
        "jobs": [
         {
          "completionTime": "2023-08-03T23:28:58.044GMT",
          "dataRead": 0,
          "dataWritten": 0,
          "description": "Job group for statement 18:\ndf = (\n    raw_df.select([TEXT_COL, LABEL_COL])\n    .where(F.col(LABEL_COL).isin(LABELS))\n    .dropDuplicates([TEXT_COL])\n    .cache()\n)\n\ndisplay(df.limit(20))",
          "displayName": "getRowsInJsonString at Display.scala:452",
          "jobGroup": "18",
          "jobId": 13,
          "killedTasksSummary": {},
          "name": "getRowsInJsonString at Display.scala:452",
          "numActiveStages": 0,
          "numActiveTasks": 0,
          "numCompletedIndices": 1,
          "numCompletedStages": 1,
          "numCompletedTasks": 1,
          "numFailedStages": 0,
          "numFailedTasks": 0,
          "numKilledTasks": 0,
          "numSkippedStages": 2,
          "numSkippedTasks": 205,
          "numTasks": 206,
          "rowCount": 0,
          "stageIds": [
           19,
           20,
           21
          ],
          "status": "SUCCEEDED",
          "submissionTime": "2023-08-03T23:28:57.982GMT",
          "usageDescription": ""
         },
         {
          "completionTime": "2023-08-03T23:28:57.500GMT",
          "dataRead": 20602210,
          "dataWritten": 407826,
          "description": "Job group for statement 18:\ndf = (\n    raw_df.select([TEXT_COL, LABEL_COL])\n    .where(F.col(LABEL_COL).isin(LABELS))\n    .dropDuplicates([TEXT_COL])\n    .cache()\n)\n\ndisplay(df.limit(20))",
          "displayName": "getRowsInJsonString at Display.scala:452",
          "jobGroup": "18",
          "jobId": 12,
          "killedTasksSummary": {},
          "name": "getRowsInJsonString at Display.scala:452",
          "numActiveStages": 0,
          "numActiveTasks": 0,
          "numCompletedIndices": 205,
          "numCompletedStages": 2,
          "numCompletedTasks": 205,
          "numFailedStages": 0,
          "numFailedTasks": 0,
          "numKilledTasks": 0,
          "numSkippedStages": 0,
          "numSkippedTasks": 0,
          "numTasks": 205,
          "rowCount": 9524,
          "stageIds": [
           17,
           18
          ],
          "status": "SUCCEEDED",
          "submissionTime": "2023-08-03T23:28:54.296GMT",
          "usageDescription": ""
         }
        ],
        "limit": 20,
        "numbers": {
         "FAILED": 0,
         "RUNNING": 0,
         "SUCCEEDED": 2,
         "UNKNOWN": 0
        },
        "rule": "ALL_DESC"
       },
       "spark_pool": null,
       "state": "finished",
       "statement_id": 18
      },
      "text/plain": [
       "StatementMeta(, b868b727-3e52-4d09-a1fe-24b4a84b4a17, 18, Finished, Available)"
      ]
     },
     "metadata": {},
     "output_type": "display_data"
    },
    {
     "data": {
      "application/vnd.synapse.widget-view+json": {
       "widget_id": "60be7928-2b4f-46d2-a540-342b6781fad7",
       "widget_type": "Synapse.DataFrame"
      },
      "text/plain": [
       "SynapseWidget(Synapse.DataFrame, 60be7928-2b4f-46d2-a540-342b6781fad7)"
      ]
     },
     "metadata": {},
     "output_type": "display_data"
    }
   ],
   "source": [
    "df = (\n",
    "    raw_df.select([TEXT_COL, LABEL_COL])\n",
    "    .where(F.col(LABEL_COL).isin(LABELS))\n",
    "    .dropDuplicates([TEXT_COL])\n",
    "    .cache()\n",
    ")\n",
    "\n",
    "display(df.limit(20))"
   ]
  },
  {
   "cell_type": "markdown",
   "id": "db68baad-2629-4702-8227-7ce2edf0aece",
   "metadata": {
    "nteract": {
     "transient": {
      "deleting": false
     }
    }
   },
   "source": [
    "We then apply the class balancing in order to address any bias."
   ]
  },
  {
   "cell_type": "code",
   "execution_count": null,
   "id": "f30f8f40-7c3a-4ae8-9d4b-0d18c34d10c5",
   "metadata": {
    "jupyter": {
     "outputs_hidden": false,
     "source_hidden": false
    },
    "nteract": {
     "transient": {
      "deleting": false
     }
    }
   },
   "outputs": [
    {
     "data": {
      "application/vnd.livy.statement-meta+json": {
       "execution_finish_time": "2023-08-03T23:29:05.5594591Z",
       "execution_start_time": "2023-08-03T23:28:59.2526111Z",
       "livy_statement_state": "available",
       "parent_msg_id": "f5c82567-1e61-4f65-b760-3f592b85a64e",
       "queued_time": "2023-08-03T23:28:04.546863Z",
       "session_id": "b868b727-3e52-4d09-a1fe-24b4a84b4a17",
       "session_start_time": null,
       "spark_jobs": {
        "jobs": [
         {
          "completionTime": "2023-08-03T23:29:03.849GMT",
          "dataRead": 0,
          "dataWritten": 0,
          "description": "Job group for statement 19:\n# Create an instance of ClassBalancer and set the input column to LABEL_COL\ncb = ClassBalancer().setInputCol(LABEL_COL)\n\n# Fit the ClassBalancer instance to the input DataFrame and transform the DataFrame\ndf = cb.fit(df).transform(df)\n\n# Display the first 20 rows of the transformed DataFrame\ndisplay(df.limit(20))",
          "displayName": "getRowsInJsonString at Display.scala:452",
          "jobGroup": "19",
          "jobId": 20,
          "killedTasksSummary": {},
          "name": "getRowsInJsonString at Display.scala:452",
          "numActiveStages": 0,
          "numActiveTasks": 0,
          "numCompletedIndices": 1,
          "numCompletedStages": 1,
          "numCompletedTasks": 1,
          "numFailedStages": 0,
          "numFailedTasks": 0,
          "numKilledTasks": 0,
          "numSkippedStages": 2,
          "numSkippedTasks": 205,
          "numTasks": 206,
          "rowCount": 0,
          "stageIds": [
           38,
           39,
           40
          ],
          "status": "SUCCEEDED",
          "submissionTime": "2023-08-03T23:29:03.777GMT",
          "usageDescription": ""
         },
         {
          "completionTime": "2023-08-03T23:29:03.624GMT",
          "dataRead": 333408,
          "dataWritten": 177250,
          "description": "Job group for statement 19:\n# Create an instance of ClassBalancer and set the input column to LABEL_COL\ncb = ClassBalancer().setInputCol(LABEL_COL)\n\n# Fit the ClassBalancer instance to the input DataFrame and transform the DataFrame\ndf = cb.fit(df).transform(df)\n\n# Display the first 20 rows of the transformed DataFrame\ndisplay(df.limit(20))",
          "displayName": "getRowsInJsonString at Display.scala:452",
          "jobGroup": "19",
          "jobId": 19,
          "killedTasksSummary": {},
          "name": "getRowsInJsonString at Display.scala:452",
          "numActiveStages": 0,
          "numActiveTasks": 0,
          "numCompletedIndices": 200,
          "numCompletedStages": 1,
          "numCompletedTasks": 200,
          "numFailedStages": 0,
          "numFailedTasks": 0,
          "numKilledTasks": 0,
          "numSkippedStages": 1,
          "numSkippedTasks": 5,
          "numTasks": 205,
          "rowCount": 1921,
          "stageIds": [
           37,
           36
          ],
          "status": "SUCCEEDED",
          "submissionTime": "2023-08-03T23:29:02.924GMT",
          "usageDescription": ""
         },
         {
          "completionTime": "2023-08-03T23:29:02.674GMT",
          "dataRead": 333408,
          "dataWritten": 27917,
          "description": "Job group for statement 19:\n# Create an instance of ClassBalancer and set the input column to LABEL_COL\ncb = ClassBalancer().setInputCol(LABEL_COL)\n\n# Fit the ClassBalancer instance to the input DataFrame and transform the DataFrame\ndf = cb.fit(df).transform(df)\n\n# Display the first 20 rows of the transformed DataFrame\ndisplay(df.limit(20))",
          "displayName": "getRowsInJsonString at Display.scala:452",
          "jobGroup": "19",
          "jobId": 17,
          "killedTasksSummary": {},
          "name": "getRowsInJsonString at Display.scala:452",
          "numActiveStages": 0,
          "numActiveTasks": 0,
          "numCompletedIndices": 200,
          "numCompletedStages": 1,
          "numCompletedTasks": 200,
          "numFailedStages": 0,
          "numFailedTasks": 0,
          "numKilledTasks": 0,
          "numSkippedStages": 1,
          "numSkippedTasks": 5,
          "numTasks": 205,
          "rowCount": 568,
          "stageIds": [
           31,
           32
          ],
          "status": "SUCCEEDED",
          "submissionTime": "2023-08-03T23:29:01.469GMT",
          "usageDescription": ""
         },
         {
          "completionTime": "2023-08-03T23:29:01.147GMT",
          "dataRead": 59,
          "dataWritten": 0,
          "description": "Job group for statement 19:\n# Create an instance of ClassBalancer and set the input column to LABEL_COL\ncb = ClassBalancer().setInputCol(LABEL_COL)\n\n# Fit the ClassBalancer instance to the input DataFrame and transform the DataFrame\ndf = cb.fit(df).transform(df)\n\n# Display the first 20 rows of the transformed DataFrame\ndisplay(df.limit(20))",
          "displayName": "collect at ClassBalancer.scala:46",
          "jobGroup": "19",
          "jobId": 16,
          "killedTasksSummary": {},
          "name": "collect at ClassBalancer.scala:46",
          "numActiveStages": 0,
          "numActiveTasks": 0,
          "numCompletedIndices": 1,
          "numCompletedStages": 1,
          "numCompletedTasks": 1,
          "numFailedStages": 0,
          "numFailedTasks": 0,
          "numKilledTasks": 0,
          "numSkippedStages": 3,
          "numSkippedTasks": 206,
          "numTasks": 207,
          "rowCount": 1,
          "stageIds": [
           30,
           27,
           28,
           29
          ],
          "status": "SUCCEEDED",
          "submissionTime": "2023-08-03T23:29:01.107GMT",
          "usageDescription": ""
         },
         {
          "completionTime": "2023-08-03T23:29:01.068GMT",
          "dataRead": 27917,
          "dataWritten": 59,
          "description": "Job group for statement 19:\n# Create an instance of ClassBalancer and set the input column to LABEL_COL\ncb = ClassBalancer().setInputCol(LABEL_COL)\n\n# Fit the ClassBalancer instance to the input DataFrame and transform the DataFrame\ndf = cb.fit(df).transform(df)\n\n# Display the first 20 rows of the transformed DataFrame\ndisplay(df.limit(20))",
          "displayName": "collect at ClassBalancer.scala:46",
          "jobGroup": "19",
          "jobId": 15,
          "killedTasksSummary": {},
          "name": "collect at ClassBalancer.scala:46",
          "numActiveStages": 0,
          "numActiveTasks": 0,
          "numCompletedIndices": 1,
          "numCompletedStages": 1,
          "numCompletedTasks": 1,
          "numFailedStages": 0,
          "numFailedTasks": 0,
          "numKilledTasks": 0,
          "numSkippedStages": 2,
          "numSkippedTasks": 205,
          "numTasks": 206,
          "rowCount": 369,
          "stageIds": [
           24,
           25,
           26
          ],
          "status": "SUCCEEDED",
          "submissionTime": "2023-08-03T23:29:00.972GMT",
          "usageDescription": ""
         },
         {
          "completionTime": "2023-08-03T23:29:00.900GMT",
          "dataRead": 333408,
          "dataWritten": 27917,
          "description": "Job group for statement 19:\n# Create an instance of ClassBalancer and set the input column to LABEL_COL\ncb = ClassBalancer().setInputCol(LABEL_COL)\n\n# Fit the ClassBalancer instance to the input DataFrame and transform the DataFrame\ndf = cb.fit(df).transform(df)\n\n# Display the first 20 rows of the transformed DataFrame\ndisplay(df.limit(20))",
          "displayName": "collect at ClassBalancer.scala:46",
          "jobGroup": "19",
          "jobId": 14,
          "killedTasksSummary": {},
          "name": "collect at ClassBalancer.scala:46",
          "numActiveStages": 0,
          "numActiveTasks": 0,
          "numCompletedIndices": 200,
          "numCompletedStages": 1,
          "numCompletedTasks": 200,
          "numFailedStages": 0,
          "numFailedTasks": 0,
          "numKilledTasks": 0,
          "numSkippedStages": 1,
          "numSkippedTasks": 5,
          "numTasks": 205,
          "rowCount": 568,
          "stageIds": [
           22,
           23
          ],
          "status": "SUCCEEDED",
          "submissionTime": "2023-08-03T23:28:59.579GMT",
          "usageDescription": ""
         }
        ],
        "limit": 20,
        "numbers": {
         "FAILED": 0,
         "RUNNING": 0,
         "SUCCEEDED": 6,
         "UNKNOWN": 0
        },
        "rule": "ALL_DESC"
       },
       "spark_pool": null,
       "state": "finished",
       "statement_id": 19
      },
      "text/plain": [
       "StatementMeta(, b868b727-3e52-4d09-a1fe-24b4a84b4a17, 19, Finished, Available)"
      ]
     },
     "metadata": {},
     "output_type": "display_data"
    },
    {
     "data": {
      "application/vnd.synapse.widget-view+json": {
       "widget_id": "4518788c-3e8b-4514-808d-51c769b2bcd2",
       "widget_type": "Synapse.DataFrame"
      },
      "text/plain": [
       "SynapseWidget(Synapse.DataFrame, 4518788c-3e8b-4514-808d-51c769b2bcd2)"
      ]
     },
     "metadata": {},
     "output_type": "display_data"
    }
   ],
   "source": [
    "# Create an instance of ClassBalancer and set the input column to LABEL_COL\n",
    "cb = ClassBalancer().setInputCol(LABEL_COL)\n",
    "\n",
    "# Fit the ClassBalancer instance to the input DataFrame and transform the DataFrame\n",
    "df = cb.fit(df).transform(df)\n",
    "\n",
    "# Display the first 20 rows of the transformed DataFrame\n",
    "display(df.limit(20))"
   ]
  },
  {
   "cell_type": "markdown",
   "id": "7f85158a-af45-476d-9904-f643f4fee54c",
   "metadata": {
    "nteract": {
     "transient": {
      "deleting": false
     }
    }
   },
   "source": [
    "We tokenize by splitting the paragraphs and sentences into smaller units that can be more easily assigned meaning. We then remove the stopwords in order to improve the performance. Note that stopword removal is one of the most commonly used pre-processing steps in Natural Language Processing (NLP) applications, where the idea is to simply remove the words that occur commonly across all the documents in the corpus. "
   ]
  },
  {
   "cell_type": "code",
   "execution_count": null,
   "id": "68a158b1-d6d5-4681-9171-38b5e9734344",
   "metadata": {
    "jupyter": {
     "outputs_hidden": false,
     "source_hidden": false
    },
    "nteract": {
     "transient": {
      "deleting": false
     }
    }
   },
   "outputs": [
    {
     "data": {
      "application/vnd.livy.statement-meta+json": {
       "execution_finish_time": "2023-08-03T23:29:08.3566735Z",
       "execution_start_time": "2023-08-03T23:29:05.9376823Z",
       "livy_statement_state": "available",
       "parent_msg_id": "53fb5cf9-dac6-40fe-9e19-80c4e8ad8460",
       "queued_time": "2023-08-03T23:28:04.5474178Z",
       "session_id": "b868b727-3e52-4d09-a1fe-24b4a84b4a17",
       "session_start_time": null,
       "spark_jobs": {
        "jobs": [
         {
          "completionTime": "2023-08-03T23:29:08.111GMT",
          "dataRead": 0,
          "dataWritten": 0,
          "description": "Job group for statement 20:\n# Text transformer\ntokenizer = Tokenizer(inputCol=TEXT_COL, outputCol=\"tokens\")\nstopwords_remover = StopWordsRemover(inputCol=\"tokens\", outputCol=\"filtered_tokens\")\n\n# Build the pipeline\npipeline = Pipeline(stages=[tokenizer, stopwords_remover])\n\ntoken_df = pipeline.fit(df).transform(df)\n\ndisplay(token_df.limit(20))",
          "displayName": "getRowsInJsonString at Display.scala:452",
          "jobGroup": "20",
          "jobId": 24,
          "killedTasksSummary": {},
          "name": "getRowsInJsonString at Display.scala:452",
          "numActiveStages": 0,
          "numActiveTasks": 0,
          "numCompletedIndices": 1,
          "numCompletedStages": 1,
          "numCompletedTasks": 1,
          "numFailedStages": 0,
          "numFailedTasks": 0,
          "numKilledTasks": 0,
          "numSkippedStages": 2,
          "numSkippedTasks": 205,
          "numTasks": 206,
          "rowCount": 0,
          "stageIds": [
           48,
           49,
           50
          ],
          "status": "SUCCEEDED",
          "submissionTime": "2023-08-03T23:29:08.073GMT",
          "usageDescription": ""
         },
         {
          "completionTime": "2023-08-03T23:29:08.028GMT",
          "dataRead": 333408,
          "dataWritten": 536925,
          "description": "Job group for statement 20:\n# Text transformer\ntokenizer = Tokenizer(inputCol=TEXT_COL, outputCol=\"tokens\")\nstopwords_remover = StopWordsRemover(inputCol=\"tokens\", outputCol=\"filtered_tokens\")\n\n# Build the pipeline\npipeline = Pipeline(stages=[tokenizer, stopwords_remover])\n\ntoken_df = pipeline.fit(df).transform(df)\n\ndisplay(token_df.limit(20))",
          "displayName": "getRowsInJsonString at Display.scala:452",
          "jobGroup": "20",
          "jobId": 23,
          "killedTasksSummary": {},
          "name": "getRowsInJsonString at Display.scala:452",
          "numActiveStages": 0,
          "numActiveTasks": 0,
          "numCompletedIndices": 200,
          "numCompletedStages": 1,
          "numCompletedTasks": 200,
          "numFailedStages": 0,
          "numFailedTasks": 0,
          "numKilledTasks": 0,
          "numSkippedStages": 1,
          "numSkippedTasks": 5,
          "numTasks": 205,
          "rowCount": 1921,
          "stageIds": [
           46,
           47
          ],
          "status": "SUCCEEDED",
          "submissionTime": "2023-08-03T23:29:07.222GMT",
          "usageDescription": ""
         },
         {
          "completionTime": "2023-08-03T23:29:06.996GMT",
          "dataRead": 333408,
          "dataWritten": 27917,
          "description": "Job group for statement 20:\n# Text transformer\ntokenizer = Tokenizer(inputCol=TEXT_COL, outputCol=\"tokens\")\nstopwords_remover = StopWordsRemover(inputCol=\"tokens\", outputCol=\"filtered_tokens\")\n\n# Build the pipeline\npipeline = Pipeline(stages=[tokenizer, stopwords_remover])\n\ntoken_df = pipeline.fit(df).transform(df)\n\ndisplay(token_df.limit(20))",
          "displayName": "getRowsInJsonString at Display.scala:452",
          "jobGroup": "20",
          "jobId": 21,
          "killedTasksSummary": {},
          "name": "getRowsInJsonString at Display.scala:452",
          "numActiveStages": 0,
          "numActiveTasks": 0,
          "numCompletedIndices": 200,
          "numCompletedStages": 1,
          "numCompletedTasks": 200,
          "numFailedStages": 0,
          "numFailedTasks": 0,
          "numKilledTasks": 0,
          "numSkippedStages": 1,
          "numSkippedTasks": 5,
          "numTasks": 205,
          "rowCount": 568,
          "stageIds": [
           42,
           41
          ],
          "status": "SUCCEEDED",
          "submissionTime": "2023-08-03T23:29:06.154GMT",
          "usageDescription": ""
         }
        ],
        "limit": 20,
        "numbers": {
         "FAILED": 0,
         "RUNNING": 0,
         "SUCCEEDED": 3,
         "UNKNOWN": 0
        },
        "rule": "ALL_DESC"
       },
       "spark_pool": null,
       "state": "finished",
       "statement_id": 20
      },
      "text/plain": [
       "StatementMeta(, b868b727-3e52-4d09-a1fe-24b4a84b4a17, 20, Finished, Available)"
      ]
     },
     "metadata": {},
     "output_type": "display_data"
    },
    {
     "data": {
      "application/vnd.synapse.widget-view+json": {
       "widget_id": "2a6ca2a8-f54a-4ebc-8892-58f7ff5b4c5d",
       "widget_type": "Synapse.DataFrame"
      },
      "text/plain": [
       "SynapseWidget(Synapse.DataFrame, 2a6ca2a8-f54a-4ebc-8892-58f7ff5b4c5d)"
      ]
     },
     "metadata": {},
     "output_type": "display_data"
    }
   ],
   "source": [
    "# Text transformer\n",
    "tokenizer = Tokenizer(inputCol=TEXT_COL, outputCol=\"tokens\")\n",
    "stopwords_remover = StopWordsRemover(inputCol=\"tokens\", outputCol=\"filtered_tokens\")\n",
    "\n",
    "# Build the pipeline\n",
    "pipeline = Pipeline(stages=[tokenizer, stopwords_remover])\n",
    "\n",
    "token_df = pipeline.fit(df).transform(df)\n",
    "\n",
    "display(token_df.limit(20))"
   ]
  },
  {
   "cell_type": "markdown",
   "id": "09305d86-53d0-4f3a-9302-d39fdd32b63b",
   "metadata": {
    "nteract": {
     "transient": {
      "deleting": false
     }
    }
   },
   "source": [
    "In the following, we display the wordcloud for each class.\n",
    "\n",
    "Note that a wordcloud is a visually prominent presentation of “keywords” that appear frequently in text data. This is effective because the rendering of keywords forms a cloud-like color picture to better capture the main text data at a glance. You can learn more about `wordcloud` [here](https://github.com/amueller/word_cloud).\n"
   ]
  },
  {
   "cell_type": "code",
   "execution_count": null,
   "id": "e2892398-bcc7-4216-9274-f28b7d76ebe9",
   "metadata": {
    "jupyter": {
     "outputs_hidden": false,
     "source_hidden": false
    },
    "nteract": {
     "transient": {
      "deleting": false
     }
    }
   },
   "outputs": [
    {
     "data": {
      "application/vnd.livy.statement-meta+json": {
       "execution_finish_time": "2023-08-03T23:29:18.8214608Z",
       "execution_start_time": "2023-08-03T23:29:08.8010839Z",
       "livy_statement_state": "available",
       "parent_msg_id": "3d7c7500-7021-4ad2-be3a-1540c75bc3cf",
       "queued_time": "2023-08-03T23:28:04.5479789Z",
       "session_id": "b868b727-3e52-4d09-a1fe-24b4a84b4a17",
       "session_start_time": null,
       "spark_jobs": {
        "jobs": [
         {
          "completionTime": "2023-08-03T23:29:14.724GMT",
          "dataRead": 586706,
          "dataWritten": 0,
          "description": "Job group for statement 21:\n# WordCloud\nfor label in LABELS:\n    tokens = (\n        token_df.where(F.col(LABEL_COL) == label)\n        .select(F.explode(\"filtered_tokens\").alias(\"token\"))\n        .where(F.col(\"token\").rlike(r\"^\\w+$\"))\n    )\n\n    top50_tokens = (\n        tokens.groupBy(\"token\").count().orderBy(F.desc(\"count\")).limit(50).collect()\n    )\n\n    # Generate a word cloud image\n    wordcloud = WordCloud(\n        scale=10,\n        background_color=\"white\",\n        random_state=42,  # Make sure the output is always the same for the same input\n    ).generate_from_frequencies(dict(top50_tokens))\n\n    # Display the generated image using matplotlib\n    plt.figure(figsize=(10, 10))\n    plt.title(label, fontsize=20)\n    plt.axis(\"off\")\n    plt.imshow(wordcloud, interpolation=\"bilinear\")",
          "displayName": "collect at /tmp/ipykernel_12377/292748022.py:10",
          "jobGroup": "21",
          "jobId": 32,
          "killedTasksSummary": {},
          "name": "collect at /tmp/ipykernel_12377/292748022.py:10",
          "numActiveStages": 0,
          "numActiveTasks": 0,
          "numCompletedIndices": 1,
          "numCompletedStages": 1,
          "numCompletedTasks": 1,
          "numFailedStages": 0,
          "numFailedTasks": 0,
          "numKilledTasks": 0,
          "numSkippedStages": 2,
          "numSkippedTasks": 205,
          "numTasks": 206,
          "rowCount": 8772,
          "stageIds": [
           70,
           68,
           69
          ],
          "status": "SUCCEEDED",
          "submissionTime": "2023-08-03T23:29:14.664GMT",
          "usageDescription": ""
         },
         {
          "completionTime": "2023-08-03T23:29:14.640GMT",
          "dataRead": 333408,
          "dataWritten": 586706,
          "description": "Job group for statement 21:\n# WordCloud\nfor label in LABELS:\n    tokens = (\n        token_df.where(F.col(LABEL_COL) == label)\n        .select(F.explode(\"filtered_tokens\").alias(\"token\"))\n        .where(F.col(\"token\").rlike(r\"^\\w+$\"))\n    )\n\n    top50_tokens = (\n        tokens.groupBy(\"token\").count().orderBy(F.desc(\"count\")).limit(50).collect()\n    )\n\n    # Generate a word cloud image\n    wordcloud = WordCloud(\n        scale=10,\n        background_color=\"white\",\n        random_state=42,  # Make sure the output is always the same for the same input\n    ).generate_from_frequencies(dict(top50_tokens))\n\n    # Display the generated image using matplotlib\n    plt.figure(figsize=(10, 10))\n    plt.title(label, fontsize=20)\n    plt.axis(\"off\")\n    plt.imshow(wordcloud, interpolation=\"bilinear\")",
          "displayName": "collect at /tmp/ipykernel_12377/292748022.py:10",
          "jobGroup": "21",
          "jobId": 31,
          "killedTasksSummary": {},
          "name": "collect at /tmp/ipykernel_12377/292748022.py:10",
          "numActiveStages": 0,
          "numActiveTasks": 0,
          "numCompletedIndices": 200,
          "numCompletedStages": 1,
          "numCompletedTasks": 200,
          "numFailedStages": 0,
          "numFailedTasks": 0,
          "numKilledTasks": 0,
          "numSkippedStages": 1,
          "numSkippedTasks": 5,
          "numTasks": 205,
          "rowCount": 8972,
          "stageIds": [
           66,
           67
          ],
          "status": "SUCCEEDED",
          "submissionTime": "2023-08-03T23:29:12.951GMT",
          "usageDescription": ""
         },
         {
          "completionTime": "2023-08-03T23:29:12.771GMT",
          "dataRead": 333408,
          "dataWritten": 15200,
          "description": "Job group for statement 21:\n# WordCloud\nfor label in LABELS:\n    tokens = (\n        token_df.where(F.col(LABEL_COL) == label)\n        .select(F.explode(\"filtered_tokens\").alias(\"token\"))\n        .where(F.col(\"token\").rlike(r\"^\\w+$\"))\n    )\n\n    top50_tokens = (\n        tokens.groupBy(\"token\").count().orderBy(F.desc(\"count\")).limit(50).collect()\n    )\n\n    # Generate a word cloud image\n    wordcloud = WordCloud(\n        scale=10,\n        background_color=\"white\",\n        random_state=42,  # Make sure the output is always the same for the same input\n    ).generate_from_frequencies(dict(top50_tokens))\n\n    # Display the generated image using matplotlib\n    plt.figure(figsize=(10, 10))\n    plt.title(label, fontsize=20)\n    plt.axis(\"off\")\n    plt.imshow(wordcloud, interpolation=\"bilinear\")",
          "displayName": "collect at /tmp/ipykernel_12377/292748022.py:10",
          "jobGroup": "21",
          "jobId": 29,
          "killedTasksSummary": {},
          "name": "collect at /tmp/ipykernel_12377/292748022.py:10",
          "numActiveStages": 0,
          "numActiveTasks": 0,
          "numCompletedIndices": 200,
          "numCompletedStages": 1,
          "numCompletedTasks": 200,
          "numFailedStages": 0,
          "numFailedTasks": 0,
          "numKilledTasks": 0,
          "numSkippedStages": 1,
          "numSkippedTasks": 5,
          "numTasks": 205,
          "rowCount": 400,
          "stageIds": [
           61,
           62
          ],
          "status": "SUCCEEDED",
          "submissionTime": "2023-08-03T23:29:11.988GMT",
          "usageDescription": ""
         },
         {
          "completionTime": "2023-08-03T23:29:11.613GMT",
          "dataRead": 138927,
          "dataWritten": 0,
          "description": "Job group for statement 21:\n# WordCloud\nfor label in LABELS:\n    tokens = (\n        token_df.where(F.col(LABEL_COL) == label)\n        .select(F.explode(\"filtered_tokens\").alias(\"token\"))\n        .where(F.col(\"token\").rlike(r\"^\\w+$\"))\n    )\n\n    top50_tokens = (\n        tokens.groupBy(\"token\").count().orderBy(F.desc(\"count\")).limit(50).collect()\n    )\n\n    # Generate a word cloud image\n    wordcloud = WordCloud(\n        scale=10,\n        background_color=\"white\",\n        random_state=42,  # Make sure the output is always the same for the same input\n    ).generate_from_frequencies(dict(top50_tokens))\n\n    # Display the generated image using matplotlib\n    plt.figure(figsize=(10, 10))\n    plt.title(label, fontsize=20)\n    plt.axis(\"off\")\n    plt.imshow(wordcloud, interpolation=\"bilinear\")",
          "displayName": "collect at /tmp/ipykernel_12377/292748022.py:10",
          "jobGroup": "21",
          "jobId": 28,
          "killedTasksSummary": {},
          "name": "collect at /tmp/ipykernel_12377/292748022.py:10",
          "numActiveStages": 0,
          "numActiveTasks": 0,
          "numCompletedIndices": 1,
          "numCompletedStages": 1,
          "numCompletedTasks": 1,
          "numFailedStages": 0,
          "numFailedTasks": 0,
          "numKilledTasks": 0,
          "numSkippedStages": 2,
          "numSkippedTasks": 205,
          "numTasks": 206,
          "rowCount": 1964,
          "stageIds": [
           60,
           58,
           59
          ],
          "status": "SUCCEEDED",
          "submissionTime": "2023-08-03T23:29:11.385GMT",
          "usageDescription": ""
         },
         {
          "completionTime": "2023-08-03T23:29:11.307GMT",
          "dataRead": 333408,
          "dataWritten": 138927,
          "description": "Job group for statement 21:\n# WordCloud\nfor label in LABELS:\n    tokens = (\n        token_df.where(F.col(LABEL_COL) == label)\n        .select(F.explode(\"filtered_tokens\").alias(\"token\"))\n        .where(F.col(\"token\").rlike(r\"^\\w+$\"))\n    )\n\n    top50_tokens = (\n        tokens.groupBy(\"token\").count().orderBy(F.desc(\"count\")).limit(50).collect()\n    )\n\n    # Generate a word cloud image\n    wordcloud = WordCloud(\n        scale=10,\n        background_color=\"white\",\n        random_state=42,  # Make sure the output is always the same for the same input\n    ).generate_from_frequencies(dict(top50_tokens))\n\n    # Display the generated image using matplotlib\n    plt.figure(figsize=(10, 10))\n    plt.title(label, fontsize=20)\n    plt.axis(\"off\")\n    plt.imshow(wordcloud, interpolation=\"bilinear\")",
          "displayName": "collect at /tmp/ipykernel_12377/292748022.py:10",
          "jobGroup": "21",
          "jobId": 27,
          "killedTasksSummary": {},
          "name": "collect at /tmp/ipykernel_12377/292748022.py:10",
          "numActiveStages": 0,
          "numActiveTasks": 0,
          "numCompletedIndices": 200,
          "numCompletedStages": 1,
          "numCompletedTasks": 200,
          "numFailedStages": 0,
          "numFailedTasks": 0,
          "numKilledTasks": 0,
          "numSkippedStages": 1,
          "numSkippedTasks": 5,
          "numTasks": 205,
          "rowCount": 2164,
          "stageIds": [
           56,
           57
          ],
          "status": "SUCCEEDED",
          "submissionTime": "2023-08-03T23:29:09.893GMT",
          "usageDescription": ""
         },
         {
          "completionTime": "2023-08-03T23:29:09.496GMT",
          "dataRead": 333408,
          "dataWritten": 11424,
          "description": "Job group for statement 21:\n# WordCloud\nfor label in LABELS:\n    tokens = (\n        token_df.where(F.col(LABEL_COL) == label)\n        .select(F.explode(\"filtered_tokens\").alias(\"token\"))\n        .where(F.col(\"token\").rlike(r\"^\\w+$\"))\n    )\n\n    top50_tokens = (\n        tokens.groupBy(\"token\").count().orderBy(F.desc(\"count\")).limit(50).collect()\n    )\n\n    # Generate a word cloud image\n    wordcloud = WordCloud(\n        scale=10,\n        background_color=\"white\",\n        random_state=42,  # Make sure the output is always the same for the same input\n    ).generate_from_frequencies(dict(top50_tokens))\n\n    # Display the generated image using matplotlib\n    plt.figure(figsize=(10, 10))\n    plt.title(label, fontsize=20)\n    plt.axis(\"off\")\n    plt.imshow(wordcloud, interpolation=\"bilinear\")",
          "displayName": "collect at /tmp/ipykernel_12377/292748022.py:10",
          "jobGroup": "21",
          "jobId": 25,
          "killedTasksSummary": {},
          "name": "collect at /tmp/ipykernel_12377/292748022.py:10",
          "numActiveStages": 0,
          "numActiveTasks": 0,
          "numCompletedIndices": 200,
          "numCompletedStages": 1,
          "numCompletedTasks": 200,
          "numFailedStages": 0,
          "numFailedTasks": 0,
          "numKilledTasks": 0,
          "numSkippedStages": 1,
          "numSkippedTasks": 5,
          "numTasks": 205,
          "rowCount": 368,
          "stageIds": [
           51,
           52
          ],
          "status": "SUCCEEDED",
          "submissionTime": "2023-08-03T23:29:08.896GMT",
          "usageDescription": ""
         }
        ],
        "limit": 20,
        "numbers": {
         "FAILED": 0,
         "RUNNING": 0,
         "SUCCEEDED": 6,
         "UNKNOWN": 0
        },
        "rule": "ALL_DESC"
       },
       "spark_pool": null,
       "state": "finished",
       "statement_id": 21
      },
      "text/plain": [
       "StatementMeta(, b868b727-3e52-4d09-a1fe-24b4a84b4a17, 21, Finished, Available)"
      ]
     },
     "metadata": {},
     "output_type": "display_data"
    },
    {
     "data": {
      "image/png": "[encoded data removed]",
      "text/plain": [
       "<Figure size 1000x1000 with 1 Axes>"
      ]
     },
     "metadata": {},
     "output_type": "display_data"
    },
    {
     "data": {
      "image/png": "[encoded data removed]",
      "text/plain": [
       "<Figure size 1000x1000 with 1 Axes>"
      ]
     },
     "metadata": {},
     "output_type": "display_data"
    }
   ],
   "source": [
    "# WordCloud\n",
    "for label in LABELS:\n",
    "    tokens = (\n",
    "        token_df.where(F.col(LABEL_COL) == label)\n",
    "        .select(F.explode(\"filtered_tokens\").alias(\"token\"))\n",
    "        .where(F.col(\"token\").rlike(r\"^\\w+$\"))\n",
    "    )\n",
    "\n",
    "    top50_tokens = (\n",
    "        tokens.groupBy(\"token\").count().orderBy(F.desc(\"count\")).limit(50).collect()\n",
    "    )\n",
    "\n",
    "    # Generate a word cloud image\n",
    "    wordcloud = WordCloud(\n",
    "        scale=10,\n",
    "        background_color=\"white\",\n",
    "        random_state=42,  # Make sure the output is always the same for the same input\n",
    "    ).generate_from_frequencies(dict(top50_tokens))\n",
    "\n",
    "    # Display the generated image using matplotlib\n",
    "    plt.figure(figsize=(10, 10))\n",
    "    plt.title(label, fontsize=20)\n",
    "    plt.axis(\"off\")\n",
    "    plt.imshow(wordcloud, interpolation=\"bilinear\")"
   ]
  },
  {
   "cell_type": "markdown",
   "id": "5d515752-3aa6-4af5-98dc-b6339cb58d5d",
   "metadata": {
    "nteract": {
     "transient": {
      "deleting": false
     }
    }
   },
   "source": [
    "Finally, we use `word2vec` to vectorize the text. Note that `word2vec` creates a representation of each word present in our text into a vector. Words used in similar contexts or having semantic relationships are captured effectively through their closeness in the vector space, indicating that similar words will have similar word vectors."
   ]
  },
  {
   "cell_type": "code",
   "execution_count": null,
   "id": "276d331e-be39-48f2-b5be-caa129a6d9e4",
   "metadata": {
    "jupyter": {
     "outputs_hidden": false,
     "source_hidden": false
    },
    "nteract": {
     "transient": {
      "deleting": false
     }
    }
   },
   "outputs": [
    {
     "data": {
      "application/vnd.livy.statement-meta+json": {
       "execution_finish_time": "2023-08-03T23:29:29.2834168Z",
       "execution_start_time": "2023-08-03T23:29:19.2062459Z",
       "livy_statement_state": "available",
       "parent_msg_id": "6a6f756b-85b1-44af-b422-0318f64835a9",
       "queued_time": "2023-08-03T23:28:04.5485497Z",
       "session_id": "b868b727-3e52-4d09-a1fe-24b4a84b4a17",
       "session_start_time": null,
       "spark_jobs": {
        "jobs": [
         {
          "completionTime": "2023-08-03T23:29:27.167GMT",
          "dataRead": 0,
          "dataWritten": 0,
          "description": "Job group for statement 22:\n# Label transformer\nlabel_indexer = StringIndexer(inputCol=LABEL_COL, outputCol=\"labelIdx\")\nvectorizer = Word2Vec(\n    vectorSize=word2vec_size,\n    minCount=min_word_count,\n    inputCol=\"filtered_tokens\",\n    outputCol=\"features\",\n)\n\n# Build the pipeline\npipeline = Pipeline(stages=[label_indexer, vectorizer])\nvec_df = (\n    pipeline.fit(token_df)\n    .transform(token_df)\n    .select([TEXT_COL, LABEL_COL, \"features\", \"labelIdx\", \"weight\"])\n)\n\ndisplay(vec_df.limit(20))",
          "displayName": "getRowsInJsonString at Display.scala:452",
          "jobGroup": "22",
          "jobId": 44,
          "killedTasksSummary": {},
          "name": "getRowsInJsonString at Display.scala:452",
          "numActiveStages": 0,
          "numActiveTasks": 0,
          "numCompletedIndices": 1,
          "numCompletedStages": 1,
          "numCompletedTasks": 1,
          "numFailedStages": 0,
          "numFailedTasks": 0,
          "numKilledTasks": 0,
          "numSkippedStages": 2,
          "numSkippedTasks": 205,
          "numTasks": 206,
          "rowCount": 0,
          "stageIds": [
           102,
           100,
           101
          ],
          "status": "SUCCEEDED",
          "submissionTime": "2023-08-03T23:29:27.132GMT",
          "usageDescription": ""
         },
         {
          "completionTime": "2023-08-03T23:29:27.099GMT",
          "dataRead": 333408,
          "dataWritten": 1670045,
          "description": "Job group for statement 22:\n# Label transformer\nlabel_indexer = StringIndexer(inputCol=LABEL_COL, outputCol=\"labelIdx\")\nvectorizer = Word2Vec(\n    vectorSize=word2vec_size,\n    minCount=min_word_count,\n    inputCol=\"filtered_tokens\",\n    outputCol=\"features\",\n)\n\n# Build the pipeline\npipeline = Pipeline(stages=[label_indexer, vectorizer])\nvec_df = (\n    pipeline.fit(token_df)\n    .transform(token_df)\n    .select([TEXT_COL, LABEL_COL, \"features\", \"labelIdx\", \"weight\"])\n)\n\ndisplay(vec_df.limit(20))",
          "displayName": "getRowsInJsonString at Display.scala:452",
          "jobGroup": "22",
          "jobId": 43,
          "killedTasksSummary": {},
          "name": "getRowsInJsonString at Display.scala:452",
          "numActiveStages": 0,
          "numActiveTasks": 0,
          "numCompletedIndices": 200,
          "numCompletedStages": 1,
          "numCompletedTasks": 200,
          "numFailedStages": 0,
          "numFailedTasks": 0,
          "numKilledTasks": 0,
          "numSkippedStages": 1,
          "numSkippedTasks": 5,
          "numTasks": 205,
          "rowCount": 1921,
          "stageIds": [
           99,
           98
          ],
          "status": "SUCCEEDED",
          "submissionTime": "2023-08-03T23:29:26.225GMT",
          "usageDescription": ""
         },
         {
          "completionTime": "2023-08-03T23:29:26.098GMT",
          "dataRead": 333408,
          "dataWritten": 27917,
          "description": "Job group for statement 22:\n# Label transformer\nlabel_indexer = StringIndexer(inputCol=LABEL_COL, outputCol=\"labelIdx\")\nvectorizer = Word2Vec(\n    vectorSize=word2vec_size,\n    minCount=min_word_count,\n    inputCol=\"filtered_tokens\",\n    outputCol=\"features\",\n)\n\n# Build the pipeline\npipeline = Pipeline(stages=[label_indexer, vectorizer])\nvec_df = (\n    pipeline.fit(token_df)\n    .transform(token_df)\n    .select([TEXT_COL, LABEL_COL, \"features\", \"labelIdx\", \"weight\"])\n)\n\ndisplay(vec_df.limit(20))",
          "displayName": "getRowsInJsonString at Display.scala:452",
          "jobGroup": "22",
          "jobId": 41,
          "killedTasksSummary": {},
          "name": "getRowsInJsonString at Display.scala:452",
          "numActiveStages": 0,
          "numActiveTasks": 0,
          "numCompletedIndices": 200,
          "numCompletedStages": 1,
          "numCompletedTasks": 200,
          "numFailedStages": 0,
          "numFailedTasks": 0,
          "numKilledTasks": 0,
          "numSkippedStages": 1,
          "numSkippedTasks": 5,
          "numTasks": 205,
          "rowCount": 568,
          "stageIds": [
           93,
           94
          ],
          "status": "SUCCEEDED",
          "submissionTime": "2023-08-03T23:29:25.450GMT",
          "usageDescription": ""
         },
         {
          "completionTime": "2023-08-03T23:29:25.298GMT",
          "dataRead": 1327044,
          "dataWritten": 993636,
          "description": "Job group for statement 22:\n# Label transformer\nlabel_indexer = StringIndexer(inputCol=LABEL_COL, outputCol=\"labelIdx\")\nvectorizer = Word2Vec(\n    vectorSize=word2vec_size,\n    minCount=min_word_count,\n    inputCol=\"filtered_tokens\",\n    outputCol=\"features\",\n)\n\n# Build the pipeline\npipeline = Pipeline(stages=[label_indexer, vectorizer])\nvec_df = (\n    pipeline.fit(token_df)\n    .transform(token_df)\n    .select([TEXT_COL, LABEL_COL, \"features\", \"labelIdx\", \"weight\"])\n)\n\ndisplay(vec_df.limit(20))",
          "displayName": "collect at Word2Vec.scala:453",
          "jobGroup": "22",
          "jobId": 40,
          "killedTasksSummary": {},
          "name": "collect at Word2Vec.scala:453",
          "numActiveStages": 0,
          "numActiveTasks": 0,
          "numCompletedIndices": 202,
          "numCompletedStages": 3,
          "numCompletedTasks": 202,
          "numFailedStages": 0,
          "numFailedTasks": 0,
          "numKilledTasks": 0,
          "numSkippedStages": 1,
          "numSkippedTasks": 5,
          "numTasks": 207,
          "rowCount": 7216,
          "stageIds": [
           89,
           90,
           91,
           92
          ],
          "status": "SUCCEEDED",
          "submissionTime": "2023-08-03T23:29:24.170GMT",
          "usageDescription": ""
         },
         {
          "completionTime": "2023-08-03T23:29:24.029GMT",
          "dataRead": 1033032,
          "dataWritten": 699624,
          "description": "Job group for statement 22:\n# Label transformer\nlabel_indexer = StringIndexer(inputCol=LABEL_COL, outputCol=\"labelIdx\")\nvectorizer = Word2Vec(\n    vectorSize=word2vec_size,\n    minCount=min_word_count,\n    inputCol=\"filtered_tokens\",\n    outputCol=\"features\",\n)\n\n# Build the pipeline\npipeline = Pipeline(stages=[label_indexer, vectorizer])\nvec_df = (\n    pipeline.fit(token_df)\n    .transform(token_df)\n    .select([TEXT_COL, LABEL_COL, \"features\", \"labelIdx\", \"weight\"])\n)\n\ndisplay(vec_df.limit(20))",
          "displayName": "collect at Word2Vec.scala:191",
          "jobGroup": "22",
          "jobId": 39,
          "killedTasksSummary": {},
          "name": "collect at Word2Vec.scala:191",
          "numActiveStages": 0,
          "numActiveTasks": 0,
          "numCompletedIndices": 400,
          "numCompletedStages": 2,
          "numCompletedTasks": 400,
          "numFailedStages": 0,
          "numFailedTasks": 0,
          "numKilledTasks": 0,
          "numSkippedStages": 1,
          "numSkippedTasks": 5,
          "numTasks": 405,
          "rowCount": 31428,
          "stageIds": [
           88,
           86,
           87
          ],
          "status": "SUCCEEDED",
          "submissionTime": "2023-08-03T23:29:21.902GMT",
          "usageDescription": ""
         },
         {
          "completionTime": "2023-08-03T23:29:21.733GMT",
          "dataRead": 333408,
          "dataWritten": 26624,
          "description": "Job group for statement 22:\n# Label transformer\nlabel_indexer = StringIndexer(inputCol=LABEL_COL, outputCol=\"labelIdx\")\nvectorizer = Word2Vec(\n    vectorSize=word2vec_size,\n    minCount=min_word_count,\n    inputCol=\"filtered_tokens\",\n    outputCol=\"features\",\n)\n\n# Build the pipeline\npipeline = Pipeline(stages=[label_indexer, vectorizer])\nvec_df = (\n    pipeline.fit(token_df)\n    .transform(token_df)\n    .select([TEXT_COL, LABEL_COL, \"features\", \"labelIdx\", \"weight\"])\n)\n\ndisplay(vec_df.limit(20))",
          "displayName": "rdd at Word2Vec.scala:172",
          "jobGroup": "22",
          "jobId": 37,
          "killedTasksSummary": {},
          "name": "rdd at Word2Vec.scala:172",
          "numActiveStages": 0,
          "numActiveTasks": 0,
          "numCompletedIndices": 200,
          "numCompletedStages": 1,
          "numCompletedTasks": 200,
          "numFailedStages": 0,
          "numFailedTasks": 0,
          "numKilledTasks": 0,
          "numSkippedStages": 1,
          "numSkippedTasks": 5,
          "numTasks": 205,
          "rowCount": 568,
          "stageIds": [
           81,
           82
          ],
          "status": "SUCCEEDED",
          "submissionTime": "2023-08-03T23:29:21.028GMT",
          "usageDescription": ""
         },
         {
          "completionTime": "2023-08-03T23:29:20.855GMT",
          "dataRead": 62742,
          "dataWritten": 0,
          "description": "Job group for statement 22:\n# Label transformer\nlabel_indexer = StringIndexer(inputCol=LABEL_COL, outputCol=\"labelIdx\")\nvectorizer = Word2Vec(\n    vectorSize=word2vec_size,\n    minCount=min_word_count,\n    inputCol=\"filtered_tokens\",\n    outputCol=\"features\",\n)\n\n# Build the pipeline\npipeline = Pipeline(stages=[label_indexer, vectorizer])\nvec_df = (\n    pipeline.fit(token_df)\n    .transform(token_df)\n    .select([TEXT_COL, LABEL_COL, \"features\", \"labelIdx\", \"weight\"])\n)\n\ndisplay(vec_df.limit(20))",
          "displayName": "collect at StringIndexer.scala:204",
          "jobGroup": "22",
          "jobId": 36,
          "killedTasksSummary": {},
          "name": "collect at StringIndexer.scala:204",
          "numActiveStages": 0,
          "numActiveTasks": 0,
          "numCompletedIndices": 1,
          "numCompletedStages": 1,
          "numCompletedTasks": 1,
          "numFailedStages": 0,
          "numFailedTasks": 0,
          "numKilledTasks": 0,
          "numSkippedStages": 2,
          "numSkippedTasks": 205,
          "numTasks": 206,
          "rowCount": 200,
          "stageIds": [
           78,
           79,
           80
          ],
          "status": "SUCCEEDED",
          "submissionTime": "2023-08-03T23:29:20.753GMT",
          "usageDescription": ""
         },
         {
          "completionTime": "2023-08-03T23:29:20.729GMT",
          "dataRead": 333408,
          "dataWritten": 62742,
          "description": "Job group for statement 22:\n# Label transformer\nlabel_indexer = StringIndexer(inputCol=LABEL_COL, outputCol=\"labelIdx\")\nvectorizer = Word2Vec(\n    vectorSize=word2vec_size,\n    minCount=min_word_count,\n    inputCol=\"filtered_tokens\",\n    outputCol=\"features\",\n)\n\n# Build the pipeline\npipeline = Pipeline(stages=[label_indexer, vectorizer])\nvec_df = (\n    pipeline.fit(token_df)\n    .transform(token_df)\n    .select([TEXT_COL, LABEL_COL, \"features\", \"labelIdx\", \"weight\"])\n)\n\ndisplay(vec_df.limit(20))",
          "displayName": "collect at StringIndexer.scala:204",
          "jobGroup": "22",
          "jobId": 35,
          "killedTasksSummary": {},
          "name": "collect at StringIndexer.scala:204",
          "numActiveStages": 0,
          "numActiveTasks": 0,
          "numCompletedIndices": 200,
          "numCompletedStages": 1,
          "numCompletedTasks": 200,
          "numFailedStages": 0,
          "numFailedTasks": 0,
          "numKilledTasks": 0,
          "numSkippedStages": 1,
          "numSkippedTasks": 5,
          "numTasks": 205,
          "rowCount": 400,
          "stageIds": [
           76,
           77
          ],
          "status": "SUCCEEDED",
          "submissionTime": "2023-08-03T23:29:19.994GMT",
          "usageDescription": ""
         },
         {
          "completionTime": "2023-08-03T23:29:19.874GMT",
          "dataRead": 333408,
          "dataWritten": 26624,
          "description": "Job group for statement 22:\n# Label transformer\nlabel_indexer = StringIndexer(inputCol=LABEL_COL, outputCol=\"labelIdx\")\nvectorizer = Word2Vec(\n    vectorSize=word2vec_size,\n    minCount=min_word_count,\n    inputCol=\"filtered_tokens\",\n    outputCol=\"features\",\n)\n\n# Build the pipeline\npipeline = Pipeline(stages=[label_indexer, vectorizer])\nvec_df = (\n    pipeline.fit(token_df)\n    .transform(token_df)\n    .select([TEXT_COL, LABEL_COL, \"features\", \"labelIdx\", \"weight\"])\n)\n\ndisplay(vec_df.limit(20))",
          "displayName": "collect at StringIndexer.scala:204",
          "jobGroup": "22",
          "jobId": 33,
          "killedTasksSummary": {},
          "name": "collect at StringIndexer.scala:204",
          "numActiveStages": 0,
          "numActiveTasks": 0,
          "numCompletedIndices": 200,
          "numCompletedStages": 1,
          "numCompletedTasks": 200,
          "numFailedStages": 0,
          "numFailedTasks": 0,
          "numKilledTasks": 0,
          "numSkippedStages": 1,
          "numSkippedTasks": 5,
          "numTasks": 205,
          "rowCount": 568,
          "stageIds": [
           71,
           72
          ],
          "status": "SUCCEEDED",
          "submissionTime": "2023-08-03T23:29:19.335GMT",
          "usageDescription": ""
         }
        ],
        "limit": 20,
        "numbers": {
         "FAILED": 0,
         "RUNNING": 0,
         "SUCCEEDED": 9,
         "UNKNOWN": 0
        },
        "rule": "ALL_DESC"
       },
       "spark_pool": null,
       "state": "finished",
       "statement_id": 22
      },
      "text/plain": [
       "StatementMeta(, b868b727-3e52-4d09-a1fe-24b4a84b4a17, 22, Finished, Available)"
      ]
     },
     "metadata": {},
     "output_type": "display_data"
    },
    {
     "data": {
      "application/vnd.synapse.widget-view+json": {
       "widget_id": "01afc127-aa6d-4da6-aee9-0ee82b5848a1",
       "widget_type": "Synapse.DataFrame"
      },
      "text/plain": [
       "SynapseWidget(Synapse.DataFrame, 01afc127-aa6d-4da6-aee9-0ee82b5848a1)"
      ]
     },
     "metadata": {},
     "output_type": "display_data"
    }
   ],
   "source": [
    "# Label transformer\n",
    "label_indexer = StringIndexer(inputCol=LABEL_COL, outputCol=\"labelIdx\")\n",
    "vectorizer = Word2Vec(\n",
    "    vectorSize=word2vec_size,\n",
    "    minCount=min_word_count,\n",
    "    inputCol=\"filtered_tokens\",\n",
    "    outputCol=\"features\",\n",
    ")\n",
    "\n",
    "# Build the pipeline\n",
    "pipeline = Pipeline(stages=[label_indexer, vectorizer])\n",
    "vec_df = (\n",
    "    pipeline.fit(token_df)\n",
    "    .transform(token_df)\n",
    "    .select([TEXT_COL, LABEL_COL, \"features\", \"labelIdx\", \"weight\"])\n",
    ")\n",
    "\n",
    "display(vec_df.limit(20))"
   ]
  },
  {
   "cell_type": "markdown",
   "id": "fa2beda6-86e9-4eb9-8d0b-0ef7d99d4837",
   "metadata": {
    "nteract": {
     "transient": {
      "deleting": false
     }
    }
   },
   "source": [
    "## Step 4: Model Training and Evaluation"
   ]
  },
  {
   "cell_type": "markdown",
   "id": "53c24a83-5adc-4cc7-b3fa-094e6f1841fd",
   "metadata": {
    "nteract": {
     "transient": {
      "deleting": false
     }
    }
   },
   "source": [
    "With our data in place, we can now define the model. In this section, we train a logistic regression model to classify the vectorized text."
   ]
  },
  {
   "cell_type": "markdown",
   "id": "c4845ef3-61e2-4d94-ab51-c846c670ddb4",
   "metadata": {
    "nteract": {
     "transient": {
      "deleting": false
     }
    }
   },
   "source": [
    "### Prepare training and test datasets"
   ]
  },
  {
   "cell_type": "code",
   "execution_count": null,
   "id": "b49c17ca-0928-42ff-ac5c-6091ef88f4a4",
   "metadata": {
    "jupyter": {
     "outputs_hidden": false,
     "source_hidden": false
    },
    "nteract": {
     "transient": {
      "deleting": false
     }
    }
   },
   "outputs": [
    {
     "data": {
      "application/vnd.livy.statement-meta+json": {
       "execution_finish_time": "2023-08-03T23:29:29.9548755Z",
       "execution_start_time": "2023-08-03T23:29:29.6742844Z",
       "livy_statement_state": "available",
       "parent_msg_id": "07cb0a33-5b2a-474b-b967-787ec5122616",
       "queued_time": "2023-08-03T23:28:04.549131Z",
       "session_id": "b868b727-3e52-4d09-a1fe-24b4a84b4a17",
       "session_start_time": null,
       "spark_jobs": {
        "jobs": [],
        "limit": 20,
        "numbers": {
         "FAILED": 0,
         "RUNNING": 0,
         "SUCCEEDED": 0,
         "UNKNOWN": 0
        },
        "rule": "ALL_DESC"
       },
       "spark_pool": null,
       "state": "finished",
       "statement_id": 23
      },
      "text/plain": [
       "StatementMeta(, b868b727-3e52-4d09-a1fe-24b4a84b4a17, 23, Finished, Available)"
      ]
     },
     "metadata": {},
     "output_type": "display_data"
    }
   ],
   "source": [
    "# Split the dataset into training and test sets\n",
    "(train_df, test_df) = vec_df.randomSplit((0.8, 0.2), seed=42)"
   ]
  },
  {
   "cell_type": "markdown",
   "id": "172d2c5f-2aea-441c-a1c1-aaf3c6147cb7",
   "metadata": {
    "nteract": {
     "transient": {
      "deleting": false
     }
    }
   },
   "source": [
    "### Model Training and Machine Learning Experiments\n",
    "\n",
    "A machine learning experiment is the primary unit of organization and control for all related machine learning runs. A run corresponds to a single execution of model code. Machine learning experiment tracking refers to the process of managing all the different experiments and their components, such as parameters, metrics, models and other artifacts and it enables to organize all the the required  components of a specific machine learning experiment as well as reproducing past results (easily) using saved experiments. You can learn more about machine learning experiments in Microsoft Fabric [here](https://aka.ms/synapse-experiment).\n"
   ]
  },
  {
   "cell_type": "code",
   "execution_count": null,
   "id": "6a3fb58a-4a33-4c5f-8089-d96eedc52877",
   "metadata": {
    "jupyter": {
     "outputs_hidden": false,
     "source_hidden": false
    },
    "nteract": {
     "transient": {
      "deleting": false
     }
    }
   },
   "outputs": [
    {
     "data": {
      "application/vnd.livy.statement-meta+json": {
       "execution_finish_time": "2023-08-03T23:29:30.6592291Z",
       "execution_start_time": "2023-08-03T23:29:30.3657424Z",
       "livy_statement_state": "available",
       "parent_msg_id": "1f83a357-f100-474e-a9f9-6a93b93e5faf",
       "queued_time": "2023-08-03T23:28:04.5497315Z",
       "session_id": "b868b727-3e52-4d09-a1fe-24b4a84b4a17",
       "session_start_time": null,
       "spark_jobs": {
        "jobs": [],
        "limit": 20,
        "numbers": {
         "FAILED": 0,
         "RUNNING": 0,
         "SUCCEEDED": 0,
         "UNKNOWN": 0
        },
        "rule": "ALL_DESC"
       },
       "spark_pool": null,
       "state": "finished",
       "statement_id": 24
      },
      "text/plain": [
       "StatementMeta(, b868b727-3e52-4d09-a1fe-24b4a84b4a17, 24, Finished, Available)"
      ]
     },
     "metadata": {},
     "output_type": "display_data"
    }
   ],
   "source": [
    "# Build the logistic regression classifier\n",
    "lr = (\n",
    "    LogisticRegression()\n",
    "    .setMaxIter(max_iter)\n",
    "    .setFeaturesCol(\"features\")\n",
    "    .setLabelCol(\"labelIdx\")\n",
    "    .setWeightCol(\"weight\")\n",
    ")"
   ]
  },
  {
   "cell_type": "markdown",
   "id": "d51f6f84-e349-47b5-ba33-3859d95af8d0",
   "metadata": {
    "nteract": {
     "transient": {
      "deleting": false
     }
    }
   },
   "source": [
    "### Model Training and Hyper-parameter Tuning\n",
    "\n",
    "In the following, we construct a grid of parameters to search over the hyper-parameters as well as a cross evaluator estimator to produce a CrossValidatorModel."
   ]
  },
  {
   "cell_type": "code",
   "execution_count": null,
   "id": "75f23295-2fb6-497e-bf71-f937818ca16c",
   "metadata": {
    "jupyter": {
     "outputs_hidden": false,
     "source_hidden": false
    },
    "nteract": {
     "transient": {
      "deleting": false
     }
    }
   },
   "outputs": [
    {
     "data": {
      "application/vnd.livy.statement-meta+json": {
       "execution_finish_time": "2023-08-03T23:29:31.3364194Z",
       "execution_start_time": "2023-08-03T23:29:31.04435Z",
       "livy_statement_state": "available",
       "parent_msg_id": "ff2c356c-28e2-42ba-932c-eefa18bcbf2f",
       "queued_time": "2023-08-03T23:28:04.5503287Z",
       "session_id": "b868b727-3e52-4d09-a1fe-24b4a84b4a17",
       "session_start_time": null,
       "spark_jobs": {
        "jobs": [],
        "limit": 20,
        "numbers": {
         "FAILED": 0,
         "RUNNING": 0,
         "SUCCEEDED": 0,
         "UNKNOWN": 0
        },
        "rule": "ALL_DESC"
       },
       "spark_pool": null,
       "state": "finished",
       "statement_id": 25
      },
      "text/plain": [
       "StatementMeta(, b868b727-3e52-4d09-a1fe-24b4a84b4a17, 25, Finished, Available)"
      ]
     },
     "metadata": {},
     "output_type": "display_data"
    }
   ],
   "source": [
    "# Construct a grid search to select the best values for the training parameters\n",
    "param_grid = (\n",
    "    ParamGridBuilder()\n",
    "    .addGrid(lr.regParam, [0.03, 0.1])\n",
    "    .addGrid(lr.elasticNetParam, [0.0, 0.1])\n",
    "    .build()\n",
    ")\n",
    "\n",
    "if len(LABELS) > 2:\n",
    "    evaluator_cls = MulticlassClassificationEvaluator\n",
    "    evaluator_metrics = [\"f1\", \"accuracy\"]\n",
    "else:\n",
    "    evaluator_cls = BinaryClassificationEvaluator\n",
    "    evaluator_metrics = [\"areaUnderROC\", \"areaUnderPR\"]\n",
    "evaluator = evaluator_cls(labelCol=\"labelIdx\", weightCol=\"weight\")\n",
    "\n",
    "# Construct a cross evaluator estimator\n",
    "crossval = CrossValidator(\n",
    "    estimator=lr,\n",
    "    estimatorParamMaps=param_grid,\n",
    "    evaluator=evaluator,\n",
    "    numFolds=k_folds,\n",
    "    collectSubModels=True,\n",
    ")"
   ]
  },
  {
   "cell_type": "markdown",
   "id": "18354ada-b462-4580-9e94-5cc073f243d6",
   "metadata": {
    "nteract": {
     "transient": {
      "deleting": false
     }
    }
   },
   "source": [
    "### Model Evaluation\n",
    "\n",
    "We now have different models to compare by evaluating them on the test dataset. If a model has been well trained, it should demonstrate high performance on the relevant metrics on the validation and test datasets."
   ]
  },
  {
   "cell_type": "code",
   "execution_count": null,
   "id": "0595bc50-4279-47ac-b6c7-5881208a2d71",
   "metadata": {
    "jupyter": {
     "outputs_hidden": false,
     "source_hidden": false
    },
    "nteract": {
     "transient": {
      "deleting": false
     }
    }
   },
   "outputs": [
    {
     "data": {
      "application/vnd.livy.statement-meta+json": {
       "execution_finish_time": "2023-08-03T23:29:32.0807659Z",
       "execution_start_time": "2023-08-03T23:29:31.7732757Z",
       "livy_statement_state": "available",
       "parent_msg_id": "efcd7f15-0195-4a88-a0ed-2fee27a59bb4",
       "queued_time": "2023-08-03T23:28:04.550961Z",
       "session_id": "b868b727-3e52-4d09-a1fe-24b4a84b4a17",
       "session_start_time": null,
       "spark_jobs": {
        "jobs": [],
        "limit": 20,
        "numbers": {
         "FAILED": 0,
         "RUNNING": 0,
         "SUCCEEDED": 0,
         "UNKNOWN": 0
        },
        "rule": "ALL_DESC"
       },
       "spark_pool": null,
       "state": "finished",
       "statement_id": 26
      },
      "text/plain": [
       "StatementMeta(, b868b727-3e52-4d09-a1fe-24b4a84b4a17, 26, Finished, Available)"
      ]
     },
     "metadata": {},
     "output_type": "display_data"
    }
   ],
   "source": [
    "def evaluate(model, df):\n",
    "    log_metric = {}\n",
    "    prediction = model.transform(df)\n",
    "    for metric in evaluator_metrics:\n",
    "        value = evaluator.evaluate(prediction, {evaluator.metricName: metric})\n",
    "        log_metric[metric] = value\n",
    "        print(f\"{metric}: {value:.4f}\")\n",
    "    return prediction, log_metric"
   ]
  },
  {
   "cell_type": "markdown",
   "id": "0ba4838d-af96-49a8-b72a-f0bdb9c553e1",
   "metadata": {
    "nteract": {
     "transient": {
      "deleting": false
     }
    }
   },
   "source": [
    "### Experiment Tracking with MLflow\n",
    "\n",
    "We start the training and evaluation and we use MLflow to track all experiments and log parameters, metrics, and the models. Note that all these information are logged under the experiment name in the workspace."
   ]
  },
  {
   "cell_type": "code",
   "execution_count": null,
   "id": "af337e32-21a8-4764-8510-802c47b0c851",
   "metadata": {
    "jupyter": {
     "outputs_hidden": false,
     "source_hidden": false
    },
    "nteract": {
     "transient": {
      "deleting": false
     }
    }
   },
   "outputs": [
    {
     "data": {
      "application/vnd.livy.statement-meta+json": {
       "execution_finish_time": "2023-08-03T23:33:27.9133292Z",
       "execution_start_time": "2023-08-03T23:29:32.4604432Z",
       "livy_statement_state": "available",
       "parent_msg_id": "0f82c2ce-8eb2-414d-a0ac-1093d47e7623",
       "queued_time": "2023-08-03T23:28:04.5515907Z",
       "session_id": "b868b727-3e52-4d09-a1fe-24b4a84b4a17",
       "session_start_time": null,
       "spark_jobs": {
        "jobs": [
         {
          "completionTime": "2023-08-03T23:33:18.273GMT",
          "dataRead": 0,
          "dataWritten": 0,
          "description": "Job group for statement 27:\nwith mlflow.start_run(run_name=\"lr\"):\n    models = crossval.fit(train_df)\n    best_metrics = {k: 0 for k in evaluator_metrics}\n    best_index = 0\n    for idx, model in enumerate(models.subModels[0]):\n        with mlflow.start_run(nested=True, run_name=f\"lr_{idx}\") as run:\n            print(\"\nEvaluating on testing data:\")\n            print(f\"subModel No. {idx + 1}\")\n            prediction, log_metric = evaluate(model, test_df)\n\n            if log_metric[evaluator_metrics[0]] > best_metrics[evaluator_metrics[0]]:\n                best_metrics = log_metric\n                best_index = idx\n\n            print(\"log model\")\n            mlflow.spark.log_model(\n                model,\n                f\"{EXPERIMENT_NAME}-lrmodel\",\n                registered_model_name=f\"{EXPERIMENT_NAME}-lrmodel\",\n                dfs_tmpdir=\"Files/spark\",\n            )\n\n            print(\"log metrics\")\n            mlflow.log_metrics(log_metric)\n\n            print(\"log parameters\")\n            mlflow.log_params(\n                {\n       ...",
          "displayName": "parquet at LogisticRegression.scala:1321",
          "jobGroup": "27",
          "jobId": 353,
          "killedTasksSummary": {},
          "name": "parquet at LogisticRegression.scala:1321",
          "numActiveStages": 0,
          "numActiveTasks": 0,
          "numCompletedIndices": 1,
          "numCompletedStages": 1,
          "numCompletedTasks": 1,
          "numFailedStages": 0,
          "numFailedTasks": 0,
          "numKilledTasks": 0,
          "numSkippedStages": 1,
          "numSkippedTasks": 1,
          "numTasks": 2,
          "rowCount": 0,
          "stageIds": [
           1045,
           1046
          ],
          "status": "SUCCEEDED",
          "submissionTime": "2023-08-03T23:33:17.928GMT",
          "usageDescription": ""
         },
         {
          "completionTime": "2023-08-03T23:33:17.892GMT",
          "dataRead": 0,
          "dataWritten": 0,
          "description": "Job group for statement 27:\nwith mlflow.start_run(run_name=\"lr\"):\n    models = crossval.fit(train_df)\n    best_metrics = {k: 0 for k in evaluator_metrics}\n    best_index = 0\n    for idx, model in enumerate(models.subModels[0]):\n        with mlflow.start_run(nested=True, run_name=f\"lr_{idx}\") as run:\n            print(\"\nEvaluating on testing data:\")\n            print(f\"subModel No. {idx + 1}\")\n            prediction, log_metric = evaluate(model, test_df)\n\n            if log_metric[evaluator_metrics[0]] > best_metrics[evaluator_metrics[0]]:\n                best_metrics = log_metric\n                best_index = idx\n\n            print(\"log model\")\n            mlflow.spark.log_model(\n                model,\n                f\"{EXPERIMENT_NAME}-lrmodel\",\n                registered_model_name=f\"{EXPERIMENT_NAME}-lrmodel\",\n                dfs_tmpdir=\"Files/spark\",\n            )\n\n            print(\"log metrics\")\n            mlflow.log_metrics(log_metric)\n\n            print(\"log parameters\")\n            mlflow.log_params(\n                {\n       ...",
          "displayName": "parquet at LogisticRegression.scala:1321",
          "jobGroup": "27",
          "jobId": 352,
          "killedTasksSummary": {},
          "name": "parquet at LogisticRegression.scala:1321",
          "numActiveStages": 0,
          "numActiveTasks": 0,
          "numCompletedIndices": 1,
          "numCompletedStages": 1,
          "numCompletedTasks": 1,
          "numFailedStages": 0,
          "numFailedTasks": 0,
          "numKilledTasks": 0,
          "numSkippedStages": 0,
          "numSkippedTasks": 0,
          "numTasks": 1,
          "rowCount": 0,
          "stageIds": [
           1044
          ],
          "status": "SUCCEEDED",
          "submissionTime": "2023-08-03T23:33:17.883GMT",
          "usageDescription": ""
         },
         {
          "completionTime": "2023-08-03T23:33:17.561GMT",
          "dataRead": 0,
          "dataWritten": 0,
          "description": "Job group for statement 27:\nwith mlflow.start_run(run_name=\"lr\"):\n    models = crossval.fit(train_df)\n    best_metrics = {k: 0 for k in evaluator_metrics}\n    best_index = 0\n    for idx, model in enumerate(models.subModels[0]):\n        with mlflow.start_run(nested=True, run_name=f\"lr_{idx}\") as run:\n            print(\"\nEvaluating on testing data:\")\n            print(f\"subModel No. {idx + 1}\")\n            prediction, log_metric = evaluate(model, test_df)\n\n            if log_metric[evaluator_metrics[0]] > best_metrics[evaluator_metrics[0]]:\n                best_metrics = log_metric\n                best_index = idx\n\n            print(\"log model\")\n            mlflow.spark.log_model(\n                model,\n                f\"{EXPERIMENT_NAME}-lrmodel\",\n                registered_model_name=f\"{EXPERIMENT_NAME}-lrmodel\",\n                dfs_tmpdir=\"Files/spark\",\n            )\n\n            print(\"log metrics\")\n            mlflow.log_metrics(log_metric)\n\n            print(\"log parameters\")\n            mlflow.log_params(\n                {\n       ...",
          "displayName": "runJob at SparkHadoopWriter.scala:85",
          "jobGroup": "27",
          "jobId": 351,
          "killedTasksSummary": {},
          "name": "runJob at SparkHadoopWriter.scala:85",
          "numActiveStages": 0,
          "numActiveTasks": 0,
          "numCompletedIndices": 1,
          "numCompletedStages": 1,
          "numCompletedTasks": 1,
          "numFailedStages": 0,
          "numFailedTasks": 0,
          "numKilledTasks": 0,
          "numSkippedStages": 0,
          "numSkippedTasks": 0,
          "numTasks": 1,
          "rowCount": 0,
          "stageIds": [
           1043
          ],
          "status": "SUCCEEDED",
          "submissionTime": "2023-08-03T23:33:17.305GMT",
          "usageDescription": ""
         },
         {
          "completionTime": "2023-08-03T23:33:17.002GMT",
          "dataRead": 0,
          "dataWritten": 0,
          "description": "Job group for statement 27:\nwith mlflow.start_run(run_name=\"lr\"):\n    models = crossval.fit(train_df)\n    best_metrics = {k: 0 for k in evaluator_metrics}\n    best_index = 0\n    for idx, model in enumerate(models.subModels[0]):\n        with mlflow.start_run(nested=True, run_name=f\"lr_{idx}\") as run:\n            print(\"\nEvaluating on testing data:\")\n            print(f\"subModel No. {idx + 1}\")\n            prediction, log_metric = evaluate(model, test_df)\n\n            if log_metric[evaluator_metrics[0]] > best_metrics[evaluator_metrics[0]]:\n                best_metrics = log_metric\n                best_index = idx\n\n            print(\"log model\")\n            mlflow.spark.log_model(\n                model,\n                f\"{EXPERIMENT_NAME}-lrmodel\",\n                registered_model_name=f\"{EXPERIMENT_NAME}-lrmodel\",\n                dfs_tmpdir=\"Files/spark\",\n            )\n\n            print(\"log metrics\")\n            mlflow.log_metrics(log_metric)\n\n            print(\"log parameters\")\n            mlflow.log_params(\n                {\n       ...",
          "displayName": "runJob at SparkHadoopWriter.scala:85",
          "jobGroup": "27",
          "jobId": 350,
          "killedTasksSummary": {},
          "name": "runJob at SparkHadoopWriter.scala:85",
          "numActiveStages": 0,
          "numActiveTasks": 0,
          "numCompletedIndices": 1,
          "numCompletedStages": 1,
          "numCompletedTasks": 1,
          "numFailedStages": 0,
          "numFailedTasks": 0,
          "numKilledTasks": 0,
          "numSkippedStages": 0,
          "numSkippedTasks": 0,
          "numTasks": 1,
          "rowCount": 0,
          "stageIds": [
           1042
          ],
          "status": "SUCCEEDED",
          "submissionTime": "2023-08-03T23:33:16.739GMT",
          "usageDescription": ""
         },
         {
          "completionTime": "2023-08-03T23:33:08.613GMT",
          "dataRead": 0,
          "dataWritten": 0,
          "description": "Job group for statement 27:\nwith mlflow.start_run(run_name=\"lr\"):\n    models = crossval.fit(train_df)\n    best_metrics = {k: 0 for k in evaluator_metrics}\n    best_index = 0\n    for idx, model in enumerate(models.subModels[0]):\n        with mlflow.start_run(nested=True, run_name=f\"lr_{idx}\") as run:\n            print(\"\nEvaluating on testing data:\")\n            print(f\"subModel No. {idx + 1}\")\n            prediction, log_metric = evaluate(model, test_df)\n\n            if log_metric[evaluator_metrics[0]] > best_metrics[evaluator_metrics[0]]:\n                best_metrics = log_metric\n                best_index = idx\n\n            print(\"log model\")\n            mlflow.spark.log_model(\n                model,\n                f\"{EXPERIMENT_NAME}-lrmodel\",\n                registered_model_name=f\"{EXPERIMENT_NAME}-lrmodel\",\n                dfs_tmpdir=\"Files/spark\",\n            )\n\n            print(\"log metrics\")\n            mlflow.log_metrics(log_metric)\n\n            print(\"log parameters\")\n            mlflow.log_params(\n                {\n       ...",
          "displayName": "parquet at LogisticRegression.scala:1321",
          "jobGroup": "27",
          "jobId": 349,
          "killedTasksSummary": {},
          "name": "parquet at LogisticRegression.scala:1321",
          "numActiveStages": 0,
          "numActiveTasks": 0,
          "numCompletedIndices": 1,
          "numCompletedStages": 1,
          "numCompletedTasks": 1,
          "numFailedStages": 0,
          "numFailedTasks": 0,
          "numKilledTasks": 0,
          "numSkippedStages": 1,
          "numSkippedTasks": 1,
          "numTasks": 2,
          "rowCount": 0,
          "stageIds": [
           1040,
           1041
          ],
          "status": "SUCCEEDED",
          "submissionTime": "2023-08-03T23:33:08.259GMT",
          "usageDescription": ""
         },
         {
          "completionTime": "2023-08-03T23:33:08.232GMT",
          "dataRead": 0,
          "dataWritten": 0,
          "description": "Job group for statement 27:\nwith mlflow.start_run(run_name=\"lr\"):\n    models = crossval.fit(train_df)\n    best_metrics = {k: 0 for k in evaluator_metrics}\n    best_index = 0\n    for idx, model in enumerate(models.subModels[0]):\n        with mlflow.start_run(nested=True, run_name=f\"lr_{idx}\") as run:\n            print(\"\nEvaluating on testing data:\")\n            print(f\"subModel No. {idx + 1}\")\n            prediction, log_metric = evaluate(model, test_df)\n\n            if log_metric[evaluator_metrics[0]] > best_metrics[evaluator_metrics[0]]:\n                best_metrics = log_metric\n                best_index = idx\n\n            print(\"log model\")\n            mlflow.spark.log_model(\n                model,\n                f\"{EXPERIMENT_NAME}-lrmodel\",\n                registered_model_name=f\"{EXPERIMENT_NAME}-lrmodel\",\n                dfs_tmpdir=\"Files/spark\",\n            )\n\n            print(\"log metrics\")\n            mlflow.log_metrics(log_metric)\n\n            print(\"log parameters\")\n            mlflow.log_params(\n                {\n       ...",
          "displayName": "parquet at LogisticRegression.scala:1321",
          "jobGroup": "27",
          "jobId": 348,
          "killedTasksSummary": {},
          "name": "parquet at LogisticRegression.scala:1321",
          "numActiveStages": 0,
          "numActiveTasks": 0,
          "numCompletedIndices": 1,
          "numCompletedStages": 1,
          "numCompletedTasks": 1,
          "numFailedStages": 0,
          "numFailedTasks": 0,
          "numKilledTasks": 0,
          "numSkippedStages": 0,
          "numSkippedTasks": 0,
          "numTasks": 1,
          "rowCount": 0,
          "stageIds": [
           1039
          ],
          "status": "SUCCEEDED",
          "submissionTime": "2023-08-03T23:33:08.222GMT",
          "usageDescription": ""
         },
         {
          "completionTime": "2023-08-03T23:33:07.917GMT",
          "dataRead": 0,
          "dataWritten": 0,
          "description": "Job group for statement 27:\nwith mlflow.start_run(run_name=\"lr\"):\n    models = crossval.fit(train_df)\n    best_metrics = {k: 0 for k in evaluator_metrics}\n    best_index = 0\n    for idx, model in enumerate(models.subModels[0]):\n        with mlflow.start_run(nested=True, run_name=f\"lr_{idx}\") as run:\n            print(\"\nEvaluating on testing data:\")\n            print(f\"subModel No. {idx + 1}\")\n            prediction, log_metric = evaluate(model, test_df)\n\n            if log_metric[evaluator_metrics[0]] > best_metrics[evaluator_metrics[0]]:\n                best_metrics = log_metric\n                best_index = idx\n\n            print(\"log model\")\n            mlflow.spark.log_model(\n                model,\n                f\"{EXPERIMENT_NAME}-lrmodel\",\n                registered_model_name=f\"{EXPERIMENT_NAME}-lrmodel\",\n                dfs_tmpdir=\"Files/spark\",\n            )\n\n            print(\"log metrics\")\n            mlflow.log_metrics(log_metric)\n\n            print(\"log parameters\")\n            mlflow.log_params(\n                {\n       ...",
          "displayName": "runJob at SparkHadoopWriter.scala:85",
          "jobGroup": "27",
          "jobId": 347,
          "killedTasksSummary": {},
          "name": "runJob at SparkHadoopWriter.scala:85",
          "numActiveStages": 0,
          "numActiveTasks": 0,
          "numCompletedIndices": 1,
          "numCompletedStages": 1,
          "numCompletedTasks": 1,
          "numFailedStages": 0,
          "numFailedTasks": 0,
          "numKilledTasks": 0,
          "numSkippedStages": 0,
          "numSkippedTasks": 0,
          "numTasks": 1,
          "rowCount": 0,
          "stageIds": [
           1038
          ],
          "status": "SUCCEEDED",
          "submissionTime": "2023-08-03T23:33:07.635GMT",
          "usageDescription": ""
         },
         {
          "completionTime": "2023-08-03T23:33:07.318GMT",
          "dataRead": 0,
          "dataWritten": 0,
          "description": "Job group for statement 27:\nwith mlflow.start_run(run_name=\"lr\"):\n    models = crossval.fit(train_df)\n    best_metrics = {k: 0 for k in evaluator_metrics}\n    best_index = 0\n    for idx, model in enumerate(models.subModels[0]):\n        with mlflow.start_run(nested=True, run_name=f\"lr_{idx}\") as run:\n            print(\"\nEvaluating on testing data:\")\n            print(f\"subModel No. {idx + 1}\")\n            prediction, log_metric = evaluate(model, test_df)\n\n            if log_metric[evaluator_metrics[0]] > best_metrics[evaluator_metrics[0]]:\n                best_metrics = log_metric\n                best_index = idx\n\n            print(\"log model\")\n            mlflow.spark.log_model(\n                model,\n                f\"{EXPERIMENT_NAME}-lrmodel\",\n                registered_model_name=f\"{EXPERIMENT_NAME}-lrmodel\",\n                dfs_tmpdir=\"Files/spark\",\n            )\n\n            print(\"log metrics\")\n            mlflow.log_metrics(log_metric)\n\n            print(\"log parameters\")\n            mlflow.log_params(\n                {\n       ...",
          "displayName": "runJob at SparkHadoopWriter.scala:85",
          "jobGroup": "27",
          "jobId": 346,
          "killedTasksSummary": {},
          "name": "runJob at SparkHadoopWriter.scala:85",
          "numActiveStages": 0,
          "numActiveTasks": 0,
          "numCompletedIndices": 1,
          "numCompletedStages": 1,
          "numCompletedTasks": 1,
          "numFailedStages": 0,
          "numFailedTasks": 0,
          "numKilledTasks": 0,
          "numSkippedStages": 0,
          "numSkippedTasks": 0,
          "numTasks": 1,
          "rowCount": 0,
          "stageIds": [
           1037
          ],
          "status": "SUCCEEDED",
          "submissionTime": "2023-08-03T23:33:07.013GMT",
          "usageDescription": ""
         },
         {
          "completionTime": "2023-08-03T23:33:06.517GMT",
          "dataRead": 0,
          "dataWritten": 0,
          "description": "Job group for statement 27:\nwith mlflow.start_run(run_name=\"lr\"):\n    models = crossval.fit(train_df)\n    best_metrics = {k: 0 for k in evaluator_metrics}\n    best_index = 0\n    for idx, model in enumerate(models.subModels[0]):\n        with mlflow.start_run(nested=True, run_name=f\"lr_{idx}\") as run:\n            print(\"\nEvaluating on testing data:\")\n            print(f\"subModel No. {idx + 1}\")\n            prediction, log_metric = evaluate(model, test_df)\n\n            if log_metric[evaluator_metrics[0]] > best_metrics[evaluator_metrics[0]]:\n                best_metrics = log_metric\n                best_index = idx\n\n            print(\"log model\")\n            mlflow.spark.log_model(\n                model,\n                f\"{EXPERIMENT_NAME}-lrmodel\",\n                registered_model_name=f\"{EXPERIMENT_NAME}-lrmodel\",\n                dfs_tmpdir=\"Files/spark\",\n            )\n\n            print(\"log metrics\")\n            mlflow.log_metrics(log_metric)\n\n            print(\"log parameters\")\n            mlflow.log_params(\n                {\n       ...",
          "displayName": "collect at AreaUnderCurve.scala:44",
          "jobGroup": "27",
          "jobId": 345,
          "killedTasksSummary": {},
          "name": "collect at AreaUnderCurve.scala:44",
          "numActiveStages": 0,
          "numActiveTasks": 0,
          "numCompletedIndices": 200,
          "numCompletedStages": 1,
          "numCompletedTasks": 200,
          "numFailedStages": 0,
          "numFailedTasks": 0,
          "numKilledTasks": 0,
          "numSkippedStages": 3,
          "numSkippedTasks": 405,
          "numTasks": 605,
          "rowCount": 0,
          "stageIds": [
           1035,
           1036,
           1033,
           1034
          ],
          "status": "SUCCEEDED",
          "submissionTime": "2023-08-03T23:33:06.213GMT",
          "usageDescription": ""
         },
         {
          "completionTime": "2023-08-03T23:33:06.206GMT",
          "dataRead": 0,
          "dataWritten": 0,
          "description": "Job group for statement 27:\nwith mlflow.start_run(run_name=\"lr\"):\n    models = crossval.fit(train_df)\n    best_metrics = {k: 0 for k in evaluator_metrics}\n    best_index = 0\n    for idx, model in enumerate(models.subModels[0]):\n        with mlflow.start_run(nested=True, run_name=f\"lr_{idx}\") as run:\n            print(\"\nEvaluating on testing data:\")\n            print(f\"subModel No. {idx + 1}\")\n            prediction, log_metric = evaluate(model, test_df)\n\n            if log_metric[evaluator_metrics[0]] > best_metrics[evaluator_metrics[0]]:\n                best_metrics = log_metric\n                best_index = idx\n\n            print(\"log model\")\n            mlflow.spark.log_model(\n                model,\n                f\"{EXPERIMENT_NAME}-lrmodel\",\n                registered_model_name=f\"{EXPERIMENT_NAME}-lrmodel\",\n                dfs_tmpdir=\"Files/spark\",\n            )\n\n            print(\"log metrics\")\n            mlflow.log_metrics(log_metric)\n\n            print(\"log parameters\")\n            mlflow.log_params(\n                {\n       ...",
          "displayName": "first at BinaryClassificationMetrics.scala:135",
          "jobGroup": "27",
          "jobId": 344,
          "killedTasksSummary": {},
          "name": "first at BinaryClassificationMetrics.scala:135",
          "numActiveStages": 0,
          "numActiveTasks": 0,
          "numCompletedIndices": 1,
          "numCompletedStages": 1,
          "numCompletedTasks": 1,
          "numFailedStages": 0,
          "numFailedTasks": 0,
          "numKilledTasks": 0,
          "numSkippedStages": 3,
          "numSkippedTasks": 405,
          "numTasks": 406,
          "rowCount": 0,
          "stageIds": [
           1032,
           1029,
           1030,
           1031
          ],
          "status": "SUCCEEDED",
          "submissionTime": "2023-08-03T23:33:06.192GMT",
          "usageDescription": ""
         },
         {
          "completionTime": "2023-08-03T23:33:06.183GMT",
          "dataRead": 0,
          "dataWritten": 0,
          "description": "Job group for statement 27:\nwith mlflow.start_run(run_name=\"lr\"):\n    models = crossval.fit(train_df)\n    best_metrics = {k: 0 for k in evaluator_metrics}\n    best_index = 0\n    for idx, model in enumerate(models.subModels[0]):\n        with mlflow.start_run(nested=True, run_name=f\"lr_{idx}\") as run:\n            print(\"\nEvaluating on testing data:\")\n            print(f\"subModel No. {idx + 1}\")\n            prediction, log_metric = evaluate(model, test_df)\n\n            if log_metric[evaluator_metrics[0]] > best_metrics[evaluator_metrics[0]]:\n                best_metrics = log_metric\n                best_index = idx\n\n            print(\"log model\")\n            mlflow.spark.log_model(\n                model,\n                f\"{EXPERIMENT_NAME}-lrmodel\",\n                registered_model_name=f\"{EXPERIMENT_NAME}-lrmodel\",\n                dfs_tmpdir=\"Files/spark\",\n            )\n\n            print(\"log metrics\")\n            mlflow.log_metrics(log_metric)\n\n            print(\"log parameters\")\n            mlflow.log_params(\n                {\n       ...",
          "displayName": "collect at BinaryClassificationMetrics.scala:237",
          "jobGroup": "27",
          "jobId": 343,
          "killedTasksSummary": {},
          "name": "collect at BinaryClassificationMetrics.scala:237",
          "numActiveStages": 0,
          "numActiveTasks": 0,
          "numCompletedIndices": 200,
          "numCompletedStages": 1,
          "numCompletedTasks": 200,
          "numFailedStages": 0,
          "numFailedTasks": 0,
          "numKilledTasks": 0,
          "numSkippedStages": 3,
          "numSkippedTasks": 405,
          "numTasks": 605,
          "rowCount": 0,
          "stageIds": [
           1025,
           1026,
           1027,
           1028
          ],
          "status": "SUCCEEDED",
          "submissionTime": "2023-08-03T23:33:05.950GMT",
          "usageDescription": ""
         },
         {
          "completionTime": "2023-08-03T23:33:05.943GMT",
          "dataRead": 0,
          "dataWritten": 0,
          "description": "Job group for statement 27:\nwith mlflow.start_run(run_name=\"lr\"):\n    models = crossval.fit(train_df)\n    best_metrics = {k: 0 for k in evaluator_metrics}\n    best_index = 0\n    for idx, model in enumerate(models.subModels[0]):\n        with mlflow.start_run(nested=True, run_name=f\"lr_{idx}\") as run:\n            print(\"\nEvaluating on testing data:\")\n            print(f\"subModel No. {idx + 1}\")\n            prediction, log_metric = evaluate(model, test_df)\n\n            if log_metric[evaluator_metrics[0]] > best_metrics[evaluator_metrics[0]]:\n                best_metrics = log_metric\n                best_index = idx\n\n            print(\"log model\")\n            mlflow.spark.log_model(\n                model,\n                f\"{EXPERIMENT_NAME}-lrmodel\",\n                registered_model_name=f\"{EXPERIMENT_NAME}-lrmodel\",\n                dfs_tmpdir=\"Files/spark\",\n            )\n\n            print(\"log metrics\")\n            mlflow.log_metrics(log_metric)\n\n            print(\"log parameters\")\n            mlflow.log_params(\n                {\n       ...",
          "displayName": "count at BinaryClassificationMetrics.scala:197",
          "jobGroup": "27",
          "jobId": 342,
          "killedTasksSummary": {},
          "name": "count at BinaryClassificationMetrics.scala:197",
          "numActiveStages": 0,
          "numActiveTasks": 0,
          "numCompletedIndices": 400,
          "numCompletedStages": 2,
          "numCompletedTasks": 400,
          "numFailedStages": 0,
          "numFailedTasks": 0,
          "numKilledTasks": 0,
          "numSkippedStages": 2,
          "numSkippedTasks": 205,
          "numTasks": 605,
          "rowCount": 0,
          "stageIds": [
           1021,
           1022,
           1023,
           1024
          ],
          "status": "SUCCEEDED",
          "submissionTime": "2023-08-03T23:33:05.367GMT",
          "usageDescription": ""
         },
         {
          "completionTime": "2023-08-03T23:33:05.360GMT",
          "dataRead": 0,
          "dataWritten": 0,
          "description": "Job group for statement 27:\nwith mlflow.start_run(run_name=\"lr\"):\n    models = crossval.fit(train_df)\n    best_metrics = {k: 0 for k in evaluator_metrics}\n    best_index = 0\n    for idx, model in enumerate(models.subModels[0]):\n        with mlflow.start_run(nested=True, run_name=f\"lr_{idx}\") as run:\n            print(\"\nEvaluating on testing data:\")\n            print(f\"subModel No. {idx + 1}\")\n            prediction, log_metric = evaluate(model, test_df)\n\n            if log_metric[evaluator_metrics[0]] > best_metrics[evaluator_metrics[0]]:\n                best_metrics = log_metric\n                best_index = idx\n\n            print(\"log model\")\n            mlflow.spark.log_model(\n                model,\n                f\"{EXPERIMENT_NAME}-lrmodel\",\n                registered_model_name=f\"{EXPERIMENT_NAME}-lrmodel\",\n                dfs_tmpdir=\"Files/spark\",\n            )\n\n            print(\"log metrics\")\n            mlflow.log_metrics(log_metric)\n\n            print(\"log parameters\")\n            mlflow.log_params(\n                {\n       ...",
          "displayName": "sortByKey at BinaryClassificationMetrics.scala:189",
          "jobGroup": "27",
          "jobId": 341,
          "killedTasksSummary": {},
          "name": "sortByKey at BinaryClassificationMetrics.scala:189",
          "numActiveStages": 0,
          "numActiveTasks": 0,
          "numCompletedIndices": 400,
          "numCompletedStages": 2,
          "numCompletedTasks": 400,
          "numFailedStages": 0,
          "numFailedTasks": 0,
          "numKilledTasks": 0,
          "numSkippedStages": 1,
          "numSkippedTasks": 5,
          "numTasks": 405,
          "rowCount": 0,
          "stageIds": [
           1018,
           1019,
           1020
          ],
          "status": "SUCCEEDED",
          "submissionTime": "2023-08-03T23:33:04.149GMT",
          "usageDescription": ""
         },
         {
          "completionTime": "2023-08-03T23:33:04.054GMT",
          "dataRead": 0,
          "dataWritten": 0,
          "description": "Job group for statement 27:\nwith mlflow.start_run(run_name=\"lr\"):\n    models = crossval.fit(train_df)\n    best_metrics = {k: 0 for k in evaluator_metrics}\n    best_index = 0\n    for idx, model in enumerate(models.subModels[0]):\n        with mlflow.start_run(nested=True, run_name=f\"lr_{idx}\") as run:\n            print(\"\nEvaluating on testing data:\")\n            print(f\"subModel No. {idx + 1}\")\n            prediction, log_metric = evaluate(model, test_df)\n\n            if log_metric[evaluator_metrics[0]] > best_metrics[evaluator_metrics[0]]:\n                best_metrics = log_metric\n                best_index = idx\n\n            print(\"log model\")\n            mlflow.spark.log_model(\n                model,\n                f\"{EXPERIMENT_NAME}-lrmodel\",\n                registered_model_name=f\"{EXPERIMENT_NAME}-lrmodel\",\n                dfs_tmpdir=\"Files/spark\",\n            )\n\n            print(\"log metrics\")\n            mlflow.log_metrics(log_metric)\n\n            print(\"log parameters\")\n            mlflow.log_params(\n                {\n       ...",
          "displayName": "rdd at BinaryClassificationEvaluator.scala:133",
          "jobGroup": "27",
          "jobId": 339,
          "killedTasksSummary": {},
          "name": "rdd at BinaryClassificationEvaluator.scala:133",
          "numActiveStages": 0,
          "numActiveTasks": 0,
          "numCompletedIndices": 200,
          "numCompletedStages": 1,
          "numCompletedTasks": 200,
          "numFailedStages": 0,
          "numFailedTasks": 0,
          "numKilledTasks": 0,
          "numSkippedStages": 1,
          "numSkippedTasks": 5,
          "numTasks": 205,
          "rowCount": 0,
          "stageIds": [
           1014,
           1013
          ],
          "status": "SUCCEEDED",
          "submissionTime": "2023-08-03T23:33:03.510GMT",
          "usageDescription": ""
         },
         {
          "completionTime": "2023-08-03T23:33:03.459GMT",
          "dataRead": 0,
          "dataWritten": 0,
          "description": "Job group for statement 27:\nwith mlflow.start_run(run_name=\"lr\"):\n    models = crossval.fit(train_df)\n    best_metrics = {k: 0 for k in evaluator_metrics}\n    best_index = 0\n    for idx, model in enumerate(models.subModels[0]):\n        with mlflow.start_run(nested=True, run_name=f\"lr_{idx}\") as run:\n            print(\"\nEvaluating on testing data:\")\n            print(f\"subModel No. {idx + 1}\")\n            prediction, log_metric = evaluate(model, test_df)\n\n            if log_metric[evaluator_metrics[0]] > best_metrics[evaluator_metrics[0]]:\n                best_metrics = log_metric\n                best_index = idx\n\n            print(\"log model\")\n            mlflow.spark.log_model(\n                model,\n                f\"{EXPERIMENT_NAME}-lrmodel\",\n                registered_model_name=f\"{EXPERIMENT_NAME}-lrmodel\",\n                dfs_tmpdir=\"Files/spark\",\n            )\n\n            print(\"log metrics\")\n            mlflow.log_metrics(log_metric)\n\n            print(\"log parameters\")\n            mlflow.log_params(\n                {\n       ...",
          "displayName": "collect at AreaUnderCurve.scala:44",
          "jobGroup": "27",
          "jobId": 338,
          "killedTasksSummary": {},
          "name": "collect at AreaUnderCurve.scala:44",
          "numActiveStages": 0,
          "numActiveTasks": 0,
          "numCompletedIndices": 200,
          "numCompletedStages": 1,
          "numCompletedTasks": 200,
          "numFailedStages": 0,
          "numFailedTasks": 0,
          "numKilledTasks": 0,
          "numSkippedStages": 3,
          "numSkippedTasks": 405,
          "numTasks": 605,
          "rowCount": 0,
          "stageIds": [
           1011,
           1012,
           1009,
           1010
          ],
          "status": "SUCCEEDED",
          "submissionTime": "2023-08-03T23:33:03.123GMT",
          "usageDescription": ""
         },
         {
          "completionTime": "2023-08-03T23:33:03.115GMT",
          "dataRead": 0,
          "dataWritten": 0,
          "description": "Job group for statement 27:\nwith mlflow.start_run(run_name=\"lr\"):\n    models = crossval.fit(train_df)\n    best_metrics = {k: 0 for k in evaluator_metrics}\n    best_index = 0\n    for idx, model in enumerate(models.subModels[0]):\n        with mlflow.start_run(nested=True, run_name=f\"lr_{idx}\") as run:\n            print(\"\nEvaluating on testing data:\")\n            print(f\"subModel No. {idx + 1}\")\n            prediction, log_metric = evaluate(model, test_df)\n\n            if log_metric[evaluator_metrics[0]] > best_metrics[evaluator_metrics[0]]:\n                best_metrics = log_metric\n                best_index = idx\n\n            print(\"log model\")\n            mlflow.spark.log_model(\n                model,\n                f\"{EXPERIMENT_NAME}-lrmodel\",\n                registered_model_name=f\"{EXPERIMENT_NAME}-lrmodel\",\n                dfs_tmpdir=\"Files/spark\",\n            )\n\n            print(\"log metrics\")\n            mlflow.log_metrics(log_metric)\n\n            print(\"log parameters\")\n            mlflow.log_params(\n                {\n       ...",
          "displayName": "collect at BinaryClassificationMetrics.scala:237",
          "jobGroup": "27",
          "jobId": 337,
          "killedTasksSummary": {},
          "name": "collect at BinaryClassificationMetrics.scala:237",
          "numActiveStages": 0,
          "numActiveTasks": 0,
          "numCompletedIndices": 200,
          "numCompletedStages": 1,
          "numCompletedTasks": 200,
          "numFailedStages": 0,
          "numFailedTasks": 0,
          "numKilledTasks": 0,
          "numSkippedStages": 3,
          "numSkippedTasks": 405,
          "numTasks": 605,
          "rowCount": 0,
          "stageIds": [
           1007,
           1008,
           1005,
           1006
          ],
          "status": "SUCCEEDED",
          "submissionTime": "2023-08-03T23:33:02.910GMT",
          "usageDescription": ""
         },
         {
          "completionTime": "2023-08-03T23:33:02.904GMT",
          "dataRead": 0,
          "dataWritten": 0,
          "description": "Job group for statement 27:\nwith mlflow.start_run(run_name=\"lr\"):\n    models = crossval.fit(train_df)\n    best_metrics = {k: 0 for k in evaluator_metrics}\n    best_index = 0\n    for idx, model in enumerate(models.subModels[0]):\n        with mlflow.start_run(nested=True, run_name=f\"lr_{idx}\") as run:\n            print(\"\nEvaluating on testing data:\")\n            print(f\"subModel No. {idx + 1}\")\n            prediction, log_metric = evaluate(model, test_df)\n\n            if log_metric[evaluator_metrics[0]] > best_metrics[evaluator_metrics[0]]:\n                best_metrics = log_metric\n                best_index = idx\n\n            print(\"log model\")\n            mlflow.spark.log_model(\n                model,\n                f\"{EXPERIMENT_NAME}-lrmodel\",\n                registered_model_name=f\"{EXPERIMENT_NAME}-lrmodel\",\n                dfs_tmpdir=\"Files/spark\",\n            )\n\n            print(\"log metrics\")\n            mlflow.log_metrics(log_metric)\n\n            print(\"log parameters\")\n            mlflow.log_params(\n                {\n       ...",
          "displayName": "count at BinaryClassificationMetrics.scala:197",
          "jobGroup": "27",
          "jobId": 336,
          "killedTasksSummary": {},
          "name": "count at BinaryClassificationMetrics.scala:197",
          "numActiveStages": 0,
          "numActiveTasks": 0,
          "numCompletedIndices": 400,
          "numCompletedStages": 2,
          "numCompletedTasks": 400,
          "numFailedStages": 0,
          "numFailedTasks": 0,
          "numKilledTasks": 0,
          "numSkippedStages": 2,
          "numSkippedTasks": 205,
          "numTasks": 605,
          "rowCount": 0,
          "stageIds": [
           1002,
           1003,
           1004,
           1001
          ],
          "status": "SUCCEEDED",
          "submissionTime": "2023-08-03T23:33:02.288GMT",
          "usageDescription": ""
         },
         {
          "completionTime": "2023-08-03T23:33:02.282GMT",
          "dataRead": 0,
          "dataWritten": 0,
          "description": "Job group for statement 27:\nwith mlflow.start_run(run_name=\"lr\"):\n    models = crossval.fit(train_df)\n    best_metrics = {k: 0 for k in evaluator_metrics}\n    best_index = 0\n    for idx, model in enumerate(models.subModels[0]):\n        with mlflow.start_run(nested=True, run_name=f\"lr_{idx}\") as run:\n            print(\"\nEvaluating on testing data:\")\n            print(f\"subModel No. {idx + 1}\")\n            prediction, log_metric = evaluate(model, test_df)\n\n            if log_metric[evaluator_metrics[0]] > best_metrics[evaluator_metrics[0]]:\n                best_metrics = log_metric\n                best_index = idx\n\n            print(\"log model\")\n            mlflow.spark.log_model(\n                model,\n                f\"{EXPERIMENT_NAME}-lrmodel\",\n                registered_model_name=f\"{EXPERIMENT_NAME}-lrmodel\",\n                dfs_tmpdir=\"Files/spark\",\n            )\n\n            print(\"log metrics\")\n            mlflow.log_metrics(log_metric)\n\n            print(\"log parameters\")\n            mlflow.log_params(\n                {\n       ...",
          "displayName": "sortByKey at BinaryClassificationMetrics.scala:189",
          "jobGroup": "27",
          "jobId": 335,
          "killedTasksSummary": {},
          "name": "sortByKey at BinaryClassificationMetrics.scala:189",
          "numActiveStages": 0,
          "numActiveTasks": 0,
          "numCompletedIndices": 400,
          "numCompletedStages": 2,
          "numCompletedTasks": 400,
          "numFailedStages": 0,
          "numFailedTasks": 0,
          "numKilledTasks": 0,
          "numSkippedStages": 1,
          "numSkippedTasks": 5,
          "numTasks": 405,
          "rowCount": 0,
          "stageIds": [
           999,
           1000,
           998
          ],
          "status": "SUCCEEDED",
          "submissionTime": "2023-08-03T23:33:01.331GMT",
          "usageDescription": ""
         },
         {
          "completionTime": "2023-08-03T23:33:01.245GMT",
          "dataRead": 0,
          "dataWritten": 0,
          "description": "Job group for statement 27:\nwith mlflow.start_run(run_name=\"lr\"):\n    models = crossval.fit(train_df)\n    best_metrics = {k: 0 for k in evaluator_metrics}\n    best_index = 0\n    for idx, model in enumerate(models.subModels[0]):\n        with mlflow.start_run(nested=True, run_name=f\"lr_{idx}\") as run:\n            print(\"\nEvaluating on testing data:\")\n            print(f\"subModel No. {idx + 1}\")\n            prediction, log_metric = evaluate(model, test_df)\n\n            if log_metric[evaluator_metrics[0]] > best_metrics[evaluator_metrics[0]]:\n                best_metrics = log_metric\n                best_index = idx\n\n            print(\"log model\")\n            mlflow.spark.log_model(\n                model,\n                f\"{EXPERIMENT_NAME}-lrmodel\",\n                registered_model_name=f\"{EXPERIMENT_NAME}-lrmodel\",\n                dfs_tmpdir=\"Files/spark\",\n            )\n\n            print(\"log metrics\")\n            mlflow.log_metrics(log_metric)\n\n            print(\"log parameters\")\n            mlflow.log_params(\n                {\n       ...",
          "displayName": "rdd at BinaryClassificationEvaluator.scala:133",
          "jobGroup": "27",
          "jobId": 333,
          "killedTasksSummary": {},
          "name": "rdd at BinaryClassificationEvaluator.scala:133",
          "numActiveStages": 0,
          "numActiveTasks": 0,
          "numCompletedIndices": 200,
          "numCompletedStages": 1,
          "numCompletedTasks": 200,
          "numFailedStages": 0,
          "numFailedTasks": 0,
          "numKilledTasks": 0,
          "numSkippedStages": 1,
          "numSkippedTasks": 5,
          "numTasks": 205,
          "rowCount": 0,
          "stageIds": [
           993,
           994
          ],
          "status": "SUCCEEDED",
          "submissionTime": "2023-08-03T23:33:00.871GMT",
          "usageDescription": ""
         },
         {
          "completionTime": "2023-08-03T23:32:49.644GMT",
          "dataRead": 0,
          "dataWritten": 0,
          "description": "Job group for statement 27:\nwith mlflow.start_run(run_name=\"lr\"):\n    models = crossval.fit(train_df)\n    best_metrics = {k: 0 for k in evaluator_metrics}\n    best_index = 0\n    for idx, model in enumerate(models.subModels[0]):\n        with mlflow.start_run(nested=True, run_name=f\"lr_{idx}\") as run:\n            print(\"\nEvaluating on testing data:\")\n            print(f\"subModel No. {idx + 1}\")\n            prediction, log_metric = evaluate(model, test_df)\n\n            if log_metric[evaluator_metrics[0]] > best_metrics[evaluator_metrics[0]]:\n                best_metrics = log_metric\n                best_index = idx\n\n            print(\"log model\")\n            mlflow.spark.log_model(\n                model,\n                f\"{EXPERIMENT_NAME}-lrmodel\",\n                registered_model_name=f\"{EXPERIMENT_NAME}-lrmodel\",\n                dfs_tmpdir=\"Files/spark\",\n            )\n\n            print(\"log metrics\")\n            mlflow.log_metrics(log_metric)\n\n            print(\"log parameters\")\n            mlflow.log_params(\n                {\n       ...",
          "displayName": "parquet at LogisticRegression.scala:1321",
          "jobGroup": "27",
          "jobId": 332,
          "killedTasksSummary": {},
          "name": "parquet at LogisticRegression.scala:1321",
          "numActiveStages": 0,
          "numActiveTasks": 0,
          "numCompletedIndices": 1,
          "numCompletedStages": 1,
          "numCompletedTasks": 1,
          "numFailedStages": 0,
          "numFailedTasks": 0,
          "numKilledTasks": 0,
          "numSkippedStages": 1,
          "numSkippedTasks": 1,
          "numTasks": 2,
          "rowCount": 0,
          "stageIds": [
           991,
           992
          ],
          "status": "SUCCEEDED",
          "submissionTime": "2023-08-03T23:32:49.254GMT",
          "usageDescription": ""
         }
        ],
        "limit": 20,
        "numbers": {
         "FAILED": 0,
         "RUNNING": 0,
         "SUCCEEDED": 221,
         "UNKNOWN": 0
        },
        "rule": "ALL_DESC"
       },
       "spark_pool": null,
       "state": "finished",
       "statement_id": 27
      },
      "text/plain": [
       "StatementMeta(, b868b727-3e52-4d09-a1fe-24b4a84b4a17, 27, Finished, Available)"
      ]
     },
     "metadata": {},
     "output_type": "display_data"
    },
    {
     "name": "stdout",
     "output_type": "stream",
     "text": [
      "\n",
      "Evaluating on testing data:\n",
      "subModel No. 1\n",
      "areaUnderROC: 0.7782\n",
      "areaUnderPR: 0.7503\n",
      "log model\n",
      "log metrics\n",
      "log parameters\n",
      "\n",
      "Evaluating on testing data:\n",
      "subModel No. 2\n",
      "areaUnderROC: 0.7518\n",
      "areaUnderPR: 0.6763\n",
      "log model\n",
      "log metrics\n",
      "log parameters\n",
      "\n",
      "Evaluating on testing data:\n",
      "subModel No. 3\n",
      "areaUnderROC: 0.7613\n",
      "areaUnderPR: 0.7054\n",
      "log model\n",
      "log metrics\n",
      "log parameters\n",
      "\n",
      "Evaluating on testing data:\n",
      "subModel No. 4\n",
      "areaUnderROC: 0.7449\n",
      "areaUnderPR: 0.6729\n",
      "log model\n",
      "log metrics\n",
      "log parameters\n"
     ]
    },
    {
     "name": "stderr",
     "output_type": "stream",
     "text": [
      "2023/08/03 23:32:15 WARNING mlflow.utils.environment: Encountered an unexpected error while inferring pip requirements (model URI: /tmp/tmpte3z2f_i/model, flavor: spark), fall back to return ['pyspark==3.3.1']. Set logging level to DEBUG to see the full traceback.\n",
      "/home/trusted-service-user/cluster-env/trident_env/lib/python3.10/site-packages/_distutils_hack/__init__.py:33: UserWarning: Setuptools is replacing distutils.\n",
      "  warnings.warn(\"Setuptools is replacing distutils.\")\n",
      "Successfully registered model 'aisample-textclassification-lrmodel'.\n",
      "2023/08/03 23:32:22 INFO mlflow.tracking._model_registry.client: Waiting up to 300 seconds for model version to finish creation.                     Model name: aisample-textclassification-lrmodel, version 11\n",
      "Created version '11' of model 'aisample-textclassification-lrmodel'.\n",
      "2023/08/03 23:32:35 WARNING mlflow.utils.environment: Encountered an unexpected error while inferring pip requirements (model URI: /tmp/tmp14a5madn/model, flavor: spark), fall back to return ['pyspark==3.3.1']. Set logging level to DEBUG to see the full traceback.\n",
      "Successfully registered model 'aisample-textclassification-lrmodel'.\n",
      "2023/08/03 23:32:40 INFO mlflow.tracking._model_registry.client: Waiting up to 300 seconds for model version to finish creation.                     Model name: aisample-textclassification-lrmodel, version 12\n",
      "Created version '12' of model 'aisample-textclassification-lrmodel'.\n",
      "2023/08/03 23:32:52 WARNING mlflow.utils.environment: Encountered an unexpected error while inferring pip requirements (model URI: /tmp/tmpnpo2lufc/model, flavor: spark), fall back to return ['pyspark==3.3.1']. Set logging level to DEBUG to see the full traceback.\n",
      "Successfully registered model 'aisample-textclassification-lrmodel'.\n",
      "2023/08/03 23:32:59 INFO mlflow.tracking._model_registry.client: Waiting up to 300 seconds for model version to finish creation.                     Model name: aisample-textclassification-lrmodel, version 13\n",
      "Created version '13' of model 'aisample-textclassification-lrmodel'.\n",
      "2023/08/03 23:33:11 WARNING mlflow.utils.environment: Encountered an unexpected error while inferring pip requirements (model URI: /tmp/tmpf8niec55/model, flavor: spark), fall back to return ['pyspark==3.3.1']. Set logging level to DEBUG to see the full traceback.\n",
      "Successfully registered model 'aisample-textclassification-lrmodel'.\n",
      "2023/08/03 23:33:15 INFO mlflow.tracking._model_registry.client: Waiting up to 300 seconds for model version to finish creation.                     Model name: aisample-textclassification-lrmodel, version 14\n",
      "Created version '14' of model 'aisample-textclassification-lrmodel'.\n",
      "2023/08/03 23:33:20 WARNING mlflow.utils.environment: Encountered an unexpected error while inferring pip requirements (model URI: /tmp/tmpkc6mqsmt/model, flavor: spark), fall back to return ['pyspark==3.3.1']. Set logging level to DEBUG to see the full traceback.\n",
      "Successfully registered model 'aisample-textclassification-lrmodel'.\n",
      "2023/08/03 23:33:25 INFO mlflow.tracking._model_registry.client: Waiting up to 300 seconds for model version to finish creation.                     Model name: aisample-textclassification-lrmodel, version 15\n",
      "Created version '15' of model 'aisample-textclassification-lrmodel'.\n"
     ]
    }
   ],
   "source": [
    "with mlflow.start_run(run_name=\"lr\"):\n",
    "    models = crossval.fit(train_df)\n",
    "    best_metrics = {k: 0 for k in evaluator_metrics}\n",
    "    best_index = 0\n",
    "    for idx, model in enumerate(models.subModels[0]):\n",
    "        with mlflow.start_run(nested=True, run_name=f\"lr_{idx}\") as run:\n",
    "            print(\"\\nEvaluating on testing data:\")\n",
    "            print(f\"subModel No. {idx + 1}\")\n",
    "            prediction, log_metric = evaluate(model, test_df)\n",
    "\n",
    "            if log_metric[evaluator_metrics[0]] > best_metrics[evaluator_metrics[0]]:\n",
    "                best_metrics = log_metric\n",
    "                best_index = idx\n",
    "\n",
    "            print(\"log model\")\n",
    "            mlflow.spark.log_model(\n",
    "                model,\n",
    "                f\"{EXPERIMENT_NAME}-lrmodel\",\n",
    "                registered_model_name=f\"{EXPERIMENT_NAME}-lrmodel\",\n",
    "                dfs_tmpdir=\"Files/spark\",\n",
    "            )\n",
    "\n",
    "            print(\"log metrics\")\n",
    "            mlflow.log_metrics(log_metric)\n",
    "\n",
    "            print(\"log parameters\")\n",
    "            mlflow.log_params(\n",
    "                {\n",
    "                    \"word2vec_size\": word2vec_size,\n",
    "                    \"min_word_count\": min_word_count,\n",
    "                    \"max_iter\": max_iter,\n",
    "                    \"k_folds\": k_folds,\n",
    "                    \"DATA_FILE\": DATA_FILE,\n",
    "                }\n",
    "            )\n",
    "\n",
    "    # Log the best model and its relevant metrics and parameters to the parent run\n",
    "    mlflow.spark.log_model(\n",
    "        models.subModels[0][best_index],\n",
    "        f\"{EXPERIMENT_NAME}-lrmodel\",\n",
    "        registered_model_name=f\"{EXPERIMENT_NAME}-lrmodel\",\n",
    "        dfs_tmpdir=\"Files/spark\",\n",
    "    )\n",
    "    mlflow.log_metrics(best_metrics)\n",
    "    mlflow.log_params(\n",
    "        {\n",
    "            \"word2vec_size\": word2vec_size,\n",
    "            \"min_word_count\": min_word_count,\n",
    "            \"max_iter\": max_iter,\n",
    "            \"k_folds\": k_folds,\n",
    "            \"DATA_FILE\": DATA_FILE,\n",
    "        }\n",
    "    )\n"
   ]
  },
  {
   "cell_type": "markdown",
   "id": "b844ae7f-75e6-4400-b3f0-d7c98d269d47",
   "metadata": {
    "nteract": {
     "transient": {
      "deleting": false
     }
    }
   },
   "source": [
    "<img src=\"https://synapseaisolutionsa.blob.core.windows.net/public/Title_Genre_Classification/TextClassification-experiment.png\"  width=\"70%\" height=\"30%\">"
   ]
  },
  {
   "cell_type": "markdown",
   "id": "e750447c-d236-48e8-ba33-de996ff5ca03",
   "metadata": {
    "nteract": {
     "transient": {
      "deleting": false
     }
    }
   },
   "source": [
    "## Step 5: Save Prediction Results"
   ]
  },
  {
   "cell_type": "markdown",
   "id": "a53973b2-0cfb-4c18-956c-142b54d4daf6",
   "metadata": {
    "nteract": {
     "transient": {
      "deleting": false
     }
    }
   },
   "source": [
    "Microsoft Fabric offers a scalable function called PREDICT that supports batch scoring in any compute engine and enables customers to operationalize machine learning models. Users can create batch predictions straight from a notebook or the item page for a particular model. Learn more [here](https://aka.ms/fabric-predict) about PREDICT and how to utilize it in Microsoft Fabric.\n",
    "\n",
    "From the above evaluation results, we can see that model 1 has the largest Area Under the Precision-Recall Curve (AUPRC) and Area Under the Curve Receiver Operating Characteristic (AUC-ROC) metrics. Thus we should use model 1 for prediction.\n",
    "\n",
    "Note that AUC-ROC measure is widely used to assess the performance of binary classifiers. However, sometimes, it is more appropriate to evaluate the classifier based on measuring AUPRC. AUC-ROC is a chart that visualizes the trade-off between true positive rate (TPR) and false positive rate (FPR) whereas AUPRC is a curve that combines precision (PPV) and Recall (TPR) in a single visualization.\n"
   ]
  },
  {
   "cell_type": "code",
   "execution_count": null,
   "id": "5e2bb3a3-6025-4bc8-ba62-b86116261389",
   "metadata": {},
   "outputs": [
    {
     "data": {
      "application/vnd.livy.statement-meta+json": {
       "execution_finish_time": "2023-08-03T23:33:33.2625266Z",
       "execution_start_time": "2023-08-03T23:33:28.2949648Z",
       "livy_statement_state": "available",
       "parent_msg_id": "5482186f-5be8-4801-a5f1-f68423c1f235",
       "queued_time": "2023-08-03T23:28:04.5522572Z",
       "session_id": "b868b727-3e52-4d09-a1fe-24b4a84b4a17",
       "session_start_time": null,
       "spark_jobs": {
        "jobs": [
         {
          "completionTime": "2023-08-03T23:33:32.669GMT",
          "dataRead": 0,
          "dataWritten": 0,
          "description": "Job group for statement 28:\n# Load the best model\nmodel_uri = f\"models:/{EXPERIMENT_NAME}-lrmodel/1\"\nloaded_model = mlflow.spark.load_model(model_uri, dfs_tmpdir=\"Files/spark\")\n\n# Verify the loaded model\nbatch_predictions = loaded_model.transform(test_df)\nbatch_predictions.show(5)",
          "displayName": "showString at NativeMethodAccessorImpl.java:0",
          "jobGroup": "28",
          "jobId": 363,
          "killedTasksSummary": {},
          "name": "showString at NativeMethodAccessorImpl.java:0",
          "numActiveStages": 0,
          "numActiveTasks": 0,
          "numCompletedIndices": 2,
          "numCompletedStages": 1,
          "numCompletedTasks": 2,
          "numFailedStages": 0,
          "numFailedTasks": 0,
          "numKilledTasks": 0,
          "numSkippedStages": 1,
          "numSkippedTasks": 5,
          "numTasks": 7,
          "rowCount": 0,
          "stageIds": [
           1060,
           1061
          ],
          "status": "SUCCEEDED",
          "submissionTime": "2023-08-03T23:33:32.647GMT",
          "usageDescription": ""
         },
         {
          "completionTime": "2023-08-03T23:33:32.643GMT",
          "dataRead": 0,
          "dataWritten": 0,
          "description": "Job group for statement 28:\n# Load the best model\nmodel_uri = f\"models:/{EXPERIMENT_NAME}-lrmodel/1\"\nloaded_model = mlflow.spark.load_model(model_uri, dfs_tmpdir=\"Files/spark\")\n\n# Verify the loaded model\nbatch_predictions = loaded_model.transform(test_df)\nbatch_predictions.show(5)",
          "displayName": "showString at NativeMethodAccessorImpl.java:0",
          "jobGroup": "28",
          "jobId": 362,
          "killedTasksSummary": {},
          "name": "showString at NativeMethodAccessorImpl.java:0",
          "numActiveStages": 0,
          "numActiveTasks": 0,
          "numCompletedIndices": 1,
          "numCompletedStages": 1,
          "numCompletedTasks": 1,
          "numFailedStages": 0,
          "numFailedTasks": 0,
          "numKilledTasks": 0,
          "numSkippedStages": 1,
          "numSkippedTasks": 5,
          "numTasks": 6,
          "rowCount": 0,
          "stageIds": [
           1058,
           1059
          ],
          "status": "SUCCEEDED",
          "submissionTime": "2023-08-03T23:33:32.581GMT",
          "usageDescription": ""
         },
         {
          "completionTime": "2023-08-03T23:33:32.444GMT",
          "dataRead": 0,
          "dataWritten": 0,
          "description": "Job group for statement 28:\n# Load the best model\nmodel_uri = f\"models:/{EXPERIMENT_NAME}-lrmodel/1\"\nloaded_model = mlflow.spark.load_model(model_uri, dfs_tmpdir=\"Files/spark\")\n\n# Verify the loaded model\nbatch_predictions = loaded_model.transform(test_df)\nbatch_predictions.show(5)",
          "displayName": "showString at NativeMethodAccessorImpl.java:0",
          "jobGroup": "28",
          "jobId": 360,
          "killedTasksSummary": {},
          "name": "showString at NativeMethodAccessorImpl.java:0",
          "numActiveStages": 0,
          "numActiveTasks": 0,
          "numCompletedIndices": 200,
          "numCompletedStages": 1,
          "numCompletedTasks": 200,
          "numFailedStages": 0,
          "numFailedTasks": 0,
          "numKilledTasks": 0,
          "numSkippedStages": 1,
          "numSkippedTasks": 5,
          "numTasks": 205,
          "rowCount": 0,
          "stageIds": [
           1053,
           1054
          ],
          "status": "SUCCEEDED",
          "submissionTime": "2023-08-03T23:33:31.803GMT",
          "usageDescription": ""
         },
         {
          "completionTime": "2023-08-03T23:33:31.705GMT",
          "dataRead": 0,
          "dataWritten": 0,
          "description": "Job group for statement 28:\n# Load the best model\nmodel_uri = f\"models:/{EXPERIMENT_NAME}-lrmodel/1\"\nloaded_model = mlflow.spark.load_model(model_uri, dfs_tmpdir=\"Files/spark\")\n\n# Verify the loaded model\nbatch_predictions = loaded_model.transform(test_df)\nbatch_predictions.show(5)",
          "displayName": "head at LogisticRegression.scala:1353",
          "jobGroup": "28",
          "jobId": 359,
          "killedTasksSummary": {},
          "name": "head at LogisticRegression.scala:1353",
          "numActiveStages": 0,
          "numActiveTasks": 0,
          "numCompletedIndices": 1,
          "numCompletedStages": 1,
          "numCompletedTasks": 1,
          "numFailedStages": 0,
          "numFailedTasks": 0,
          "numKilledTasks": 0,
          "numSkippedStages": 0,
          "numSkippedTasks": 0,
          "numTasks": 1,
          "rowCount": 0,
          "stageIds": [
           1052
          ],
          "status": "SUCCEEDED",
          "submissionTime": "2023-08-03T23:33:31.536GMT",
          "usageDescription": ""
         },
         {
          "completionTime": "2023-08-03T23:33:31.504GMT",
          "dataRead": 0,
          "dataWritten": 0,
          "description": "Job group for statement 28:\n# Load the best model\nmodel_uri = f\"models:/{EXPERIMENT_NAME}-lrmodel/1\"\nloaded_model = mlflow.spark.load_model(model_uri, dfs_tmpdir=\"Files/spark\")\n\n# Verify the loaded model\nbatch_predictions = loaded_model.transform(test_df)\nbatch_predictions.show(5)",
          "displayName": "load at LogisticRegression.scala:1335",
          "jobGroup": "28",
          "jobId": 358,
          "killedTasksSummary": {},
          "name": "load at LogisticRegression.scala:1335",
          "numActiveStages": 0,
          "numActiveTasks": 0,
          "numCompletedIndices": 1,
          "numCompletedStages": 1,
          "numCompletedTasks": 1,
          "numFailedStages": 0,
          "numFailedTasks": 0,
          "numKilledTasks": 0,
          "numSkippedStages": 0,
          "numSkippedTasks": 0,
          "numTasks": 1,
          "rowCount": 0,
          "stageIds": [
           1051
          ],
          "status": "SUCCEEDED",
          "submissionTime": "2023-08-03T23:33:31.394GMT",
          "usageDescription": ""
         },
         {
          "completionTime": "2023-08-03T23:33:31.278GMT",
          "dataRead": 0,
          "dataWritten": 0,
          "description": "Job group for statement 28:\n# Load the best model\nmodel_uri = f\"models:/{EXPERIMENT_NAME}-lrmodel/1\"\nloaded_model = mlflow.spark.load_model(model_uri, dfs_tmpdir=\"Files/spark\")\n\n# Verify the loaded model\nbatch_predictions = loaded_model.transform(test_df)\nbatch_predictions.show(5)",
          "displayName": "first at ReadWrite.scala:587",
          "jobGroup": "28",
          "jobId": 357,
          "killedTasksSummary": {},
          "name": "first at ReadWrite.scala:587",
          "numActiveStages": 0,
          "numActiveTasks": 0,
          "numCompletedIndices": 1,
          "numCompletedStages": 1,
          "numCompletedTasks": 1,
          "numFailedStages": 0,
          "numFailedTasks": 0,
          "numKilledTasks": 0,
          "numSkippedStages": 0,
          "numSkippedTasks": 0,
          "numTasks": 1,
          "rowCount": 0,
          "stageIds": [
           1050
          ],
          "status": "SUCCEEDED",
          "submissionTime": "2023-08-03T23:33:31.249GMT",
          "usageDescription": ""
         },
         {
          "completionTime": "2023-08-03T23:33:30.938GMT",
          "dataRead": 0,
          "dataWritten": 0,
          "description": "Job group for statement 28:\n# Load the best model\nmodel_uri = f\"models:/{EXPERIMENT_NAME}-lrmodel/1\"\nloaded_model = mlflow.spark.load_model(model_uri, dfs_tmpdir=\"Files/spark\")\n\n# Verify the loaded model\nbatch_predictions = loaded_model.transform(test_df)\nbatch_predictions.show(5)",
          "displayName": "first at ReadWrite.scala:587",
          "jobGroup": "28",
          "jobId": 356,
          "killedTasksSummary": {},
          "name": "first at ReadWrite.scala:587",
          "numActiveStages": 0,
          "numActiveTasks": 0,
          "numCompletedIndices": 1,
          "numCompletedStages": 1,
          "numCompletedTasks": 1,
          "numFailedStages": 0,
          "numFailedTasks": 0,
          "numKilledTasks": 0,
          "numSkippedStages": 0,
          "numSkippedTasks": 0,
          "numTasks": 1,
          "rowCount": 0,
          "stageIds": [
           1049
          ],
          "status": "SUCCEEDED",
          "submissionTime": "2023-08-03T23:33:30.907GMT",
          "usageDescription": ""
         },
         {
          "completionTime": "2023-08-03T23:33:30.593GMT",
          "dataRead": 0,
          "dataWritten": 0,
          "description": "Job group for statement 28:\n# Load the best model\nmodel_uri = f\"models:/{EXPERIMENT_NAME}-lrmodel/1\"\nloaded_model = mlflow.spark.load_model(model_uri, dfs_tmpdir=\"Files/spark\")\n\n# Verify the loaded model\nbatch_predictions = loaded_model.transform(test_df)\nbatch_predictions.show(5)",
          "displayName": "first at ReadWrite.scala:587",
          "jobGroup": "28",
          "jobId": 355,
          "killedTasksSummary": {},
          "name": "first at ReadWrite.scala:587",
          "numActiveStages": 0,
          "numActiveTasks": 0,
          "numCompletedIndices": 1,
          "numCompletedStages": 1,
          "numCompletedTasks": 1,
          "numFailedStages": 0,
          "numFailedTasks": 0,
          "numKilledTasks": 0,
          "numSkippedStages": 0,
          "numSkippedTasks": 0,
          "numTasks": 1,
          "rowCount": 0,
          "stageIds": [
           1048
          ],
          "status": "SUCCEEDED",
          "submissionTime": "2023-08-03T23:33:30.564GMT",
          "usageDescription": ""
         },
         {
          "completionTime": "2023-08-03T23:33:30.480GMT",
          "dataRead": 0,
          "dataWritten": 0,
          "description": "Job group for statement 28:\n# Load the best model\nmodel_uri = f\"models:/{EXPERIMENT_NAME}-lrmodel/1\"\nloaded_model = mlflow.spark.load_model(model_uri, dfs_tmpdir=\"Files/spark\")\n\n# Verify the loaded model\nbatch_predictions = loaded_model.transform(test_df)\nbatch_predictions.show(5)",
          "displayName": "runJob at PythonRDD.scala:172",
          "jobGroup": "28",
          "jobId": 354,
          "killedTasksSummary": {},
          "name": "runJob at PythonRDD.scala:172",
          "numActiveStages": 0,
          "numActiveTasks": 0,
          "numCompletedIndices": 1,
          "numCompletedStages": 1,
          "numCompletedTasks": 1,
          "numFailedStages": 0,
          "numFailedTasks": 0,
          "numKilledTasks": 0,
          "numSkippedStages": 0,
          "numSkippedTasks": 0,
          "numTasks": 1,
          "rowCount": 0,
          "stageIds": [
           1047
          ],
          "status": "SUCCEEDED",
          "submissionTime": "2023-08-03T23:33:29.795GMT",
          "usageDescription": ""
         }
        ],
        "limit": 20,
        "numbers": {
         "FAILED": 0,
         "RUNNING": 0,
         "SUCCEEDED": 9,
         "UNKNOWN": 0
        },
        "rule": "ALL_DESC"
       },
       "spark_pool": null,
       "state": "finished",
       "statement_id": 28
      },
      "text/plain": [
       "StatementMeta(, b868b727-3e52-4d09-a1fe-24b4a84b4a17, 28, Finished, Available)"
      ]
     },
     "metadata": {},
     "output_type": "display_data"
    },
    {
     "name": "stderr",
     "output_type": "stream",
     "text": [
      "2023/08/03 23:33:28 INFO mlflow.spark: 'models:/aisample-textclassification-lrmodel/1' resolved as 'abfss://d2a85142-94be-4d6a-b988-13da340ac6b3@msit-onelake.dfs.fabric.microsoft.com/d1420ade-3750-4d05-8dc1-d90a7b1a5129/59efe91a-768e-4db9-81fb-fcd6e7b56aa4/artifacts'\n",
      "2023/08/03 23:33:29 INFO mlflow.spark: File 'abfss://d2a85142-94be-4d6a-b988-13da340ac6b3@msit-onelake.dfs.fabric.microsoft.com/d1420ade-3750-4d05-8dc1-d90a7b1a5129/59efe91a-768e-4db9-81fb-fcd6e7b56aa4/artifacts/sparkml' not found on DFS. Will attempt to upload the file.\n",
      "2023/08/03 23:33:29 INFO mlflow.spark: Copied SparkML model to Files/spark/6f1ed473-eab0-4291-8839-3250e6510194\n"
     ]
    },
    {
     "name": "stdout",
     "output_type": "stream",
     "text": [
      "+--------------------+---------------+--------------------+--------+------------------+--------------------+--------------------+----------+\n",
      "|               Title|annotator_genre|            features|labelIdx|            weight|       rawPrediction|         probability|prediction|\n",
      "+--------------------+---------------+--------------------+--------+------------------+--------------------+--------------------+----------+\n",
      "|Physical, histori...|    Non-fiction|[-0.0120716071620...|     0.0|               1.0|[0.44575660024524...|[0.60962985526198...|       0.0|\n",
      "|Two Months abroad...|    Non-fiction|[-0.0063997039804...|     0.0|               1.0|[0.14065394435750...|[0.53510562905212...|       0.0|\n",
      "|Wilfred Waide, Ba...|        Fiction|[-0.0063729421235...|     1.0|2.9563218390804598|[-0.7390807942997...|[0.32320518143330...|       1.0|\n",
      "|Aemstel's Oudheid...|    Non-fiction|[-0.0238447550684...|     0.0|               1.0|[0.24510568003200...|[0.56097147763265...|       0.0|\n",
      "|Narrative of the ...|    Non-fiction|[-0.0028592177074...|     0.0|               1.0|[0.02396220756207...|[0.50599026526536...|       0.0|\n",
      "+--------------------+---------------+--------------------+--------+------------------+--------------------+--------------------+----------+\n",
      "only showing top 5 rows\n",
      "\n"
     ]
    }
   ],
   "source": [
    "# Load the best model\n",
    "model_uri = f\"models:/{EXPERIMENT_NAME}-lrmodel/1\"\n",
    "loaded_model = mlflow.spark.load_model(model_uri, dfs_tmpdir=\"Files/spark\")\n",
    "\n",
    "# Verify the loaded model\n",
    "batch_predictions = loaded_model.transform(test_df)\n",
    "batch_predictions.show(5)"
   ]
  },
  {
   "cell_type": "code",
   "execution_count": null,
   "id": "ea6119f5-f101-46be-ad3b-7ab89ac7ae3d",
   "metadata": {
    "jupyter": {
     "outputs_hidden": false,
     "source_hidden": false
    },
    "nteract": {
     "transient": {
      "deleting": false
     }
    }
   },
   "outputs": [
    {
     "data": {
      "application/vnd.livy.statement-meta+json": {
       "execution_finish_time": "2023-08-03T23:33:38.612806Z",
       "execution_start_time": "2023-08-03T23:33:33.6289578Z",
       "livy_statement_state": "available",
       "parent_msg_id": "28dd3bb2-5d4a-401f-add2-c41d66273296",
       "queued_time": "2023-08-03T23:28:04.5529653Z",
       "session_id": "b868b727-3e52-4d09-a1fe-24b4a84b4a17",
       "session_start_time": null,
       "spark_jobs": {
        "jobs": [
         {
          "completionTime": "2023-08-03T23:33:38.177GMT",
          "dataRead": 0,
          "dataWritten": 0,
          "description": "Delta: Job group for statement 29:\n# Code to save the userRecs into lakehouse\nbatch_predictions.write.format(\"delta\").mode(\"overwrite\").save(\n    f\"{DATA_FOLDER}/predictions/batch_predictions\"\n): Compute snapshot for version: 1",
          "displayName": "toString at String.java:2994",
          "jobGroup": "29",
          "jobId": 374,
          "killedTasksSummary": {},
          "name": "toString at String.java:2994",
          "numActiveStages": 0,
          "numActiveTasks": 0,
          "numCompletedIndices": 1,
          "numCompletedStages": 1,
          "numCompletedTasks": 1,
          "numFailedStages": 0,
          "numFailedTasks": 0,
          "numKilledTasks": 0,
          "numSkippedStages": 2,
          "numSkippedTasks": 52,
          "numTasks": 53,
          "rowCount": 0,
          "stageIds": [
           1083,
           1084,
           1085
          ],
          "status": "SUCCEEDED",
          "submissionTime": "2023-08-03T23:33:38.148GMT",
          "usageDescription": ""
         },
         {
          "completionTime": "2023-08-03T23:33:38.132GMT",
          "dataRead": 0,
          "dataWritten": 0,
          "description": "Delta: Job group for statement 29:\n# Code to save the userRecs into lakehouse\nbatch_predictions.write.format(\"delta\").mode(\"overwrite\").save(\n    f\"{DATA_FOLDER}/predictions/batch_predictions\"\n): Compute snapshot for version: 1",
          "displayName": "toString at String.java:2994",
          "jobGroup": "29",
          "jobId": 373,
          "killedTasksSummary": {},
          "name": "toString at String.java:2994",
          "numActiveStages": 0,
          "numActiveTasks": 0,
          "numCompletedIndices": 50,
          "numCompletedStages": 1,
          "numCompletedTasks": 50,
          "numFailedStages": 0,
          "numFailedTasks": 0,
          "numKilledTasks": 0,
          "numSkippedStages": 1,
          "numSkippedTasks": 2,
          "numTasks": 52,
          "rowCount": 0,
          "stageIds": [
           1081,
           1082
          ],
          "status": "SUCCEEDED",
          "submissionTime": "2023-08-03T23:33:37.687GMT",
          "usageDescription": ""
         },
         {
          "completionTime": "2023-08-03T23:33:37.571GMT",
          "dataRead": 0,
          "dataWritten": 0,
          "description": "Delta: Job group for statement 29:\n# Code to save the userRecs into lakehouse\nbatch_predictions.write.format(\"delta\").mode(\"overwrite\").save(\n    f\"{DATA_FOLDER}/predictions/batch_predictions\"\n): Compute snapshot for version: 1",
          "displayName": "toString at String.java:2994",
          "jobGroup": "29",
          "jobId": 372,
          "killedTasksSummary": {},
          "name": "toString at String.java:2994",
          "numActiveStages": 0,
          "numActiveTasks": 0,
          "numCompletedIndices": 2,
          "numCompletedStages": 1,
          "numCompletedTasks": 2,
          "numFailedStages": 0,
          "numFailedTasks": 0,
          "numKilledTasks": 0,
          "numSkippedStages": 0,
          "numSkippedTasks": 0,
          "numTasks": 2,
          "rowCount": 0,
          "stageIds": [
           1080
          ],
          "status": "SUCCEEDED",
          "submissionTime": "2023-08-03T23:33:37.523GMT",
          "usageDescription": ""
         },
         {
          "completionTime": "2023-08-03T23:33:37.059GMT",
          "dataRead": 0,
          "dataWritten": 0,
          "description": "Job group for statement 29:\n# Code to save the userRecs into lakehouse\nbatch_predictions.write.format(\"delta\").mode(\"overwrite\").save(\n    f\"{DATA_FOLDER}/predictions/batch_predictions\"\n)",
          "displayName": "$anonfun$recordDeltaOperationInternal$1 at SynapseLoggingShim.scala:95",
          "jobGroup": "29",
          "jobId": 371,
          "killedTasksSummary": {},
          "name": "$anonfun$recordDeltaOperationInternal$1 at SynapseLoggingShim.scala:95",
          "numActiveStages": 0,
          "numActiveTasks": 0,
          "numCompletedIndices": 50,
          "numCompletedStages": 1,
          "numCompletedTasks": 50,
          "numFailedStages": 0,
          "numFailedTasks": 0,
          "numKilledTasks": 0,
          "numSkippedStages": 1,
          "numSkippedTasks": 1,
          "numTasks": 51,
          "rowCount": 0,
          "stageIds": [
           1078,
           1079
          ],
          "status": "SUCCEEDED",
          "submissionTime": "2023-08-03T23:33:36.967GMT",
          "usageDescription": ""
         },
         {
          "completionTime": "2023-08-03T23:33:36.886GMT",
          "dataRead": 0,
          "dataWritten": 0,
          "description": "Job group for statement 29:\n# Code to save the userRecs into lakehouse\nbatch_predictions.write.format(\"delta\").mode(\"overwrite\").save(\n    f\"{DATA_FOLDER}/predictions/batch_predictions\"\n)",
          "displayName": "save at NativeMethodAccessorImpl.java:0",
          "jobGroup": "29",
          "jobId": 370,
          "killedTasksSummary": {},
          "name": "save at NativeMethodAccessorImpl.java:0",
          "numActiveStages": 0,
          "numActiveTasks": 0,
          "numCompletedIndices": 1,
          "numCompletedStages": 1,
          "numCompletedTasks": 1,
          "numFailedStages": 0,
          "numFailedTasks": 0,
          "numKilledTasks": 0,
          "numSkippedStages": 2,
          "numSkippedTasks": 205,
          "numTasks": 206,
          "rowCount": 0,
          "stageIds": [
           1076,
           1077,
           1075
          ],
          "status": "SUCCEEDED",
          "submissionTime": "2023-08-03T23:33:36.478GMT",
          "usageDescription": ""
         },
         {
          "completionTime": "2023-08-03T23:33:36.440GMT",
          "dataRead": 0,
          "dataWritten": 0,
          "description": "Job group for statement 29:\n# Code to save the userRecs into lakehouse\nbatch_predictions.write.format(\"delta\").mode(\"overwrite\").save(\n    f\"{DATA_FOLDER}/predictions/batch_predictions\"\n)",
          "displayName": "save at NativeMethodAccessorImpl.java:0",
          "jobGroup": "29",
          "jobId": 369,
          "killedTasksSummary": {},
          "name": "save at NativeMethodAccessorImpl.java:0",
          "numActiveStages": 0,
          "numActiveTasks": 0,
          "numCompletedIndices": 200,
          "numCompletedStages": 1,
          "numCompletedTasks": 200,
          "numFailedStages": 0,
          "numFailedTasks": 0,
          "numKilledTasks": 0,
          "numSkippedStages": 1,
          "numSkippedTasks": 5,
          "numTasks": 205,
          "rowCount": 0,
          "stageIds": [
           1073,
           1074
          ],
          "status": "SUCCEEDED",
          "submissionTime": "2023-08-03T23:33:35.669GMT",
          "usageDescription": ""
         },
         {
          "completionTime": "2023-08-03T23:33:35.568GMT",
          "dataRead": 0,
          "dataWritten": 0,
          "description": "Job group for statement 29:\n# Code to save the userRecs into lakehouse\nbatch_predictions.write.format(\"delta\").mode(\"overwrite\").save(\n    f\"{DATA_FOLDER}/predictions/batch_predictions\"\n)",
          "displayName": "save at NativeMethodAccessorImpl.java:0",
          "jobGroup": "29",
          "jobId": 367,
          "killedTasksSummary": {},
          "name": "save at NativeMethodAccessorImpl.java:0",
          "numActiveStages": 0,
          "numActiveTasks": 0,
          "numCompletedIndices": 200,
          "numCompletedStages": 1,
          "numCompletedTasks": 200,
          "numFailedStages": 0,
          "numFailedTasks": 0,
          "numKilledTasks": 0,
          "numSkippedStages": 1,
          "numSkippedTasks": 5,
          "numTasks": 205,
          "rowCount": 0,
          "stageIds": [
           1068,
           1069
          ],
          "status": "SUCCEEDED",
          "submissionTime": "2023-08-03T23:33:34.993GMT",
          "usageDescription": ""
         },
         {
          "completionTime": "2023-08-03T23:33:34.883GMT",
          "dataRead": 0,
          "dataWritten": 0,
          "description": "Delta: Job group for statement 29:\n# Code to save the userRecs into lakehouse\nbatch_predictions.write.format(\"delta\").mode(\"overwrite\").save(\n    f\"{DATA_FOLDER}/predictions/batch_predictions\"\n): Compute snapshot for version: 0",
          "displayName": "toString at String.java:2994",
          "jobGroup": "29",
          "jobId": 366,
          "killedTasksSummary": {},
          "name": "toString at String.java:2994",
          "numActiveStages": 0,
          "numActiveTasks": 0,
          "numCompletedIndices": 1,
          "numCompletedStages": 1,
          "numCompletedTasks": 1,
          "numFailedStages": 0,
          "numFailedTasks": 0,
          "numKilledTasks": 0,
          "numSkippedStages": 2,
          "numSkippedTasks": 51,
          "numTasks": 52,
          "rowCount": 0,
          "stageIds": [
           1065,
           1066,
           1067
          ],
          "status": "SUCCEEDED",
          "submissionTime": "2023-08-03T23:33:34.850GMT",
          "usageDescription": ""
         },
         {
          "completionTime": "2023-08-03T23:33:34.820GMT",
          "dataRead": 0,
          "dataWritten": 0,
          "description": "Delta: Job group for statement 29:\n# Code to save the userRecs into lakehouse\nbatch_predictions.write.format(\"delta\").mode(\"overwrite\").save(\n    f\"{DATA_FOLDER}/predictions/batch_predictions\"\n): Compute snapshot for version: 0",
          "displayName": "toString at String.java:2994",
          "jobGroup": "29",
          "jobId": 365,
          "killedTasksSummary": {},
          "name": "toString at String.java:2994",
          "numActiveStages": 0,
          "numActiveTasks": 0,
          "numCompletedIndices": 50,
          "numCompletedStages": 1,
          "numCompletedTasks": 50,
          "numFailedStages": 0,
          "numFailedTasks": 0,
          "numKilledTasks": 0,
          "numSkippedStages": 1,
          "numSkippedTasks": 1,
          "numTasks": 51,
          "rowCount": 0,
          "stageIds": [
           1063,
           1064
          ],
          "status": "SUCCEEDED",
          "submissionTime": "2023-08-03T23:33:34.136GMT",
          "usageDescription": ""
         },
         {
          "completionTime": "2023-08-03T23:33:33.974GMT",
          "dataRead": 0,
          "dataWritten": 0,
          "description": "Delta: Job group for statement 29:\n# Code to save the userRecs into lakehouse\nbatch_predictions.write.format(\"delta\").mode(\"overwrite\").save(\n    f\"{DATA_FOLDER}/predictions/batch_predictions\"\n): Compute snapshot for version: 0",
          "displayName": "toString at String.java:2994",
          "jobGroup": "29",
          "jobId": 364,
          "killedTasksSummary": {},
          "name": "toString at String.java:2994",
          "numActiveStages": 0,
          "numActiveTasks": 0,
          "numCompletedIndices": 1,
          "numCompletedStages": 1,
          "numCompletedTasks": 1,
          "numFailedStages": 0,
          "numFailedTasks": 0,
          "numKilledTasks": 0,
          "numSkippedStages": 0,
          "numSkippedTasks": 0,
          "numTasks": 1,
          "rowCount": 0,
          "stageIds": [
           1062
          ],
          "status": "SUCCEEDED",
          "submissionTime": "2023-08-03T23:33:33.917GMT",
          "usageDescription": ""
         }
        ],
        "limit": 20,
        "numbers": {
         "FAILED": 0,
         "RUNNING": 0,
         "SUCCEEDED": 10,
         "UNKNOWN": 0
        },
        "rule": "ALL_DESC"
       },
       "spark_pool": null,
       "state": "finished",
       "statement_id": 29
      },
      "text/plain": [
       "StatementMeta(, b868b727-3e52-4d09-a1fe-24b4a84b4a17, 29, Finished, Available)"
      ]
     },
     "metadata": {},
     "output_type": "display_data"
    }
   ],
   "source": [
    "# Code to save the userRecs into lakehouse\n",
    "batch_predictions.write.format(\"delta\").mode(\"overwrite\").save(\n",
    "    f\"{DATA_FOLDER}/predictions/batch_predictions\"\n",
    ")"
   ]
  },
  {
   "cell_type": "code",
   "execution_count": null,
   "id": "67b7e8c5-3998-43f1-841b-1b6166d2b7d3",
   "metadata": {
    "jupyter": {
     "outputs_hidden": false,
     "source_hidden": false
    },
    "nteract": {
     "transient": {
      "deleting": false
     }
    }
   },
   "outputs": [
    {
     "data": {
      "application/vnd.livy.statement-meta+json": {
       "execution_finish_time": "2023-08-03T23:33:39.292957Z",
       "execution_start_time": "2023-08-03T23:33:38.9815962Z",
       "livy_statement_state": "available",
       "parent_msg_id": "fc594740-da7c-4d20-ae3c-dfa6522f8e4e",
       "queued_time": "2023-08-03T23:28:04.5536457Z",
       "session_id": "b868b727-3e52-4d09-a1fe-24b4a84b4a17",
       "session_start_time": null,
       "spark_jobs": {
        "jobs": [],
        "limit": 20,
        "numbers": {
         "FAILED": 0,
         "RUNNING": 0,
         "SUCCEEDED": 0,
         "UNKNOWN": 0
        },
        "rule": "ALL_DESC"
       },
       "spark_pool": null,
       "state": "finished",
       "statement_id": 30
      },
      "text/plain": [
       "StatementMeta(, b868b727-3e52-4d09-a1fe-24b4a84b4a17, 30, Finished, Available)"
      ]
     },
     "metadata": {},
     "output_type": "display_data"
    },
    {
     "name": "stdout",
     "output_type": "stream",
     "text": [
      "Full run cost 293 seconds.\n"
     ]
    }
   ],
   "source": [
    "print(f\"Full run cost {int(time.time() - ts)} seconds.\")"
   ]
  }
 ],
 "metadata": {
  "kernel_info": {
   "name": "synapse_pyspark"
  },
  "kernelspec": {
   "display_name": "Synapse PySpark",
   "language": "Python",
   "name": "synapse_pyspark"
  },
  "language_info": {
   "name": "python"
  },
  "notebook_environment": {},
  "nteract": {
   "version": "nteract-front-end@1.0.0"
  },
  "save_output": true,
  "spark_compute": {
   "compute_id": "/trident/default",
   "session_options": {
    "conf": {},
    "enableDebugMode": false
   }
  }
 },
 "nbformat": 4,
 "nbformat_minor": 5
}
